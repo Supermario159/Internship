{
 "cells": [
  {
   "cell_type": "code",
   "execution_count": 1,
   "id": "33ba699a",
   "metadata": {},
   "outputs": [
    {
     "name": "stdout",
     "output_type": "stream",
     "text": [
      "Requirement already satisfied: selenium in c:\\programdata\\anaconda3\\lib\\site-packages (4.1.5)\n",
      "Requirement already satisfied: trio-websocket~=0.9 in c:\\programdata\\anaconda3\\lib\\site-packages (from selenium) (0.9.2)\n",
      "Requirement already satisfied: urllib3[secure,socks]~=1.26 in c:\\programdata\\anaconda3\\lib\\site-packages (from selenium) (1.26.7)\n",
      "Requirement already satisfied: trio~=0.17 in c:\\programdata\\anaconda3\\lib\\site-packages (from selenium) (0.20.0)\n",
      "Requirement already satisfied: sortedcontainers in c:\\programdata\\anaconda3\\lib\\site-packages (from trio~=0.17->selenium) (2.4.0)\n",
      "Requirement already satisfied: attrs>=19.2.0 in c:\\programdata\\anaconda3\\lib\\site-packages (from trio~=0.17->selenium) (21.2.0)\n",
      "Requirement already satisfied: async-generator>=1.9 in c:\\programdata\\anaconda3\\lib\\site-packages (from trio~=0.17->selenium) (1.10)\n",
      "Requirement already satisfied: sniffio in c:\\programdata\\anaconda3\\lib\\site-packages (from trio~=0.17->selenium) (1.2.0)\n",
      "Requirement already satisfied: idna in c:\\programdata\\anaconda3\\lib\\site-packages (from trio~=0.17->selenium) (3.2)\n",
      "Requirement already satisfied: outcome in c:\\programdata\\anaconda3\\lib\\site-packages (from trio~=0.17->selenium) (1.1.0)\n",
      "Requirement already satisfied: cffi>=1.14 in c:\\programdata\\anaconda3\\lib\\site-packages (from trio~=0.17->selenium) (1.14.6)\n",
      "Requirement already satisfied: pycparser in c:\\programdata\\anaconda3\\lib\\site-packages (from cffi>=1.14->trio~=0.17->selenium) (2.20)\n",
      "Requirement already satisfied: wsproto>=0.14 in c:\\programdata\\anaconda3\\lib\\site-packages (from trio-websocket~=0.9->selenium) (1.1.0)\n",
      "Requirement already satisfied: pyOpenSSL>=0.14 in c:\\programdata\\anaconda3\\lib\\site-packages (from urllib3[secure,socks]~=1.26->selenium) (21.0.0)\n",
      "Requirement already satisfied: cryptography>=1.3.4 in c:\\programdata\\anaconda3\\lib\\site-packages (from urllib3[secure,socks]~=1.26->selenium) (3.4.8)\n",
      "Requirement already satisfied: certifi in c:\\programdata\\anaconda3\\lib\\site-packages (from urllib3[secure,socks]~=1.26->selenium) (2021.10.8)\n",
      "Requirement already satisfied: PySocks!=1.5.7,<2.0,>=1.5.6 in c:\\programdata\\anaconda3\\lib\\site-packages (from urllib3[secure,socks]~=1.26->selenium) (1.7.1)\n",
      "Requirement already satisfied: six>=1.5.2 in c:\\programdata\\anaconda3\\lib\\site-packages (from pyOpenSSL>=0.14->urllib3[secure,socks]~=1.26->selenium) (1.16.0)\n",
      "Requirement already satisfied: h11<1,>=0.9.0 in c:\\programdata\\anaconda3\\lib\\site-packages (from wsproto>=0.14->trio-websocket~=0.9->selenium) (0.13.0)\n"
     ]
    }
   ],
   "source": [
    "!pip install selenium\n",
    "import selenium \n",
    "import pandas as pd\n",
    "import time\n",
    "from selenium import webdriver\n",
    "from selenium.common.exceptions import StaleElementReferenceException, NoSuchElementException\n",
    "import requests\n",
    "import re\n",
    "import time"
   ]
  },
  {
   "cell_type": "code",
   "execution_count": 2,
   "id": "8e51314d",
   "metadata": {},
   "outputs": [
    {
     "name": "stderr",
     "output_type": "stream",
     "text": [
      "C:\\Users\\SUDIP\\AppData\\Local\\Temp/ipykernel_9720/1004079457.py:1: DeprecationWarning: executable_path has been deprecated, please pass in a Service object\n",
      "  driver=webdriver.Chrome(r\"E:\\webdriver\\chromedriver.exe\")\n"
     ]
    }
   ],
   "source": [
    "driver=webdriver.Chrome(r\"E:\\webdriver\\chromedriver.exe\")"
   ]
  },
  {
   "cell_type": "code",
   "execution_count": 3,
   "id": "96907511",
   "metadata": {},
   "outputs": [],
   "source": [
    "driver.get('https://www.naukri.com/')"
   ]
  },
  {
   "cell_type": "code",
   "execution_count": 4,
   "id": "af1f69a3",
   "metadata": {},
   "outputs": [
    {
     "name": "stderr",
     "output_type": "stream",
     "text": [
      "C:\\Users\\SUDIP\\AppData\\Local\\Temp/ipykernel_2484/676447668.py:1: DeprecationWarning: find_element_by_class_name is deprecated. Please use find_element(by=By.CLASS_NAME, value=name) instead\n",
      "  designation=driver.find_element_by_class_name(\"suggestor-input \")\n",
      "C:\\Users\\SUDIP\\AppData\\Local\\Temp/ipykernel_2484/676447668.py:2: DeprecationWarning: find_element_by_xpath is deprecated. Please use find_element(by=By.XPATH, value=xpath) instead\n",
      "  location=driver.find_element_by_xpath('/html/body/div/div[2]/div[3]/div/div/div[3]/div/div/div/input')\n",
      "C:\\Users\\SUDIP\\AppData\\Local\\Temp/ipykernel_2484/676447668.py:6: DeprecationWarning: find_element_by_xpath is deprecated. Please use find_element(by=By.XPATH, value=xpath) instead\n",
      "  search=driver.find_element_by_xpath('/html/body/div/div[2]/div[3]/div/div/div[6]')\n"
     ]
    }
   ],
   "source": [
    "designation=driver.find_element_by_class_name(\"suggestor-input \")\n",
    "location=driver.find_element_by_xpath('/html/body/div/div[2]/div[3]/div/div/div[3]/div/div/div/input')\n",
    "designation.send_keys(\"Data Scientist\")\n",
    "location.send_keys(\"Bangalore\")\n",
    "\n",
    "search=driver.find_element_by_xpath('/html/body/div/div[2]/div[3]/div/div/div[6]')\n",
    "search.click()\n",
    "time.sleep(4)"
   ]
  },
  {
   "cell_type": "code",
   "execution_count": 20,
   "id": "dff73512",
   "metadata": {},
   "outputs": [
    {
     "name": "stderr",
     "output_type": "stream",
     "text": [
      "C:\\Users\\SUDIP\\AppData\\Local\\Temp/ipykernel_2484/4098912006.py:3: DeprecationWarning: find_elements_by_xpath is deprecated. Please use find_elements(by=By.XPATH, value=xpath) instead\n",
      "  url=driver.find_elements_by_xpath('//a[@class=\"title fw500 ellipsis\"]')\n"
     ]
    },
    {
     "data": {
      "text/plain": [
       "['https://www.naukri.com/job-listings-data-scientist-applied-materials-india-private-limited-bangalore-bengaluru-4-to-7-years-280422907553?src=jobsearchDesk&sid=16533184400703608_5&xp=1&px=11',\n",
       " 'https://www.naukri.com/job-listings-principal-data-scientist-walmart-labs-bangalore-bengaluru-7-to-12-years-270921500528?src=jobsearchDesk&sid=16533184400703608_5&xp=2&px=11',\n",
       " 'https://www.naukri.com/job-listings-commercial-analytics-data-scientist-dell-international-services-india-private-limited-bangalore-bengaluru-12-to-15-years-270322906747?src=jobsearchDesk&sid=16533184400703608_5&xp=3&px=11',\n",
       " 'https://www.naukri.com/job-listings-data-scientist-artificial-intelligence-ibm-india-pvt-limited-bangalore-bengaluru-12-to-15-years-270322905745?src=jobsearchDesk&sid=16533184400703608_5&xp=4&px=11',\n",
       " 'https://www.naukri.com/job-listings-data-scientist-artificial-intelligence-ibm-india-pvt-limited-bangalore-bengaluru-12-to-15-years-270322903404?src=jobsearchDesk&sid=16533184400703608_5&xp=5&px=11',\n",
       " 'https://www.naukri.com/job-listings-data-scientist-applied-materials-india-private-limited-bangalore-bengaluru-4-to-7-years-250422909599?src=jobsearchDesk&sid=16533184400703608_5&xp=6&px=11',\n",
       " 'https://www.naukri.com/job-listings-data-scientist-artificial-intelligence-ibm-india-pvt-limited-bangalore-bengaluru-12-to-15-years-250322907639?src=jobsearchDesk&sid=16533184400703608_5&xp=7&px=11',\n",
       " 'https://www.naukri.com/job-listings-data-scientist-cred-bangalore-bengaluru-2-to-5-years-250222500905?src=jobsearchDesk&sid=16533184400703608_5&xp=8&px=11',\n",
       " 'https://www.naukri.com/job-listings-data-scientist-applied-materials-india-private-limited-bangalore-bengaluru-2-to-7-years-230422905075?src=jobsearchDesk&sid=16533184400703608_5&xp=9&px=11',\n",
       " 'https://www.naukri.com/job-listings-data-scientist-becton-dickinson-india-pvt-ltd-bangalore-bengaluru-3-to-7-years-220122500085?src=jobsearchDesk&sid=16533184400703608_5&xp=10&px=11',\n",
       " 'https://www.naukri.com/job-listings-staff-data-scientist-computer-vision-baker-hughes-the-network-bangalore-bengaluru-3-to-7-years-210322500212?src=jobsearchDesk&sid=16533184400703608_5&xp=11&px=11',\n",
       " 'https://www.naukri.com/job-listings-staff-data-scientist-walmart-labs-bangalore-bengaluru-4-to-8-years-200422501097?src=jobsearchDesk&sid=16533184400703608_5&xp=12&px=11',\n",
       " 'https://www.naukri.com/job-listings-data-scientist-walmart-labs-bangalore-bengaluru-4-to-8-years-200422501092?src=jobsearchDesk&sid=16533184400703608_5&xp=13&px=11',\n",
       " 'https://www.naukri.com/job-listings-data-scientist-ii-merchandise-discovery-swiggy-bangalore-bengaluru-2-to-5-years-190422500604?src=jobsearchDesk&sid=16533184400703608_5&xp=14&px=11',\n",
       " 'https://www.naukri.com/job-listings-staff-data-scientist-walmart-labs-bangalore-bengaluru-4-to-8-years-120422500866?src=jobsearchDesk&sid=16533184400703608_5&xp=15&px=11',\n",
       " 'https://www.naukri.com/job-listings-staff-data-scientist-personalization-walmart-labs-bangalore-bengaluru-4-to-7-years-110322501819?src=jobsearchDesk&sid=16533184400703608_5&xp=16&px=11',\n",
       " 'https://www.naukri.com/job-listings-data-scientist-ai-flagship-schneider-electric-india-pvt-ltd-bangalore-bengaluru-4-to-7-years-081021501357?src=jobsearchDesk&sid=16533184400703608_5&xp=17&px=11',\n",
       " 'https://www.naukri.com/job-listings-data-scientist-artificial-intelligence-ibm-india-pvt-limited-bangalore-bengaluru-6-to-11-years-070522905536?src=jobsearchDesk&sid=16533184400703608_5&xp=18&px=11',\n",
       " 'https://www.naukri.com/job-listings-data-scientist-marketplace-walmart-labs-bangalore-bengaluru-5-to-7-years-020322500920?src=jobsearchDesk&sid=16533184400703608_5&xp=19&px=11',\n",
       " 'https://www.naukri.com/job-listings-data-scientist-artificial-intelligence-ibm-india-pvt-limited-bangalore-bengaluru-3-to-7-years-290422909227?src=jobsearchDesk&sid=16533184400703608_5&xp=20&px=11']"
      ]
     },
     "execution_count": 20,
     "metadata": {},
     "output_type": "execute_result"
    }
   ],
   "source": [
    "job_url=[]\n",
    "\n",
    "url=driver.find_elements_by_xpath('//a[@class=\"title fw500 ellipsis\"]')\n",
    "for i in url:\n",
    "    job_url.append(i.get_attribute('href'))\n",
    "  \n",
    "    \n",
    "job_url"
   ]
  },
  {
   "cell_type": "code",
   "execution_count": 21,
   "id": "f3fbcfa2",
   "metadata": {},
   "outputs": [
    {
     "data": {
      "text/plain": [
       "20"
      ]
     },
     "execution_count": 21,
     "metadata": {},
     "output_type": "execute_result"
    }
   ],
   "source": [
    "len(job_url)"
   ]
  },
  {
   "cell_type": "code",
   "execution_count": 22,
   "id": "5116a5a8",
   "metadata": {},
   "outputs": [
    {
     "name": "stderr",
     "output_type": "stream",
     "text": [
      "C:\\Users\\SUDIP\\AppData\\Local\\Temp/ipykernel_2484/4147635227.py:6: DeprecationWarning: find_element_by_xpath is deprecated. Please use find_element(by=By.XPATH, value=xpath) instead\n",
      "  description=driver.find_element_by_xpath('/html/body/div[1]/main/div[2]/div[2]/section[2]/div[1]')\n"
     ]
    },
    {
     "data": {
      "text/plain": [
       "['Key Responsibilities\\nApplies practice methodologies to solve customer high value problems (HVP) like chamber/ tool matching, defect reduction, yield improvement, technology/ recipe transfer to HVM fabs, preventive/corrective activities etc.\\nCollaborating with Technical Consultants & Solution Architect to provide solutions to meet customer needs.\\nIs responsible for the technical quality of the work delivered to meet customer engagement requirements\\nManage execution of multiple projects in parallel\\nAccountable for managing the customer and customer satisfaction during project\\nMake best use of available analytics applications (both in-house or commercial) and also guide the application development team as a subject matter expert\\nRequirements\\nBachelors/ Masters/ PhD in the field of Microelectronics, Semiconductor Physics/ Technology or related fields with at least 3 to 7 years experience in the industry\\nWork experience as a Semiconductor process engineer/ Yield analyst improving efficiency and quality, process transfer from development to production, applying analytical techniques for troubleshooting tool issues in semiconductor fabs\\nGood to have prior experience in data analysis using descriptive statistical analysis techniques such as Univariate/ Multivariate analysis or other Machine Learning techniques\\nThe ideal candidate will have an added advantage if having skills in scripting using R, Python, Shell scripts and the like\\nFunctional Knowledge\\nDemonstrates conceptual and practical expertise in using data analytics to solve various issues in Semiconductor fabs\\nLeadership\\nActs as a resource for colleagues with less experience; may lead small projects with manageable risks and resource requirements\\nProblem Solving\\nSolves complex problems; takes a new perspective on existing solutions; exercises judgment based on the analysis of multiple sources of information\\nImpact\\nImpacts a range of customer, operational, project or service activities within own team and other related teams; works within broad guidelines and policies\\nInterpersonal Skills\\nExplains difficult or sensitive information; works to build consensus\\n\\n\\nQualifications\\nEducation:Bachelors DegreeSkillsCertifications:Languages:Years of Experience: 4 - 7 YearsWork Experience:\\n\\nAdditional Information\\nTravel:Yes, 10% of the TimeRelocation Eligible:Yes.',\n",
       " '  As a Principal Data Scientist for Walmart Global Tech, you ll have the opportunity to\\nApply and/or develop statistical modeling techniques (such as deep neural networks and Bayesian models), optimization methods and other ML techniques.\\nDevelop efficient and scalable models at Walmart scale.\\nCollaborate with counterparts in business, engineering and science to find impactful solutions to business problems.\\nDefine and/or own the model goodness metrics and track the business impact over time.\\nPresent recommendations from complex analysis to business partners in clear and actionable form, influencing the future plans.\\nYour Responsibility\\nManage the continuous improvement of data science and machine learning by following industry best practices and staying up-to-date with and extending the state-of-the-art in Machine Learning Research.\\nIntegrate data science solutions into current business processes.\\nDevelop and recommend process standards and best practices in Machine Learning as applicable to the retail industry.\\nMentor peers and junior members and handle multiple projects at the same time.\\nConsult with business stakeholders across stores and e-commerce businesses regarding algorithm-based recommendations and be a thought-leader to develop these into business actions.\\nEngage and partner with universities, institutes and vendor partners to bring in ideas and innovation into the labs environment.\\nPeer review and publish work in top tier ML/AI conferences such as NIPS, ICML, AAAI and COLT\\nParticipate and speak at various external forums such as research conferences and technical summits.\\nPromote and support company policies, procedures, mission, values, and standards of ethics and integrity\\nYour Qualifications:\\n12 years of Experience in analyzing complex problems and translating them to data science algorithms with due attention to computational efficiency and testing at scale.\\nExpertise in machine learning, supervised and unsupervised: Forecasting, Classification, Data/Text Mining, NLP, Decision Trees, Adaptive Decision Algorithms, Random Forest, Search Algorithms, Neural Networks, Deep Learning Algorithms and Re-inforecement Learning\\nExperience in statistical learning: Predictive Prescriptive Analytics, Web Analytics, Parametric and Non-parametric models, Regression, Time Series, Dynamic / Causal Model, Statistical Learning, Guided Decisions, Topic Modeling\\nExperience working with big data - identifying trends, patterns, and outliers in large volumes of data.\\nExperience with Python and one Object Oriented Programming Language.\\nWorked with at least one main stream machine learning framework such as caffe, convNet, Tensor Flow and Torch\\nExperience with SQL, relational databases and data warehouse\\nExperience with big data platforms - Hadoop(Hive, Pig, Map Reduce, HQL) / Spark / H20\\nAdditional Preferred Qualifications:\\nExpertise in Reinforcement Learning and Deep RL.\\nExperience with Google Cloud Platform or equivalent.\\nExperience with GPU/CUDA for computational efficiency\\nOur Ideal Candidate\\nYou are a technically strong and high-performing individual with excellent communication skills, proven research skills, and a strong customer focus. You stay updated with the latest research and technology ideas and have a passion to utilize innovative ways to solve problems. You have published in top peer-reviewed international journals and conferences in Machine Learning such as ICML, NIPS, AAAI, and COLT. You are a good storyteller and able to simply articulate the intricacies of your models as well as explain your results clearly to stakeholders. You have industry knowledge of the retail space, with a keen interest in keeping up to date on the latest happenings in this space.',\n",
       " 'Data Science Consultant\\nData Science is all about breaking new ground to enable businesses to answer their most urgent questions. Pioneering massively parallel data-intensive analytic processing, our mission is to develop a whole new approach to generating meaning and value from petabyte-scale data sets and shape brand new methodologies, tools, statistical methods and models. What’s more, we are in collaboration with leading academics, industry experts and highly skilled engineers to equip our customers to generate sophisticated new insights from the biggest of big data.\\nJoin us as a Consultant on our Data Science team in India to do the best work of your career and make a profound social impact.\\n\\nWhat you’ll achieve\\nAs a Data Scientist you will participate mostly on Machine Learning projects. Your responsibility is to contribute to business strategy and influence decision making based on information gained from deep dive analysis.\\nYou will:\\nProduce actionable and compelling recommendations by interpreting insights from complex data sets.\\nDesign processes to consolidate and examine unstructured data to generate actionable insights.\\nPartner with business leaders, engineers and industry experts to construct predictive models, algorithms and probability engines\\n\\nTake the first step towards your dream career\\nEvery Dell Technologies team member brings something unique to the table. Here’s what we are looking for with this role:\\n\\nEssential Requirements\\n12 to 15 years of related work experience with advanced statistical skills and appropriate Mathematical knowledge\\nKnowledge of sales organizations and goals\\nHaving Statistical and data modelling skills (Python, R)\\nKnowledge of Data visualization techniques\\nWilling to master Data transformation and database development (ETL, SQL OLAP, Teradata)\\n\\nDesirable Requirements\\nKnowledge of Data visualization techniques\\nKnowledge of data science approaches (Regression, Clustering, Classification)',\n",
       " 'Not Present',\n",
       " 'Not Present']"
      ]
     },
     "execution_count": 22,
     "metadata": {},
     "output_type": "execute_result"
    }
   ],
   "source": [
    "jd=[]\n",
    "for i in job_url[0:5]:\n",
    "    driver.get(i)\n",
    "    time.sleep(10)\n",
    "    try:\n",
    "        description=driver.find_element_by_xpath('/html/body/div[1]/main/div[2]/div[2]/section[2]/div[1]')\n",
    "        jd.append(description.text) \n",
    "    except NoSuchElementException:\n",
    "        jd.append('Not Present')\n",
    "\n",
    "jd"
   ]
  },
  {
   "cell_type": "code",
   "execution_count": 4,
   "id": "f2bec595",
   "metadata": {},
   "outputs": [
    {
     "name": "stdout",
     "output_type": "stream",
     "text": [
      "Enter the product: guitar\n"
     ]
    }
   ],
   "source": [
    "inp=input('Enter the product: ')"
   ]
  },
  {
   "cell_type": "code",
   "execution_count": 3,
   "id": "cfc05e1d",
   "metadata": {},
   "outputs": [
    {
     "name": "stderr",
     "output_type": "stream",
     "text": [
      "C:\\Users\\SUDIP\\AppData\\Local\\Temp/ipykernel_8964/1004079457.py:1: DeprecationWarning: executable_path has been deprecated, please pass in a Service object\n",
      "  driver=webdriver.Chrome(r\"E:\\webdriver\\chromedriver.exe\")\n"
     ]
    }
   ],
   "source": [
    "driver=webdriver.Chrome(r\"E:\\webdriver\\chromedriver.exe\")"
   ]
  },
  {
   "cell_type": "code",
   "execution_count": 3,
   "id": "2edcd34b",
   "metadata": {},
   "outputs": [],
   "source": [
    "driver.get('https://www.amazon.com/')"
   ]
  },
  {
   "cell_type": "code",
   "execution_count": 5,
   "id": "55c18591",
   "metadata": {
    "scrolled": true
   },
   "outputs": [
    {
     "name": "stderr",
     "output_type": "stream",
     "text": [
      "C:\\Users\\SUDIP\\AppData\\Local\\Temp/ipykernel_1828/899996017.py:1: DeprecationWarning: find_element_by_* commands are deprecated. Please use find_element() instead\n",
      "  product=driver.find_element_by_id(\"twotabsearchtextbox\")\n",
      "C:\\Users\\SUDIP\\AppData\\Local\\Temp/ipykernel_1828/899996017.py:4: DeprecationWarning: find_element_by_xpath is deprecated. Please use find_element(by=By.XPATH, value=xpath) instead\n",
      "  search=driver.find_element_by_xpath('/html/body/div[1]/header/div/div[1]/div[2]/div/form/div[3]')\n"
     ]
    }
   ],
   "source": [
    "product=driver.find_element_by_id(\"twotabsearchtextbox\")\n",
    "product.send_keys(inp)\n",
    "\n",
    "search=driver.find_element_by_xpath('/html/body/div[1]/header/div/div[1]/div[2]/div/form/div[3]')\n",
    "search.click()"
   ]
  },
  {
   "cell_type": "code",
   "execution_count": 10,
   "id": "960885ac",
   "metadata": {},
   "outputs": [
    {
     "name": "stderr",
     "output_type": "stream",
     "text": [
      "C:\\Users\\SUDIP\\AppData\\Local\\Temp/ipykernel_4112/206450673.py:3: DeprecationWarning: find_elements_by_xpath is deprecated. Please use find_elements(by=By.XPATH, value=xpath) instead\n",
      "  url=driver.find_elements_by_xpath('//a[@class=\"a-link-normal s-underline-text s-underline-link-text s-link-style a-text-normal\"]')\n",
      "C:\\Users\\SUDIP\\AppData\\Local\\Temp/ipykernel_4112/206450673.py:6: DeprecationWarning: find_element_by_xpath is deprecated. Please use find_element(by=By.XPATH, value=xpath) instead\n",
      "  next_page=driver.find_element_by_xpath('//a[@class=\"s-pagination-item s-pagination-next s-pagination-button s-pagination-separator\"]')\n"
     ]
    },
    {
     "data": {
      "text/plain": [
       "['https://www.amazon.com/gp/slredirect/picassoRedirect.html/ref=pa_sp_atf_aps_sr_pg1_1?ie=UTF8&adId=A08864932X76U92KPIFWO&url=%2FMoukey-Acoustic-Beginner-Guitarra-Acustica%2Fdp%2FB097YCQP1F%2Fref%3Dsr_1_1_sspa%3Fcrid%3D3IKGH5V5L5LEH%26keywords%3Dguitar%26qid%3D1653368148%26sprefix%3D%252Caps%252C985%26sr%3D8-1-spons%26psc%3D1%26smid%3DA1N6XPDSWPR6EW&qualifier=1653368148&id=8000063260817261&widgetName=sp_atf',\n",
       " 'https://www.amazon.com/gp/slredirect/picassoRedirect.html/ref=pa_sp_atf_aps_sr_pg1_1?ie=UTF8&adId=A09777851OTU54W57XNE5&url=%2FLoog-Pro-VI-Acoustic-Green%2Fdp%2FB08968C7TY%2Fref%3Dsr_1_2_sspa%3Fcrid%3D3IKGH5V5L5LEH%26keywords%3Dguitar%26qid%3D1653368148%26sprefix%3D%252Caps%252C985%26sr%3D8-2-spons%26psc%3D1%26smid%3DA2PDX4SBQF60FI&qualifier=1653368148&id=8000063260817261&widgetName=sp_atf',\n",
       " 'https://www.amazon.com/gp/slredirect/picassoRedirect.html/ref=pa_sp_atf_aps_sr_pg1_1?ie=UTF8&adId=A08057231RUZTSMCQWOGK&url=%2FDonner-Acoustic-Instrument-Essential-Accessories%2Fdp%2FB09B227R29%2Fref%3Dsr_1_3_sspa%3Fcrid%3D3IKGH5V5L5LEH%26keywords%3Dguitar%26qid%3D1653368148%26sprefix%3D%252Caps%252C985%26sr%3D8-3-spons%26psc%3D1&qualifier=1653368148&id=8000063260817261&widgetName=sp_atf',\n",
       " 'https://www.amazon.com/gp/slredirect/picassoRedirect.html/ref=pa_sp_atf_aps_sr_pg1_1?ie=UTF8&adId=A0468667SEZ00Y8T0MBI&url=%2FWINZZ-Dreadnought-Acoustic-Metronome-Wall-mounted%2Fdp%2FB088CXDLCW%2Fref%3Dsr_1_4_sspa%3Fcrid%3D3IKGH5V5L5LEH%26keywords%3Dguitar%26qid%3D1653368148%26sprefix%3D%252Caps%252C985%26sr%3D8-4-spons%26psc%3D1&qualifier=1653368148&id=8000063260817261&widgetName=sp_atf',\n",
       " 'https://www.amazon.com/YMC-Beginner-Thickness-Pickguards-Electronic/dp/B01I8L5HT6/ref=sr_1_5?crid=3IKGH5V5L5LEH&keywords=guitar&qid=1653368148&sprefix=%2Caps%2C985&sr=8-5',\n",
       " 'https://www.amazon.com/JOYMUSIC-String-Right-Blueburst-JG-38C/dp/B08Q5TK31N/ref=sr_1_6?crid=3IKGH5V5L5LEH&keywords=guitar&qid=1653368148&sprefix=%2Caps%2C985&sr=8-6',\n",
       " 'https://www.amazon.com/First-Act-Acoustic-Sunburst-Guitar/dp/B085TC842Z/ref=sr_1_7?crid=3IKGH5V5L5LEH&keywords=guitar&qid=1653368148&sprefix=%2Caps%2C985&sr=8-7',\n",
       " 'https://www.amazon.com/Beginner-Classical-Acoustic-Guitar-Traditional/dp/B07NVWXTQQ/ref=sxin_13?asc_contentid=amzn1.osa.ae93eb38-8d8f-4ff3-bc98-598224ffd70f.ATVPDKIKX0DER.en_US&asc_contenttype=article&ascsubtag=amzn1.osa.ae93eb38-8d8f-4ff3-bc98-598224ffd70f.ATVPDKIKX0DER.en_US&creativeASIN=B07NVWXTQQ&crid=3IKGH5V5L5LEH&cv_ct_cx=guitar&cv_ct_id=amzn1.osa.ae93eb38-8d8f-4ff3-bc98-598224ffd70f.ATVPDKIKX0DER.en_US&cv_ct_pg=search&cv_ct_we=asin&cv_ct_wn=osp-single-source-earns-comm&keywords=guitar&linkCode=oas&pd_rd_i=B07NVWXTQQ&pd_rd_r=50364dee-c792-4f9a-92fd-9d3e985df851&pd_rd_w=Z4MnM&pd_rd_wg=nVeky&pf_rd_p=972fe9df-7137-4bfb-a1f8-26964225c4e8&pf_rd_r=FCTWK7STBC8AEPCXYRA7&qid=1653368148&sprefix=%2Caps%2C985&sr=1-1-210c4942-d91e-4059-883b-c41a28b928e3&tag=bestgiftszmg-20',\n",
       " 'https://www.amazon.com/YMC-Beginner-Thickness-Pickguards-Electronic/dp/B01I8L5HT6/ref=sxin_13?asc_contentid=amzn1.osa.ae93eb38-8d8f-4ff3-bc98-598224ffd70f.ATVPDKIKX0DER.en_US&asc_contenttype=article&ascsubtag=amzn1.osa.ae93eb38-8d8f-4ff3-bc98-598224ffd70f.ATVPDKIKX0DER.en_US&creativeASIN=B01I8L5HT6&crid=3IKGH5V5L5LEH&cv_ct_cx=guitar&cv_ct_id=amzn1.osa.ae93eb38-8d8f-4ff3-bc98-598224ffd70f.ATVPDKIKX0DER.en_US&cv_ct_pg=search&cv_ct_we=asin&cv_ct_wn=osp-single-source-earns-comm&keywords=guitar&linkCode=oas&pd_rd_i=B01I8L5HT6&pd_rd_r=50364dee-c792-4f9a-92fd-9d3e985df851&pd_rd_w=Z4MnM&pd_rd_wg=nVeky&pf_rd_p=972fe9df-7137-4bfb-a1f8-26964225c4e8&pf_rd_r=FCTWK7STBC8AEPCXYRA7&qid=1653368148&sprefix=%2Caps%2C985&sr=1-2-210c4942-d91e-4059-883b-c41a28b928e3&tag=bestgiftszmg-20',\n",
       " 'https://www.amazon.com/Moukey-Acoustic-Beginner-Guitarra-Acustica/dp/B097YCQP1F/ref=sr_1_8?crid=3IKGH5V5L5LEH&keywords=guitar&qid=1653368148&sprefix=%2Caps%2C985&sr=8-8',\n",
       " 'https://www.amazon.com/Sunburst-Guitar-Accessories-Girls-Beginners/dp/B07H1RZNNX/ref=sr_1_9?crid=3IKGH5V5L5LEH&keywords=guitar&qid=1653368148&sprefix=%2Caps%2C985&sr=8-9',\n",
       " 'https://www.amazon.com/Ibanez-Solid-Body-Electric-Transparent-GRX70QATVT/dp/B07M712PKF/ref=sr_1_10?crid=3IKGH5V5L5LEH&keywords=guitar&qid=1653368148&sprefix=%2Caps%2C985&sr=8-10',\n",
       " 'https://www.amazon.com/Martin-Smith-Acoustic-Strings-Lessons/dp/B078LY6H2Q/ref=sr_1_11?crid=3IKGH5V5L5LEH&keywords=guitar&qid=1653368148&sprefix=%2Caps%2C985&sr=8-11',\n",
       " 'https://www.amazon.com/Taylor-Signature-Acoustic-Electric-Guitar-Natural/dp/B00GYD2B86/ref=sr_1_12?crid=3IKGH5V5L5LEH&keywords=guitar&qid=1653368148&sprefix=%2Caps%2C985&sr=8-12',\n",
       " 'https://www.amazon.com/Fender-Stratocaster-Electric-Fingerboard-Polyester/dp/B07X223RNZ/ref=sr_1_13?crid=3IKGH5V5L5LEH&keywords=guitar&qid=1653368148&sprefix=%2Caps%2C985&sr=8-13',\n",
       " 'https://www.amazon.com/Fender-Newporter-Player-Acoustic-Guitar/dp/B088FZ1WX5/ref=sr_1_14?crid=3IKGH5V5L5LEH&keywords=guitar&qid=1653368148&sprefix=%2Caps%2C985&sr=8-14',\n",
       " 'https://www.amazon.com/Taylor-BTe-Koa-Baby/dp/B011LSL4ZY/ref=sr_1_15?crid=3IKGH5V5L5LEH&keywords=guitar&qid=1653368148&sprefix=%2Caps%2C985&sr=8-15',\n",
       " 'https://www.amazon.com/Traveler-Guitar-String-EG1C-BKG/dp/B07K9M5FG9/ref=sr_1_16?crid=3IKGH5V5L5LEH&keywords=guitar&qid=1653368148&sprefix=%2Caps%2C985&sr=8-16',\n",
       " 'https://www.amazon.com/Squier-Fender-Signature-Jazzmaster-Electric/dp/B07DCTF1DZ/ref=sr_1_17?crid=3IKGH5V5L5LEH&keywords=guitar&qid=1653368148&sprefix=%2Caps%2C985&sr=8-17',\n",
       " 'https://www.amazon.com/Pyle-Electric-Guitar-Amp-Kit/dp/B08XYGJ8BZ/ref=sr_1_18?crid=3IKGH5V5L5LEH&keywords=guitar&qid=1653368148&sprefix=%2Caps%2C985&sr=8-18',\n",
       " 'https://www.amazon.com/Fender-CB-60SCE-Concert-Acoustic-Electric-Guitar/dp/B07D9RMY6K/ref=sr_1_19?crid=3IKGH5V5L5LEH&keywords=guitar&qid=1653368148&sprefix=%2Caps%2C985&sr=8-19',\n",
       " 'https://www.amazon.com/Martin-Acoustic-Electric-Construction-Performing-High-Performance/dp/B07MWY9JXR/ref=sr_1_20?crid=3IKGH5V5L5LEH&keywords=guitar&qid=1653368148&sprefix=%2Caps%2C985&sr=8-20',\n",
       " 'https://www.amazon.com/Journey-Instruments-OF660M-Carbon-Acoustic/dp/B01H444L72/ref=sr_1_21?crid=3IKGH5V5L5LEH&keywords=guitar&qid=1653368148&sprefix=%2Caps%2C985&sr=8-21',\n",
       " 'https://www.amazon.com/Fender-String-Acoustic-Electric-Guitar-972213260/dp/B09LYCG25S/ref=sr_1_22?crid=3IKGH5V5L5LEH&keywords=guitar&qid=1653368148&sprefix=%2Caps%2C985&sr=8-22',\n",
       " 'https://www.amazon.com/Ibanez-AEWC400-Transparent-Black-Sunburst/dp/B0796PSS5G/ref=sr_1_23?crid=3IKGH5V5L5LEH&keywords=guitar&qid=1653368148&sprefix=%2Caps%2C985&sr=8-23',\n",
       " 'https://www.amazon.com/Fender-FA-235E-Concert-Bodied-Acoustic/dp/B07BCQ7P7Z/ref=sr_1_24?crid=3IKGH5V5L5LEH&keywords=guitar&qid=1653368148&sprefix=%2Caps%2C985&sr=8-24',\n",
       " 'https://www.amazon.com/Ovation-CE44-5-Acoustic-Electric-Guitar-Black/dp/B00HT5H7TG/ref=sr_1_25?crid=3IKGH5V5L5LEH&keywords=guitar&qid=1653368148&sprefix=%2Caps%2C985&sr=8-25',\n",
       " 'https://www.amazon.com/RockJam-Acoustic-Superkit-Plectrum-RJW-101-BL-PK/dp/B09167RC9N/ref=sr_1_26?crid=3IKGH5V5L5LEH&keywords=guitar&qid=1653368148&sprefix=%2Caps%2C985&sr=8-26',\n",
       " 'https://www.amazon.com/Ibanez-Semi-Acoustic-Guitar-Walnut-Fretboard/dp/B083YX5NLF/ref=sr_1_27?crid=3IKGH5V5L5LEH&keywords=guitar&qid=1653368148&sprefix=%2Caps%2C985&sr=8-27',\n",
       " 'https://www.amazon.com/Ibanez-String-Solid-Body-Electric-GRG121DXWNF/dp/B0114YLYKA/ref=sr_1_28?crid=3IKGH5V5L5LEH&keywords=guitar&qid=1653368148&sprefix=%2Caps%2C985&sr=8-28',\n",
       " 'https://www.amazon.com/gp/slredirect/picassoRedirect.html/ref=pa_sp_mtf_aps_sr_pg1_1?ie=UTF8&adId=A06305342IUIEIHBQJA1T&url=%2FMOOER-PE100-Portable-Guitar-Effects%2Fdp%2FB07B8BV92C%2Fref%3Dsr_1_29_sspa%3Fcrid%3D3IKGH5V5L5LEH%26keywords%3Dguitar%26qid%3D1653368148%26sprefix%3D%252Caps%252C985%26sr%3D8-29-spons%26psc%3D1&qualifier=1653368148&id=8000063260817261&widgetName=sp_mtf',\n",
       " 'https://www.amazon.com/gp/slredirect/picassoRedirect.html/ref=pa_sp_mtf_aps_sr_pg1_1?ie=UTF8&adId=A06201572FAX4SXLIEC97&url=%2FMOOER-Digital-Modelling-Amplifier-Acoustic%2Fdp%2FB08DXPYMW9%2Fref%3Dsr_1_30_sspa%3Fcrid%3D3IKGH5V5L5LEH%26keywords%3Dguitar%26qid%3D1653368148%26sprefix%3D%252Caps%252C985%26sr%3D8-30-spons%26psc%3D1&qualifier=1653368148&id=8000063260817261&widgetName=sp_mtf',\n",
       " 'https://www.amazon.com/gp/slredirect/picassoRedirect.html/ref=pa_sp_mtf_aps_sr_pg1_1?ie=UTF8&adId=A02566083FEDA0RSQ0BSI&url=%2FJOYO-Wireless-Transmitter-Rechargeable-Instruments%2Fdp%2FB08R8FSFRB%2Fref%3Dsr_1_31_sspa%3Fcrid%3D3IKGH5V5L5LEH%26keywords%3Dguitar%26qid%3D1653368148%26sprefix%3D%252Caps%252C985%26sr%3D8-31-spons%26psc%3D1&qualifier=1653368148&id=8000063260817261&widgetName=sp_mtf',\n",
       " 'https://www.amazon.com/gp/slredirect/picassoRedirect.html/ref=pa_sp_mtf_aps_sr_pg1_1?ie=UTF8&adId=A08942481RN2RWMWTEP0S&url=%2FJupitoo-Backpack-Acoustic-Electric-Classical%2Fdp%2FB08DV1LX3J%2Fref%3Dsr_1_32_sspa%3Fcrid%3D3IKGH5V5L5LEH%26keywords%3Dguitar%26qid%3D1653368148%26sprefix%3D%252Caps%252C985%26sr%3D8-32-spons%26psc%3D1&qualifier=1653368148&id=8000063260817261&widgetName=sp_mtf',\n",
       " 'https://www.amazon.com/Fender-Malibu-Player-Acoustic-Guitar/dp/B07N291JTB/ref=sr_1_33?crid=3IKGH5V5L5LEH&keywords=guitar&qid=1653368148&sprefix=%2Caps%2C985&sr=8-33',\n",
       " 'https://www.amazon.com/Fender-Player-Stratocaster-Electric-Guitar/dp/B07CTYWP32/ref=sr_1_34?crid=3IKGH5V5L5LEH&keywords=guitar&qid=1653368148&sprefix=%2Caps%2C985&sr=8-34',\n",
       " 'https://www.amazon.com/Ibanez-Artcore-Hollowbody-Electric-Guitar/dp/B01N2145N9/ref=sr_1_35?crid=3IKGH5V5L5LEH&keywords=guitar&qid=1653368148&sprefix=%2Caps%2C985&sr=8-35',\n",
       " 'https://www.amazon.com/Fender-Player-Telecaster-Electric-Guitar/dp/B07CXHRXSH/ref=sr_1_36?crid=3IKGH5V5L5LEH&keywords=guitar&qid=1653368148&sprefix=%2Caps%2C985&sr=8-36',\n",
       " 'https://www.amazon.com/Gretsch-Guitars-Rancher-Cutaway-Acoustic-Electric/dp/B01MSEE3KQ/ref=sr_1_37?crid=3IKGH5V5L5LEH&keywords=guitar&qid=1653368148&sprefix=%2Caps%2C985&sr=8-37',\n",
       " 'https://www.amazon.com/Acoustic-Beginner-Acustica-Guitarra-Packaging/dp/B09JNWF2ZT/ref=sr_1_38?crid=3IKGH5V5L5LEH&keywords=guitar&qid=1653368148&sprefix=%2Caps%2C985&sr=8-38',\n",
       " 'https://www.amazon.com/Gretsch-G9520E-Rickey-Acoustic-Electric-Soundhole/dp/B08JCMK9DV/ref=sr_1_39?crid=3IKGH5V5L5LEH&keywords=guitar&qid=1653368148&sprefix=%2Caps%2C985&sr=8-39',\n",
       " 'https://www.amazon.com/Fender-Solid-Body-Electric-Anniversary-0147512360/dp/B08WJJ96V8/ref=sr_1_40?crid=3IKGH5V5L5LEH&keywords=guitar&qid=1653368148&sprefix=%2Caps%2C985&sr=8-40',\n",
       " 'https://www.amazon.com/Martin-String-Backpacker-Travel-Guitar/dp/B000P63U74/ref=sr_1_41?crid=3IKGH5V5L5LEH&keywords=guitar&qid=1653368148&sprefix=%2Caps%2C985&sr=8-41',\n",
       " 'https://www.amazon.com/Fender-CD-60SCE-Handed-String-Acoustic-Electric/dp/B01N4RZJ5T/ref=sr_1_42?crid=3IKGH5V5L5LEH&keywords=guitar&qid=1653368148&sprefix=%2Caps%2C985&sr=8-42',\n",
       " 'https://www.amazon.com/Ibanez-AEG62-Natural-Mahogany-Gloss/dp/B084BX4SN2/ref=sr_1_43?crid=3IKGH5V5L5LEH&keywords=guitar&qid=1653368148&sprefix=%2Caps%2C985&sr=8-43',\n",
       " 'https://www.amazon.com/Guitars-Shoulder-Acoustic-Sunburst-Westerly/dp/B07MZFDJ5T/ref=sr_1_44?crid=3IKGH5V5L5LEH&keywords=guitar&qid=1653368148&sprefix=%2Caps%2C985&sr=8-44',\n",
       " 'https://www.amazon.com/Ovation-Celebrity-Natural-Quilted-CE44X-9B/dp/B08CL4BKNT/ref=sr_1_45?crid=3IKGH5V5L5LEH&keywords=guitar&qid=1653368148&sprefix=%2Caps%2C985&sr=8-45',\n",
       " 'https://www.amazon.com/Fender-Player-Stratocaster-Electric-Guitar/dp/B07CTYPNL3/ref=sr_1_46?crid=3IKGH5V5L5LEH&keywords=guitar&qid=1653368148&sprefix=%2Caps%2C985&sr=8-46',\n",
       " 'https://www.amazon.com/Traveler-Guitar-Acoustic-Electric-ULA-ABNS/dp/B07K7J4CMY/ref=sr_1_47?crid=3IKGH5V5L5LEH&keywords=guitar&qid=1653368148&sprefix=%2Caps%2C985&sr=8-47',\n",
       " 'https://www.amazon.com/Jackson-Electric-Guitar-Fingerboard-Shattered/dp/B08SMLW3Q4/ref=sr_1_48?crid=3IKGH5V5L5LEH&keywords=guitar&qid=1653368148&sprefix=%2Caps%2C985&sr=8-48',\n",
       " 'https://www.amazon.com/acoustic-guitar-for-kids-ages-9-12-beginner/dp/B011A7MNAG/ref=sr_1_49?crid=3IKGH5V5L5LEH&keywords=guitar&qid=1653368148&sprefix=%2Caps%2C985&sr=8-49',\n",
       " 'https://www.amazon.com/Ibanez-JEMJRWH-Signature-6-String-Electric/dp/B00SMYD40O/ref=sr_1_50?crid=3IKGH5V5L5LEH&keywords=guitar&qid=1653368148&sprefix=%2Caps%2C985&sr=8-50',\n",
       " 'https://www.amazon.com/Traveler-Guitar-Mahogany-MK3-MHS/dp/B07JR7Y8YD/ref=sr_1_51?crid=3IKGH5V5L5LEH&keywords=guitar&qid=1653368148&sprefix=%2Caps%2C985&sr=8-51',\n",
       " 'https://www.amazon.com/Ibanez-Artcore-Semi-Hollow-Body-Electric-AM53TF/dp/B015FTM7TW/ref=sr_1_52?crid=3IKGH5V5L5LEH&keywords=guitar&qid=1653368148&sprefix=%2Caps%2C985&sr=8-52',\n",
       " 'https://www.amazon.com/Schecter-Hellraiser-C-1-Gloss-Black/dp/B000RY7FXO/ref=sr_1_53?crid=3IKGH5V5L5LEH&keywords=guitar&qid=1653368148&sprefix=%2Caps%2C985&sr=8-53',\n",
       " 'https://www.amazon.com/Taylor-BT2-Acoustic-Guitar-Mahogany/dp/B007CSXUNM/ref=sr_1_54?crid=3IKGH5V5L5LEH&keywords=guitar&qid=1653368148&sprefix=%2Caps%2C985&sr=8-54',\n",
       " 'https://www.amazon.com/Traveler-Guitar-String-PSM-BKM/dp/B07K8MGPWJ/ref=sr_1_55?crid=3IKGH5V5L5LEH&keywords=guitar&qid=1653368148&sprefix=%2Caps%2C985&sr=8-55',\n",
       " 'https://www.amazon.com/Traveler-Guitar-Antique-PS-ABNS/dp/B07GTBW1QN/ref=sr_1_56?crid=3IKGH5V5L5LEH&keywords=guitar&qid=1653368148&sprefix=%2Caps%2C985&sr=8-56',\n",
       " 'https://www.amazon.com/gp/slredirect/picassoRedirect.html/ref=pa_sp_btf_aps_sr_pg1_1?ie=UTF8&adId=A04242973AJE9W8PZIABZ&url=%2FDonner-Electric-Guitar-Amplifier-Classical%2Fdp%2FB075V3FRSB%2Fref%3Dsr_1_57_sspa%3Fcrid%3D3IKGH5V5L5LEH%26keywords%3Dguitar%26qid%3D1653368148%26sprefix%3D%252Caps%252C985%26sr%3D8-57-spons%26psc%3D1%26smid%3DABZJC0ZX82FPL&qualifier=1653368148&id=8000063260817261&widgetName=sp_btf',\n",
       " 'https://www.amazon.com/gp/slredirect/picassoRedirect.html/ref=pa_sp_btf_aps_sr_pg1_1?ie=UTF8&adId=A01966923JW8129CHG5ET&url=%2FSondery-Distortion-Recreation-Classical-British%2Fdp%2FB09WQM8SRY%2Fref%3Dsr_1_58_sspa%3Fcrid%3D3IKGH5V5L5LEH%26keywords%3Dguitar%26qid%3D1653368148%26sprefix%3D%252Caps%252C985%26sr%3D8-58-spons%26psc%3D1&qualifier=1653368148&id=8000063260817261&widgetName=sp_btf',\n",
       " 'https://www.amazon.com/gp/slredirect/picassoRedirect.html/ref=pa_sp_btf_aps_sr_pg1_1?ie=UTF8&adId=A100948722S5U2GRAGFRI&url=%2FMechanical-Metronomes-Instruments-Precision-Beginners%2Fdp%2FB09WVL44BV%2Fref%3Dsr_1_59_sspa%3Fcrid%3D3IKGH5V5L5LEH%26keywords%3Dguitar%26qid%3D1653368148%26sprefix%3D%252Caps%252C985%26sr%3D8-59-spons%26psc%3D1&qualifier=1653368148&id=8000063260817261&widgetName=sp_btf',\n",
       " 'https://www.amazon.com/gp/slredirect/picassoRedirect.html/ref=pa_sp_btf_aps_sr_pg1_1?ie=UTF8&adId=A062896118G20P73671Z1&url=%2FMiracle-Sound-Pedalboard-Electric-Livewire%2Fdp%2FB07Q23HHR8%2Fref%3Dsr_1_60_sspa%3Fcrid%3D3IKGH5V5L5LEH%26keywords%3Dguitar%26qid%3D1653368148%26sprefix%3D%252Caps%252C985%26sr%3D8-60-spons%26psc%3D1&qualifier=1653368148&id=8000063260817261&widgetName=sp_btf',\n",
       " 'https://www.amazon.com/gp/slredirect/picassoRedirect.html/ref=pa_sp_atf_next_aps_sr_pg2_1?ie=UTF8&adId=A01493922IPN71TFA1ALB&url=%2FCNBLUE-Acoustic-Beginner-Dreadnought-Strings%2Fdp%2FB09HZK7YRW%2Fref%3Dsr_1_49_sspa%3Fcrid%3D3IKGH5V5L5LEH%26keywords%3Dguitar%26qid%3D1653368171%26sprefix%3D%252Caps%252C985%26sr%3D8-49-spons%26psc%3D1&qualifier=1653368171&id=335522792035600&widgetName=sp_atf_next',\n",
       " 'https://www.amazon.com/gp/slredirect/picassoRedirect.html/ref=pa_sp_atf_next_aps_sr_pg2_1?ie=UTF8&adId=A10258671UCK5Y3ZJ0J1N&url=%2FChoomPuurr-Drilling-Rotatable-Hardwood-Electric%2Fdp%2FB09W5FJGN7%2Fref%3Dsr_1_50_sspa%3Fcrid%3D3IKGH5V5L5LEH%26keywords%3Dguitar%26qid%3D1653368171%26sprefix%3D%252Caps%252C985%26sr%3D8-50-spons%26psc%3D1&qualifier=1653368171&id=335522792035600&widgetName=sp_atf_next',\n",
       " 'https://www.amazon.com/gp/slredirect/picassoRedirect.html/ref=pa_sp_atf_next_aps_sr_pg2_1?ie=UTF8&adId=A09778412XKW3QFO3S92L&url=%2FLoog-Pro-VI-Acoustic-White%2Fdp%2FB08966RBLS%2Fref%3Dsr_1_51_sspa%3Fcrid%3D3IKGH5V5L5LEH%26keywords%3Dguitar%26qid%3D1653368171%26sprefix%3D%252Caps%252C985%26sr%3D8-51-spons%26psc%3D1%26smid%3DA2PDX4SBQF60FI&qualifier=1653368171&id=335522792035600&widgetName=sp_atf_next',\n",
       " 'https://www.amazon.com/gp/slredirect/picassoRedirect.html/ref=pa_sp_atf_next_aps_sr_pg2_1?ie=UTF8&adId=A0311588213W8VAVQUFXN&url=%2FDanchet-Acoustic-Guitar-Strings-Bronze%2Fdp%2FB099W8T2L3%2Fref%3Dsr_1_52_sspa%3Fcrid%3D3IKGH5V5L5LEH%26keywords%3Dguitar%26qid%3D1653368171%26sprefix%3D%252Caps%252C985%26sr%3D8-52-spons%26psc%3D1&qualifier=1653368171&id=335522792035600&widgetName=sp_atf_next',\n",
       " 'https://www.amazon.com/Traveler-Guitar-Solid-Body-EC1-VBKM/dp/B07DD6JZ28/ref=sr_1_53?crid=3IKGH5V5L5LEH&keywords=guitar&qid=1653368171&sprefix=%2Caps%2C985&sr=8-53',\n",
       " 'https://www.amazon.com/Beginner-Classical-Acoustic-Guitar-PGACLS82SUN/dp/B088FZW8FV/ref=sr_1_54?crid=3IKGH5V5L5LEH&keywords=guitar&qid=1653368171&sprefix=%2Caps%2C985&sr=8-54',\n",
       " 'https://www.amazon.com/Fender-Stratocaster-Beginner-Fingerboard-Sunburst/dp/B07G4VRMWZ/ref=sr_1_55?crid=3IKGH5V5L5LEH&keywords=guitar&qid=1653368171&sprefix=%2Caps%2C985&sr=8-55',\n",
       " 'https://www.amazon.com/Yamaha-CGS102A-Half-Size-Classical-Guitar/dp/B005F25DUU/ref=sr_1_56?crid=3IKGH5V5L5LEH&keywords=guitar&qid=1653368171&sprefix=%2Caps%2C985&sr=8-56',\n",
       " 'https://www.amazon.com/Taylor-BT1-Walnut-Gig-Bag/dp/B084RRM6MX/ref=sr_1_57?crid=3IKGH5V5L5LEH&keywords=guitar&qid=1653368171&sprefix=%2Caps%2C985&sr=8-57',\n",
       " 'https://www.amazon.com/Donner-Electric-Guitar-Kit-Inches/dp/B09BZD8VDN/ref=sr_1_58?crid=3IKGH5V5L5LEH&keywords=guitar&qid=1653368171&sprefix=%2Caps%2C985&sr=8-58',\n",
       " 'https://www.amazon.com/Ibanez-GA35TCEDVS-Acoustic-Electric-Guitar/dp/B00J8R69ME/ref=sr_1_49?crid=3IKGH5V5L5LEH&keywords=guitar&qid=1653368171&sprefix=%2Caps%2C985&sr=8-49',\n",
       " 'https://www.amazon.com/Ibanez-Semi-Hollow-Electric-Guitar-Transparent-AS53TKF/dp/B005MYXBRS/ref=sr_1_50?crid=3IKGH5V5L5LEH&keywords=guitar&qid=1653368171&sprefix=%2Caps%2C985&sr=8-50',\n",
       " 'https://www.amazon.com/Fender-String-Acoustic-Electric-Guitar-0971722106/dp/B08Y93KQ3Z/ref=sr_1_51?crid=3IKGH5V5L5LEH&keywords=guitar&qid=1653368171&sprefix=%2Caps%2C985&sr=8-51',\n",
       " 'https://www.amazon.com/Ibanez-THBB10-Henson-Electric-Guitar/dp/B07M7WPCJ3/ref=sr_1_52?crid=3IKGH5V5L5LEH&keywords=guitar&qid=1653368171&sprefix=%2Caps%2C985&sr=8-52',\n",
       " 'https://www.amazon.com/Ibanez-JEM-Steve-Signature-Pink/dp/B0784SNWKT/ref=sr_1_53?crid=3IKGH5V5L5LEH&keywords=guitar&qid=1653368171&sprefix=%2Caps%2C985&sr=8-53',\n",
       " 'https://www.amazon.com/Gretsch-Guitars-Acoustic-2-Color-Sunburst/dp/B00BEYDFA8/ref=sr_1_54?crid=3IKGH5V5L5LEH&keywords=guitar&qid=1653368171&sprefix=%2Caps%2C985&sr=8-54',\n",
       " 'https://www.amazon.com/Washburn-Forest-Acoustic-Guitar-Striped/dp/B092RGDCWG/ref=sr_1_55?crid=3IKGH5V5L5LEH&keywords=guitar&qid=1653368171&sprefix=%2Caps%2C985&sr=8-55',\n",
       " 'https://www.amazon.com/Guild-Starfire-DC-Semi-Hollow-Double-Cut/dp/B08NTNPH22/ref=sr_1_56?crid=3IKGH5V5L5LEH&keywords=guitar&qid=1653368171&sprefix=%2Caps%2C985&sr=8-56',\n",
       " 'https://www.amazon.com/Fender-Acoustic-3-Color-Sunburst-Fingerboard/dp/B07J55FMVP/ref=sr_1_57?crid=3IKGH5V5L5LEH&keywords=guitar&qid=1653368171&sprefix=%2Caps%2C985&sr=8-57',\n",
       " 'https://www.amazon.com/Cordoba-Guitars-03951-Mini-II/dp/B07FT6YMS1/ref=sr_1_58?crid=3IKGH5V5L5LEH&keywords=guitar&qid=1653368171&sprefix=%2Caps%2C985&sr=8-58',\n",
       " 'https://www.amazon.com/Cordoba-Iberia-Acoustic-Electric-Classical/dp/B007SQZJTQ/ref=sr_1_59?crid=3IKGH5V5L5LEH&keywords=guitar&qid=1653368171&sprefix=%2Caps%2C985&sr=8-59',\n",
       " 'https://www.amazon.com/Master-play-Beginner-Acoustic-Accessories-Gradient/dp/B08SHTCCH6/ref=sr_1_60?crid=3IKGH5V5L5LEH&keywords=guitar&qid=1653368171&sprefix=%2Caps%2C985&sr=8-60',\n",
       " 'https://www.amazon.com/Cordoba-C5-Iberia-Classical-Guitar/dp/B007SQZJ6O/ref=sr_1_61?crid=3IKGH5V5L5LEH&keywords=guitar&qid=1653368171&sprefix=%2Caps%2C985&sr=8-61',\n",
       " 'https://www.amazon.com/Traveler-Guitar-Solid-Body-ULE-BKM/dp/B07GT85S2B/ref=sr_1_62?crid=3IKGH5V5L5LEH&keywords=guitar&qid=1653368171&sprefix=%2Caps%2C985&sr=8-62',\n",
       " 'https://www.amazon.com/EVH-Striped-Frankie-Electric-Guitar/dp/B084KTVX3Z/ref=sr_1_63?crid=3IKGH5V5L5LEH&keywords=guitar&qid=1653368171&sprefix=%2Caps%2C985&sr=8-63',\n",
       " 'https://www.amazon.com/Ibanez-Standard-Electric-Rosewood-Fretboard/dp/B093FH15XT/ref=sr_1_64?crid=3IKGH5V5L5LEH&keywords=guitar&qid=1653368171&sprefix=%2Caps%2C985&sr=8-64',\n",
       " 'https://www.amazon.com/Ibanez-AW54CEOPN-Dreadnought-Acoustic-Electric/dp/B00HWIRQXM/ref=sr_1_65?crid=3IKGH5V5L5LEH&keywords=guitar&qid=1653368171&sprefix=%2Caps%2C985&sr=8-65',\n",
       " 'https://www.amazon.com/Profession-Beginner-Laminated-Acoustic-Electric/dp/B08F4L44M7/ref=sr_1_66?crid=3IKGH5V5L5LEH&keywords=guitar&qid=1653368171&sprefix=%2Caps%2C985&sr=8-66',\n",
       " 'https://www.amazon.com/gp/slredirect/picassoRedirect.html/ref=pa_sp_mtf_aps_sr_pg2_1?ie=UTF8&adId=A06018151EEY0PQ1KMG1S&url=%2FMoodve-Mahogany-Electric-Acoustic-Ukulele%2Fdp%2FB088D5TB6D%2Fref%3Dsr_1_67_sspa%3Fcrid%3D3IKGH5V5L5LEH%26keywords%3Dguitar%26qid%3D1653368171%26sprefix%3D%252Caps%252C985%26sr%3D8-67-spons%26psc%3D1&qualifier=1653368171&id=335522792035600&widgetName=sp_mtf',\n",
       " 'https://www.amazon.com/gp/slredirect/picassoRedirect.html/ref=pa_sp_mtf_aps_sr_pg2_1?ie=UTF8&adId=A02599272UHXY7V0ORN8P&url=%2FAODSK-Electric-Acoustic-Ukulele-Bracket%2Fdp%2FB09LTW4V3Q%2Fref%3Dsr_1_68_sspa%3Fcrid%3D3IKGH5V5L5LEH%26keywords%3Dguitar%26qid%3D1653368171%26sprefix%3D%252Caps%252C985%26sr%3D8-68-spons%26psc%3D1&qualifier=1653368171&id=335522792035600&widgetName=sp_mtf',\n",
       " 'https://www.amazon.com/gp/slredirect/picassoRedirect.html/ref=pa_sp_mtf_aps_sr_pg2_1?ie=UTF8&adId=A07040403GCXVFNQ21Z3E&url=%2FMinutes-Card-Chords-ELECTRIC-FRETBOARD%2Fdp%2FB09NYHGWWW%2Fref%3Dsr_1_69_sspa%3Fcrid%3D3IKGH5V5L5LEH%26keywords%3Dguitar%26qid%3D1653368171%26sprefix%3D%252Caps%252C985%26sr%3D8-69-spons%26psc%3D1&qualifier=1653368171&id=335522792035600&widgetName=sp_mtf',\n",
       " 'https://www.amazon.com/gp/slredirect/picassoRedirect.html/ref=pa_sp_mtf_aps_sr_pg2_1?ie=UTF8&adId=A0082809WY476B4NEQZ7&url=%2FSondery-Distortion-Guitar-Effect-Vintage%2Fdp%2FB09WR4P2GL%2Fref%3Dsr_1_70_sspa%3Fcrid%3D3IKGH5V5L5LEH%26keywords%3Dguitar%26qid%3D1653368171%26sprefix%3D%252Caps%252C985%26sr%3D8-70-spons%26psc%3D1&qualifier=1653368171&id=335522792035600&widgetName=sp_mtf',\n",
       " 'https://www.amazon.com/Fender-Cobain-Jag-Stang-Rosewood-Fingerboard/dp/B098XYC5GW/ref=sr_1_71?crid=3IKGH5V5L5LEH&keywords=guitar&qid=1653368171&sprefix=%2Caps%2C985&sr=8-71',\n",
       " 'https://www.amazon.com/Gigmaker-Standard-Acoustic-Instructional-Strings/dp/B000W72MDE/ref=sr_1_72?crid=3IKGH5V5L5LEH&keywords=guitar&qid=1653368171&sprefix=%2Caps%2C985&sr=8-72',\n",
       " 'https://www.amazon.com/Fender-Paranormal-Cabronita-Telecaster-Fingerboard/dp/B098XY14JV/ref=sr_1_73?crid=3IKGH5V5L5LEH&keywords=guitar&qid=1653368171&sprefix=%2Caps%2C985&sr=8-73',\n",
       " 'https://www.amazon.com/Ibanez-PF2MHOPN-PF2MH-size-Natural/dp/B00I4SZ6RW/ref=sr_1_74?crid=3IKGH5V5L5LEH&keywords=guitar&qid=1653368171&sprefix=%2Caps%2C985&sr=8-74',\n",
       " 'https://www.amazon.com/Yamaha-FG820-Acoustic-Guitar-Natural/dp/B01CFOAQUC/ref=sr_1_75?crid=3IKGH5V5L5LEH&keywords=guitar&qid=1653368171&sprefix=%2Caps%2C985&sr=8-75',\n",
       " 'https://www.amazon.com/Ibanez-AEWC400FM-Acoustic-Electric-Guitar/dp/B07MBNCVHD/ref=sr_1_76?crid=3IKGH5V5L5LEH&keywords=guitar&qid=1653368171&sprefix=%2Caps%2C985&sr=8-76',\n",
       " 'https://www.amazon.com/Fender-FA-15N-String-Beginner-Acoustic/dp/B07BCPM3RX/ref=sr_1_77?crid=3IKGH5V5L5LEH&keywords=guitar&qid=1653368171&sprefix=%2Caps%2C985&sr=8-77',\n",
       " 'https://www.amazon.com/Jameson-Guitars-Thinline-Acoustic-Electric/dp/B003YVLKF6/ref=sr_1_78?crid=3IKGH5V5L5LEH&keywords=guitar&qid=1653368171&sprefix=%2Caps%2C985&sr=8-78',\n",
       " 'https://www.amazon.com/Jackson-Dinky-Arch-Top-JS32/dp/B07LFVCVPV/ref=sr_1_79?crid=3IKGH5V5L5LEH&keywords=guitar&qid=1653368171&sprefix=%2Caps%2C985&sr=8-79',\n",
       " 'https://www.amazon.com/Jasmine-S34C-NEX-Acoustic-Guitar/dp/B0002GXZK4/ref=sr_1_80?crid=3IKGH5V5L5LEH&keywords=guitar&qid=1653368171&sprefix=%2Caps%2C985&sr=8-80',\n",
       " 'https://www.amazon.com/Fender-CB-60SCE-Beginner-Acoustic-Electric-Guitar/dp/B07B99R5DK/ref=sr_1_81?crid=3IKGH5V5L5LEH&keywords=guitar&qid=1653368171&sprefix=%2Caps%2C985&sr=8-81',\n",
       " 'https://www.amazon.com/Beginner-Classical-Acoustic-Guitar-Traditional/dp/B07NVWXTQQ/ref=sr_1_82?crid=3IKGH5V5L5LEH&keywords=guitar&qid=1653368171&sprefix=%2Caps%2C985&sr=8-82',\n",
       " 'https://www.amazon.com/Prot%C3%A9g%C3%A9-Cordoba-C1-Acoustic-Classical/dp/B009F8UBOI/ref=sr_1_83?crid=3IKGH5V5L5LEH&keywords=guitar&qid=1653368171&sprefix=%2Caps%2C985&sr=8-83',\n",
       " 'https://www.amazon.com/Classical-Guitar-Beginner-Acoustic-Strings/dp/B08LVW75N5/ref=sr_1_84?crid=3IKGH5V5L5LEH&keywords=guitar&qid=1653368171&sprefix=%2Caps%2C985&sr=8-84',\n",
       " 'https://www.amazon.com/Ibanez-AEG5012-Single-Cutaway-12-String-Acoustic-Electric/dp/B08W1YKCH5/ref=sr_1_85?crid=3IKGH5V5L5LEH&keywords=guitar&qid=1653368171&sprefix=%2Caps%2C985&sr=8-85',\n",
       " 'https://www.amazon.com/WINZZ-Dreadnought-Acoustic-Metronome-Wall-mounted/dp/B088CXDLCW/ref=sr_1_86?crid=3IKGH5V5L5LEH&keywords=guitar&qid=1653368171&sprefix=%2Caps%2C985&sr=8-86',\n",
       " 'https://www.amazon.com/Squier-Fender-Classic-Stratocaster-Electric/dp/B07N28P3VJ/ref=sr_1_87?crid=3IKGH5V5L5LEH&keywords=guitar&qid=1653368171&sprefix=%2Caps%2C985&sr=8-87',\n",
       " 'https://www.amazon.com/Latitude-NW-1915-Electric-Humbuckers-Sunburst/dp/B09NQ8KFGX/ref=sr_1_88?crid=3IKGH5V5L5LEH&keywords=guitar&qid=1653368171&sprefix=%2Caps%2C985&sr=8-88',\n",
       " 'https://www.amazon.com/Gretsch-Guitars-G5021WPE-Acoustic-Electric/dp/B01MYBDNLF/ref=sr_1_89?crid=3IKGH5V5L5LEH&keywords=guitar&qid=1653368171&sprefix=%2Caps%2C985&sr=8-89',\n",
       " 'https://www.amazon.com/Gigmaker-Standard-Acoustic-Instructional-Strings/dp/B0029RM4NI/ref=sr_1_90?crid=3IKGH5V5L5LEH&keywords=guitar&qid=1653368171&sprefix=%2Caps%2C985&sr=8-90',\n",
       " 'https://www.amazon.com/Washburn-String-Acoustic-Electric-Guitar-BTSC56SCE-D/dp/B07TK27363/ref=sr_1_91?crid=3IKGH5V5L5LEH&keywords=guitar&qid=1653368171&sprefix=%2Caps%2C985&sr=8-91',\n",
       " 'https://www.amazon.com/Squier-Fender-Classic-Jaguar-Electric/dp/B07N28X3TF/ref=sr_1_92?crid=3IKGH5V5L5LEH&keywords=guitar&qid=1653368171&sprefix=%2Caps%2C985&sr=8-92',\n",
       " 'https://www.amazon.com/Squier-Fender-Classic-Vibe-Guitar/dp/B07N292S5J/ref=sr_1_93?crid=3IKGH5V5L5LEH&keywords=guitar&qid=1653368171&sprefix=%2Caps%2C985&sr=8-93',\n",
       " 'https://www.amazon.com/Takamine-GD30CE-NAT-Dreadnought-Cutaway-Acoustic-Electric/dp/B00B5LBN7C/ref=sr_1_94?crid=3IKGH5V5L5LEH&keywords=guitar&qid=1653368171&sprefix=%2Caps%2C985&sr=8-94',\n",
       " 'https://www.amazon.com/gp/slredirect/picassoRedirect.html/ref=pa_sp_btf_aps_sr_pg2_1?ie=UTF8&adId=A09296972P7J7EDDJBIXM&url=%2FAcoustic-Amplifier-Portable-Rechargeable-Bluetooth%2Fdp%2FB07S9D9JYN%2Fref%3Dsr_1_95_sspa%3Fcrid%3D3IKGH5V5L5LEH%26keywords%3Dguitar%26qid%3D1653368171%26sprefix%3D%252Caps%252C985%26sr%3D8-95-spons%26psc%3D1%26smid%3DA1RFJ8C4M1STVQ&qualifier=1653368171&id=335522792035600&widgetName=sp_btf',\n",
       " 'https://www.amazon.com/gp/slredirect/picassoRedirect.html/ref=pa_sp_btf_aps_sr_pg2_1?ie=UTF8&adId=A049257139GA9M9DXVS0C&url=%2FGeneric-4-String-Acoustic-Saddles-10-8-6%2Fdp%2FB01MQ0PM98%2Fref%3Dsr_1_96_sspa%3Fcrid%3D3IKGH5V5L5LEH%26keywords%3Dguitar%26qid%3D1653368171%26sprefix%3D%252Caps%252C985%26sr%3D8-96-spons%26psc%3D1&qualifier=1653368171&id=335522792035600&widgetName=sp_btf',\n",
       " 'https://www.amazon.com/gp/slredirect/picassoRedirect.html/ref=pa_sp_btf_aps_sr_pg2_1?ie=UTF8&adId=A0805879HF79Y0V26S9V&url=%2FDonner-Acoustic-Instrument-Essential-Accessories%2Fdp%2FB09B21KWZV%2Fref%3Dsr_1_97_sspa%3Fcrid%3D3IKGH5V5L5LEH%26keywords%3Dguitar%26qid%3D1653368171%26sprefix%3D%252Caps%252C985%26sr%3D8-97-spons%26psc%3D1&qualifier=1653368171&id=335522792035600&widgetName=sp_btf',\n",
       " 'https://www.amazon.com/gp/slredirect/picassoRedirect.html/ref=pa_sp_btf_aps_sr_pg2_1?ie=UTF8&adId=A0708052BGMWY6EZ2E15&url=%2FGeneric-5-String-Electric-Bass-Nuts%2Fdp%2FB01M7TMFGO%2Fref%3Dsr_1_98_sspa%3Fcrid%3D3IKGH5V5L5LEH%26keywords%3Dguitar%26qid%3D1653368171%26sprefix%3D%252Caps%252C985%26sr%3D8-98-spons%26psc%3D1&qualifier=1653368171&id=335522792035600&widgetName=sp_btf',\n",
       " 'https://www.amazon.com/gp/slredirect/picassoRedirect.html/ref=pa_sp_atf_next_aps_sr_pg3_1?ie=UTF8&adId=A01992311930SHNB7G7Y7&url=%2FHiree-Outlets-Charging-Speaker-Instruments%2Fdp%2FB088R741JZ%2Fref%3Dsr_1_97_sspa%3Fcrid%3D3IKGH5V5L5LEH%26keywords%3Dguitar%26qid%3D1653368178%26sprefix%3D%252Caps%252C985%26sr%3D8-97-spons%26psc%3D1&qualifier=1653368178&id=5578985115896040&widgetName=sp_atf_next',\n",
       " 'https://www.amazon.com/gp/slredirect/picassoRedirect.html/ref=pa_sp_atf_next_aps_sr_pg3_1?ie=UTF8&adId=A022657624IHPW7Z7TAEM&url=%2FVoice-Amplifier-Teachers-Microphone-Headset%2Fdp%2FB09DG1CMZ5%2Fref%3Dsr_1_98_sspa%3Fcrid%3D3IKGH5V5L5LEH%26keywords%3Dguitar%26qid%3D1653368178%26sprefix%3D%252Caps%252C985%26sr%3D8-98-spons%26psc%3D1&qualifier=1653368178&id=5578985115896040&widgetName=sp_atf_next',\n",
       " 'https://www.amazon.com/gp/slredirect/picassoRedirect.html/ref=pa_sp_atf_next_aps_sr_pg3_1?ie=UTF8&adId=A026719114NR23XGIU6A&url=%2FTTian5-Rolling-sliding-acoustic-electric%2Fdp%2FB09LMSM936%2Fref%3Dsr_1_99_sspa%3Fcrid%3D3IKGH5V5L5LEH%26keywords%3Dguitar%26qid%3D1653368178%26sprefix%3D%252Caps%252C985%26sr%3D8-99-spons%26psc%3D1&qualifier=1653368178&id=5578985115896040&widgetName=sp_atf_next',\n",
       " 'https://www.amazon.com/gp/slredirect/picassoRedirect.html/ref=pa_sp_atf_next_aps_sr_pg3_1?ie=UTF8&adId=A01731881CG217E4XUYV9&url=%2FMartin-Acoustic-Guitar-Strings-Medium%2Fdp%2FB07SH2LBS6%2Fref%3Dsr_1_100_sspa%3Fcrid%3D3IKGH5V5L5LEH%26keywords%3Dguitar%26qid%3D1653368178%26sprefix%3D%252Caps%252C985%26sr%3D8-100-spons%26psc%3D1&qualifier=1653368178&id=5578985115896040&widgetName=sp_atf_next',\n",
       " 'https://www.amazon.com/Ibanez-AW54OPN-Artwood-Dreadnought-Acoustic/dp/B00HWIRQ6O/ref=sr_1_101?crid=3IKGH5V5L5LEH&keywords=guitar&qid=1653368178&sprefix=%2Caps%2C985&sr=8-101',\n",
       " 'https://www.amazon.com/Jasmine-S35-Acoustic-Guitar-Natural/dp/B0002F58TG/ref=sr_1_102?crid=3IKGH5V5L5LEH&keywords=guitar&qid=1653368178&sprefix=%2Caps%2C985&sr=8-102',\n",
       " 'https://www.amazon.com/Jackson-Dinky-Handed-Electric-Guitar/dp/B07N7MNQBL/ref=sr_1_103?crid=3IKGH5V5L5LEH&keywords=guitar&qid=1653368178&sprefix=%2Caps%2C985&sr=8-103',\n",
       " 'https://www.amazon.com/Michael-Kelly-Exotic-Acoustic-Electric-Guitar/dp/B01MRCULB3/ref=sr_1_104?crid=3IKGH5V5L5LEH&keywords=guitar&qid=1653368178&sprefix=%2Caps%2C985&sr=8-104',\n",
       " 'https://www.amazon.com/Jackson-JS32-Dinky-Pavo-Purple/dp/B01MUCAGGZ/ref=sr_1_105?crid=3IKGH5V5L5LEH&keywords=guitar&qid=1653368178&sprefix=%2Caps%2C985&sr=8-105',\n",
       " 'https://www.amazon.com/Donner-Acoustic-Instrument-Essential-Accessories/dp/B09B21KWZV/ref=sr_1_106?crid=3IKGH5V5L5LEH&keywords=guitar&qid=1653368178&sprefix=%2Caps%2C985&sr=8-106',\n",
       " 'https://www.amazon.com/Fender-Anniversary-Commemorative-Stratocaster-Hardshell/dp/B091BBGMMW/ref=sr_1_97?crid=3IKGH5V5L5LEH&keywords=guitar&qid=1653368178&sprefix=%2Caps%2C985&sr=8-97',\n",
       " 'https://www.amazon.com/Cordoba-C5-CE-Left-Handed-Acoustic-Classical/dp/B00BMIGBQG/ref=sr_1_98?crid=3IKGH5V5L5LEH&keywords=guitar&qid=1653368178&sprefix=%2Caps%2C985&sr=8-98',\n",
       " 'https://www.amazon.com/Squier-Fender-Classic-Vibe-Telecaster/dp/B07T7H8P4H/ref=sr_1_99?crid=3IKGH5V5L5LEH&keywords=guitar&qid=1653368178&sprefix=%2Caps%2C985&sr=8-99',\n",
       " 'https://www.amazon.com/EVH-Striped-Red-Black-White/dp/B00B7ALEOS/ref=sr_1_100?crid=3IKGH5V5L5LEH&keywords=guitar&qid=1653368178&sprefix=%2Caps%2C985&sr=8-100',\n",
       " 'https://www.amazon.com/LOMEVE-Accessories-Acoustic-Restring-Protector/dp/B07RTW1R1V/ref=sr_1_101?crid=3IKGH5V5L5LEH&keywords=guitar&qid=1653368178&sprefix=%2Caps%2C985&sr=8-101',\n",
       " 'https://www.amazon.com/Gretsch-G9221-Bobtail-Round-neck-Resonator/dp/B078HX9LPN/ref=sr_1_102?crid=3IKGH5V5L5LEH&keywords=guitar&qid=1653368178&sprefix=%2Caps%2C985&sr=8-102',\n",
       " 'https://www.amazon.com/Dean-Exotic-Cutaway-Acoustic-Electric-Guitar/dp/B01N3CL6NB/ref=sr_1_103?crid=3IKGH5V5L5LEH&keywords=guitar&qid=1653368178&sprefix=%2Caps%2C985&sr=8-103',\n",
       " 'https://www.amazon.com/Fender-CD-60S-Dreadnought-Acoustic-Guitar/dp/B07FYBLG93/ref=sr_1_104?crid=3IKGH5V5L5LEH&keywords=guitar&qid=1653368178&sprefix=%2Caps%2C985&sr=8-104',\n",
       " 'https://www.amazon.com/Ibanez-Performance-PFT2-NT-Dreadnought-Acoustic/dp/B00S9PEEA0/ref=sr_1_105?crid=3IKGH5V5L5LEH&keywords=guitar&qid=1653368178&sprefix=%2Caps%2C985&sr=8-105',\n",
       " 'https://www.amazon.com/Latitude-NW-1915-Electric-Humbuckers-Sunburst/dp/B09NQ8KFGX/ref=sr_1_106?crid=3IKGH5V5L5LEH&keywords=guitar&qid=1653368178&sprefix=%2Caps%2C985&sr=8-106',\n",
       " 'https://www.amazon.com/Fender-CC-60SCE-Natural-Acoustic-Electric/dp/B07FYHLCT4/ref=sr_1_107?crid=3IKGH5V5L5LEH&keywords=guitar&qid=1653368178&sprefix=%2Caps%2C985&sr=8-107',\n",
       " 'https://www.amazon.com/Oscar-Schmidt-Dreadnought-Acoustic-Sunburst/dp/B078MSHXKL/ref=sr_1_108?crid=3IKGH5V5L5LEH&keywords=guitar&qid=1653368178&sprefix=%2Caps%2C985&sr=8-108',\n",
       " 'https://www.amazon.com/Ibanez-PC12MH-Mahogany-Concert-Acoustic/dp/B00IF3NA2Y/ref=sr_1_109?crid=3IKGH5V5L5LEH&keywords=guitar&qid=1653368178&sprefix=%2Caps%2C985&sr=8-109',\n",
       " 'https://www.amazon.com/Ibanez-Single-Cutaway-12-String-Acoustic-Electric-Sunburst/dp/B08TYXBM8N/ref=sr_1_110?crid=3IKGH5V5L5LEH&keywords=guitar&qid=1653368178&sprefix=%2Caps%2C985&sr=8-110',\n",
       " 'https://www.amazon.com/Fender-Malibu-Player-Acoustic-Guitar/dp/B088FY21KB/ref=sr_1_111?crid=3IKGH5V5L5LEH&keywords=guitar&qid=1653368178&sprefix=%2Caps%2C985&sr=8-111',\n",
       " 'https://www.amazon.com/Fender-String-Acoustic-Natural-0970770121/dp/B084D4VRFP/ref=sr_1_112?crid=3IKGH5V5L5LEH&keywords=guitar&qid=1653368178&sprefix=%2Caps%2C985&sr=8-112',\n",
       " 'https://www.amazon.com/Ibanez-Acoustic-Electric-Guitar-Violin-Sunburst/dp/B0049SBXLO/ref=sr_1_113?crid=3IKGH5V5L5LEH&keywords=guitar&qid=1653368178&sprefix=%2Caps%2C985&sr=8-113',\n",
       " 'https://www.amazon.com/Fender-CC-60S-Mahogany-Acoustic-Guitar/dp/B07N8LF967/ref=sr_1_114?crid=3IKGH5V5L5LEH&keywords=guitar&qid=1653368178&sprefix=%2Caps%2C985&sr=8-114',\n",
       " 'https://www.amazon.com/gp/slredirect/picassoRedirect.html/ref=pa_sp_mtf_aps_sr_pg3_1?ie=UTF8&adId=A0977629385RNHZ73W27J&url=%2FLoog-Pro-VI-Acoustic-Red%2Fdp%2FB08966BWS4%2Fref%3Dsr_1_115_sspa%3Fcrid%3D3IKGH5V5L5LEH%26keywords%3Dguitar%26qid%3D1653368178%26sprefix%3D%252Caps%252C985%26sr%3D8-115-spons%26psc%3D1%26smid%3DA2PDX4SBQF60FI&qualifier=1653368178&id=5578985115896040&widgetName=sp_mtf',\n",
       " 'https://www.amazon.com/gp/slredirect/picassoRedirect.html/ref=pa_sp_mtf_aps_sr_pg3_1?ie=UTF8&adId=A0201639104UTPHEDW4ZS&url=%2FSoyan-Acoustic-Electric-Foldable-Hardwood%2Fdp%2FB09V25HK7M%2Fref%3Dsr_1_116_sspa%3Fcrid%3D3IKGH5V5L5LEH%26keywords%3Dguitar%26qid%3D1653368178%26sprefix%3D%252Caps%252C985%26sr%3D8-116-spons%26psc%3D1&qualifier=1653368178&id=5578985115896040&widgetName=sp_mtf',\n",
       " 'https://www.amazon.com/gp/slredirect/picassoRedirect.html/ref=pa_sp_mtf_aps_sr_pg3_1?ie=UTF8&adId=A04766591JZEJNF9KJ00X&url=%2FSondery-Booster-Guitar-Effect-Pedal%2Fdp%2FB09WQHBV3H%2Fref%3Dsr_1_117_sspa%3Fcrid%3D3IKGH5V5L5LEH%26keywords%3Dguitar%26qid%3D1653368178%26sprefix%3D%252Caps%252C985%26sr%3D8-117-spons%26psc%3D1&qualifier=1653368178&id=5578985115896040&widgetName=sp_mtf',\n",
       " 'https://www.amazon.com/gp/slredirect/picassoRedirect.html/ref=pa_sp_mtf_aps_sr_pg3_1?ie=UTF8&adId=A05557623KSH72OVJMYSB&url=%2FSeismic-Audio-SASTSX-6-Instrument-Colored%2Fdp%2FB0772XG3RL%2Fref%3Dsr_1_118_sspa%3Fcrid%3D3IKGH5V5L5LEH%26keywords%3Dguitar%26qid%3D1653368178%26sprefix%3D%252Caps%252C985%26sr%3D8-118-spons%26psc%3D1%26smid%3DA7KODY9T0BTOM&qualifier=1653368178&id=5578985115896040&widgetName=sp_mtf',\n",
       " 'https://www.amazon.com/Fender-CN-140SCE-String-Acoustic-Guitar/dp/B07FYHJTCQ/ref=sr_1_119?crid=3IKGH5V5L5LEH&keywords=guitar&qid=1653368178&sprefix=%2Caps%2C985&sr=8-119',\n",
       " 'https://www.amazon.com/APXT2-Thinline-Acoustic-Electric-Cutaway-Sunburst/dp/B00DUFJMT2/ref=sr_1_120?crid=3IKGH5V5L5LEH&keywords=guitar&qid=1653368178&sprefix=%2Caps%2C985&sr=8-120',\n",
       " 'https://www.amazon.com/Ibanez-TCY10E-Acoustic-Purpleheart-Fretboard/dp/B08ZJNCN5R/ref=sr_1_121?crid=3IKGH5V5L5LEH&keywords=guitar&qid=1653368178&sprefix=%2Caps%2C985&sr=8-121',\n",
       " 'https://www.amazon.com/Fender-Classic-Design-Dreadnought-Acoustic/dp/B07HYS18LJ/ref=sr_1_122?crid=3IKGH5V5L5LEH&keywords=guitar&qid=1653368178&sprefix=%2Caps%2C985&sr=8-122',\n",
       " 'https://www.amazon.com/Fender-CD-60S-Left-handed-Acoustic-Guitar/dp/B07FYWNJ2F/ref=sr_1_123?crid=3IKGH5V5L5LEH&keywords=guitar&qid=1653368178&sprefix=%2Caps%2C985&sr=8-123',\n",
       " 'https://www.amazon.com/Acoustic-Dreadnought-Archback-Westerly-Collection/dp/B07RD5S87W/ref=sr_1_124?crid=3IKGH5V5L5LEH&keywords=guitar&qid=1653368178&sprefix=%2Caps%2C985&sr=8-124',\n",
       " 'https://www.amazon.com/Squier-Fender-Affinity-Starcaster-Fingerboard/dp/B07T47WR9Z/ref=sr_1_125?crid=3IKGH5V5L5LEH&keywords=guitar&qid=1653368178&sprefix=%2Caps%2C985&sr=8-125',\n",
       " 'https://www.amazon.com/Beginner-Classical-Acoustic-Guitar-PGACLS82BLU/dp/B088G1R4DQ/ref=sr_1_126?crid=3IKGH5V5L5LEH&keywords=guitar&qid=1653368178&sprefix=%2Caps%2C985&sr=8-126',\n",
       " 'https://www.amazon.com/Jackson-JS22-7-7-String-Electric-Guitar/dp/B07N6JPG9N/ref=sr_1_127?crid=3IKGH5V5L5LEH&keywords=guitar&qid=1653368178&sprefix=%2Caps%2C985&sr=8-127',\n",
       " 'https://www.amazon.com/Fender-CC-60S-Concert-Left-Handed-Acoustic/dp/B07FYXMKQ6/ref=sr_1_128?crid=3IKGH5V5L5LEH&keywords=guitar&qid=1653368178&sprefix=%2Caps%2C985&sr=8-128',\n",
       " 'https://www.amazon.com/Loog-Acoustic-Guitar-Children-Beginners/dp/B072B9V2KB/ref=sr_1_129?crid=3IKGH5V5L5LEH&keywords=guitar&qid=1653368178&sprefix=%2Caps%2C985&sr=8-129',\n",
       " 'https://www.amazon.com/Beginner-Classical-Acoustic-Guitar-Traditional/dp/B07NVWHBBH/ref=sr_1_130?crid=3IKGH5V5L5LEH&keywords=guitar&qid=1653368178&sprefix=%2Caps%2C985&sr=8-130',\n",
       " 'https://www.amazon.com/Ibanez-Electric-Guitar-Blackberry-Sunburst/dp/B00B4WN5G4/ref=sr_1_131?crid=3IKGH5V5L5LEH&keywords=guitar&qid=1653368178&sprefix=%2Caps%2C985&sr=8-131',\n",
       " 'https://www.amazon.com/Ibanez-Artcore-AS73-Tobacco-Brown/dp/B00BSNIKNC/ref=sr_1_132?crid=3IKGH5V5L5LEH&keywords=guitar&qid=1653368178&sprefix=%2Caps%2C985&sr=8-132',\n",
       " 'https://www.amazon.com/Squier-by-Fender-Acoustic-Guitar/dp/B07FYQD68V/ref=sr_1_133?crid=3IKGH5V5L5LEH&keywords=guitar&qid=1653368178&sprefix=%2Caps%2C985&sr=8-133',\n",
       " 'https://www.amazon.com/Ibanez-RG-Series-RG8-White/dp/B00A930YYA/ref=sr_1_134?crid=3IKGH5V5L5LEH&keywords=guitar&qid=1653368178&sprefix=%2Caps%2C985&sr=8-134',\n",
       " 'https://www.amazon.com/Squier-Fender-Stratocaster-Beginner-Electric/dp/B07BBW41Z1/ref=sr_1_135?crid=3IKGH5V5L5LEH&keywords=guitar&qid=1653368178&sprefix=%2Caps%2C985&sr=8-135',\n",
       " 'https://www.amazon.com/Fender-String-Acoustic-Electric-Guitar-0972313259/dp/B08Z4FC3M8/ref=sr_1_136?crid=3IKGH5V5L5LEH&keywords=guitar&qid=1653368178&sprefix=%2Caps%2C985&sr=8-136',\n",
       " 'https://www.amazon.com/Fender-Limited-Player-Telecaster-Electric/dp/B07X2ZWH4G/ref=sr_1_137?crid=3IKGH5V5L5LEH&keywords=guitar&qid=1653368178&sprefix=%2Caps%2C985&sr=8-137',\n",
       " 'https://www.amazon.com/Traveler-Guitar-Acoustic-Electric-ULN-MPS/dp/B07KC4YNW6/ref=sr_1_138?crid=3IKGH5V5L5LEH&keywords=guitar&qid=1653368178&sprefix=%2Caps%2C985&sr=8-138',\n",
       " 'https://www.amazon.com/Squier-Fender-Classic-Vibe-Stratocaster/dp/B07T47VS9L/ref=sr_1_139?crid=3IKGH5V5L5LEH&keywords=guitar&qid=1653368178&sprefix=%2Caps%2C985&sr=8-139',\n",
       " 'https://www.amazon.com/Jackson-Dinky-Arch-Top-JS22/dp/B07LFVBFCW/ref=sr_1_140?crid=3IKGH5V5L5LEH&keywords=guitar&qid=1653368178&sprefix=%2Caps%2C985&sr=8-140',\n",
       " 'https://www.amazon.com/Jackson-JS-King-JS32-Matte/dp/B07P7JGVVS/ref=sr_1_141?crid=3IKGH5V5L5LEH&keywords=guitar&qid=1653368178&sprefix=%2Caps%2C985&sr=8-141',\n",
       " 'https://www.amazon.com/Fender-CN-60S-Concert-String-Acoustic/dp/B07MZNC8DM/ref=sr_1_142?crid=3IKGH5V5L5LEH&keywords=guitar&qid=1653368178&sprefix=%2Caps%2C985&sr=8-142',\n",
       " 'https://www.amazon.com/gp/slredirect/picassoRedirect.html/ref=pa_sp_btf_aps_sr_pg3_1?ie=UTF8&adId=A02644183LN9EF9R2CAVF&url=%2FZ-Skinny-ZS-B-Foldable-Classical-Support%2Fdp%2FB09Z2L7KC1%2Fref%3Dsr_1_143_sspa%3Fcrid%3D3IKGH5V5L5LEH%26keywords%3Dguitar%26qid%3D1653368178%26sprefix%3D%252Caps%252C985%26sr%3D8-143-spons%26psc%3D1&qualifier=1653368178&id=5578985115896040&widgetName=sp_btf',\n",
       " 'https://www.amazon.com/gp/slredirect/picassoRedirect.html/ref=pa_sp_btf_aps_sr_pg3_1?ie=UTF8&adId=A04556602J0A0DKCNDAY6&url=%2FCoolmusic-Acoustic-Amplifier-Portable-Bluetooth%2Fdp%2FB09DYKHNML%2Fref%3Dsr_1_144_sspa%3Fcrid%3D3IKGH5V5L5LEH%26keywords%3Dguitar%26qid%3D1653368178%26sprefix%3D%252Caps%252C985%26sr%3D8-144-spons%26psc%3D1&qualifier=1653368178&id=5578985115896040&widgetName=sp_btf',\n",
       " 'https://www.amazon.com/gp/slredirect/picassoRedirect.html/ref=pa_sp_btf_aps_sr_pg3_1?ie=UTF8&adId=A04460443VV5BEOFOAO14&url=%2FSeismic-Audio-SASTSX-3-Guitar-Instrument%2Fdp%2FB006WAAZE8%2Fref%3Dsr_1_145_sspa%3Fcrid%3D3IKGH5V5L5LEH%26keywords%3Dguitar%26qid%3D1653368178%26sprefix%3D%252Caps%252C985%26sr%3D8-145-spons%26psc%3D1%26smid%3DA7KODY9T0BTOM&qualifier=1653368178&id=5578985115896040&widgetName=sp_btf',\n",
       " 'https://www.amazon.com/gp/slredirect/picassoRedirect.html/ref=pa_sp_btf_aps_sr_pg3_1?ie=UTF8&adId=A06312411DEMGPHJ93PCS&url=%2FKoala-Tools-Guitar-Tablature-Notebook%2Fdp%2FB07VKJV2LL%2Fref%3Dsr_1_146_sspa%3Fcrid%3D3IKGH5V5L5LEH%26keywords%3Dguitar%26qid%3D1653368178%26sprefix%3D%252Caps%252C985%26sr%3D8-146-spons%26psc%3D1&qualifier=1653368178&id=5578985115896040&widgetName=sp_btf']"
      ]
     },
     "execution_count": 10,
     "metadata": {},
     "output_type": "execute_result"
    }
   ],
   "source": [
    "gui_url=[]\n",
    "for i in range(0,3):\n",
    "    url=driver.find_elements_by_xpath('//a[@class=\"a-link-normal s-underline-text s-underline-link-text s-link-style a-text-normal\"]')\n",
    "    for i in url:\n",
    "        gui_url.append(i.get_attribute('href'))\n",
    "    next_page=driver.find_element_by_xpath('//a[@class=\"s-pagination-item s-pagination-next s-pagination-button s-pagination-separator\"]')\n",
    "    next_page.click()\n",
    "    time.sleep(5)\n",
    "    \n",
    "gui_url"
   ]
  },
  {
   "cell_type": "code",
   "execution_count": 11,
   "id": "ca0aae77",
   "metadata": {},
   "outputs": [
    {
     "data": {
      "text/plain": [
       "182"
      ]
     },
     "execution_count": 11,
     "metadata": {},
     "output_type": "execute_result"
    }
   ],
   "source": [
    "len(gui_url)\n"
   ]
  },
  {
   "cell_type": "code",
   "execution_count": 20,
   "id": "f499a84b",
   "metadata": {},
   "outputs": [
    {
     "name": "stderr",
     "output_type": "stream",
     "text": [
      "C:\\Users\\SUDIP\\AppData\\Local\\Temp/ipykernel_4112/2602522165.py:6: DeprecationWarning: find_element_by_xpath is deprecated. Please use find_element(by=By.XPATH, value=xpath) instead\n",
      "  title=driver.find_element_by_xpath('/html/body/div[1]/div[2]/div[7]/div[6]/div[4]/div[1]')\n"
     ]
    },
    {
     "data": {
      "text/plain": [
       "['Moukey 38in Acoustic Guitar for Beginner Kid Adult Teen Guitarra Acustica with Chord Poster, Gig Bag, Tuner, Picks, Nylon Strings, Capo, Cloth, Strap - Sunburst',\n",
       " 'Not Present',\n",
       " 'Donner Kids Guitar 3 String Acoustic Guitar Musical Instrument with APP, Free Lessons, Essential Accessories, Gift for Age 3+ Tri-pop Series - Green',\n",
       " 'WINZZ HAND RUBBED Series - 36 Inches 3/4 Dreadnought Acoustic Acustica Guitar Bundle, Dark Hunter Green',\n",
       " 'YMC 38\" Blue Beginner Acoustic Guitar Starter Package Student Guitar with Gig Bag,Strap, 3 Thickness 9 Picks,2 Pickguards,Pick Holder, Extra Strings, Electronic Tuner -Blue',\n",
       " 'JOYMUSIC 6 String 38\" Acoustic Guitar Kit,Blueburst,Gloss (JG-38C,BLS), Right',\n",
       " 'Not Present',\n",
       " 'Pyle Classical Acoustic Guitar 36 Inch Junior Size Beginner Starter Kit Steel String Guitarra Acustica Bundle Pack with Gig Bag,Tuner, Picks, Strap for Students Practice, Kids, Adults',\n",
       " 'YMC 38\" Blue Beginner Acoustic Guitar Starter Package Student Guitar with Gig Bag,Strap, 3 Thickness 9 Picks,2 Pickguards,Pick Holder, Extra Strings, Electronic Tuner -Blue',\n",
       " 'Moukey 38in Acoustic Guitar for Beginner Kid Adult Teen Guitarra Acustica with Chord Poster, Gig Bag, Tuner, Picks, Nylon Strings, Capo, Cloth, Strap - Sunburst']"
      ]
     },
     "execution_count": 20,
     "metadata": {},
     "output_type": "execute_result"
    }
   ],
   "source": [
    "name=[]\n",
    "for i in gui_url[0:10]:\n",
    "    driver.get(i)\n",
    "    time.sleep(5)\n",
    "    try:\n",
    "        title=driver.find_element_by_xpath('/html/body/div[1]/div[2]/div[7]/div[6]/div[4]/div[1]')\n",
    "        name.append(title.text) \n",
    "    except NoSuchElementException:\n",
    "        name.append('Not Present')\n",
    "name\n"
   ]
  },
  {
   "cell_type": "code",
   "execution_count": 21,
   "id": "ea1cae16",
   "metadata": {},
   "outputs": [
    {
     "data": {
      "text/plain": [
       "10"
      ]
     },
     "execution_count": 21,
     "metadata": {},
     "output_type": "execute_result"
    }
   ],
   "source": [
    "len(name)"
   ]
  },
  {
   "cell_type": "code",
   "execution_count": 24,
   "id": "bd31b079",
   "metadata": {},
   "outputs": [
    {
     "name": "stderr",
     "output_type": "stream",
     "text": [
      "C:\\Users\\SUDIP\\AppData\\Local\\Temp/ipykernel_4112/2478232805.py:6: DeprecationWarning: find_element_by_xpath is deprecated. Please use find_element(by=By.XPATH, value=xpath) instead\n",
      "  pr=driver.find_element_by_xpath('/html/body/div[1]/div[2]/div[7]/div[6]/div[4]/div[10]/div[2]/div/table/tbody/tr/td[2]')\n"
     ]
    },
    {
     "data": {
      "text/plain": [
       "['$79.99',\n",
       " 'Not Present',\n",
       " '$79.99',\n",
       " '$109.99',\n",
       " '$59.95',\n",
       " '$43.99',\n",
       " 'Not Present',\n",
       " '$79.99',\n",
       " '$59.95',\n",
       " '$79.99']"
      ]
     },
     "execution_count": 24,
     "metadata": {},
     "output_type": "execute_result"
    }
   ],
   "source": [
    "price=[]\n",
    "for i in gui_url[0:10]:\n",
    "    driver.get(i)\n",
    "    time.sleep(5)\n",
    "    try:\n",
    "        pr=driver.find_element_by_xpath('/html/body/div[1]/div[2]/div[7]/div[6]/div[4]/div[10]/div[2]/div/table/tbody/tr/td[2]')\n",
    "        price.append(pr.text) \n",
    "    except NoSuchElementException:\n",
    "        price.append('Not Present')\n",
    "price"
   ]
  },
  {
   "cell_type": "code",
   "execution_count": 25,
   "id": "c1747fa6",
   "metadata": {},
   "outputs": [
    {
     "data": {
      "text/plain": [
       "10"
      ]
     },
     "execution_count": 25,
     "metadata": {},
     "output_type": "execute_result"
    }
   ],
   "source": [
    "len(price)"
   ]
  },
  {
   "cell_type": "code",
   "execution_count": 18,
   "id": "ba3110e2",
   "metadata": {},
   "outputs": [
    {
     "name": "stderr",
     "output_type": "stream",
     "text": [
      "C:\\Users\\SUDIP\\AppData\\Local\\Temp/ipykernel_9720/1004079457.py:1: DeprecationWarning: executable_path has been deprecated, please pass in a Service object\n",
      "  driver=webdriver.Chrome(r\"E:\\webdriver\\chromedriver.exe\")\n"
     ]
    }
   ],
   "source": [
    "driver=webdriver.Chrome(r\"E:\\webdriver\\chromedriver.exe\")"
   ]
  },
  {
   "cell_type": "code",
   "execution_count": 19,
   "id": "230db5d6",
   "metadata": {},
   "outputs": [],
   "source": [
    "driver.get('https://images.google.com/')"
   ]
  },
  {
   "cell_type": "code",
   "execution_count": 30,
   "id": "c66a43aa",
   "metadata": {},
   "outputs": [
    {
     "name": "stderr",
     "output_type": "stream",
     "text": [
      "C:\\Users\\SUDIP\\AppData\\Local\\Temp/ipykernel_9720/590588730.py:1: DeprecationWarning: find_element_by_class_name is deprecated. Please use find_element(by=By.CLASS_NAME, value=name) instead\n",
      "  ele=driver.find_element_by_class_name(\"YacQv gsfi\")\n"
     ]
    },
    {
     "ename": "NoSuchElementException",
     "evalue": "Message: no such element: Unable to locate element: {\"method\":\"css selector\",\"selector\":\".YacQv gsfi\"}\n  (Session info: chrome=102.0.5005.61)\nStacktrace:\nBacktrace:\n\tOrdinal0 [0x002CB8F3+2406643]\n\tOrdinal0 [0x0025AF31+1945393]\n\tOrdinal0 [0x0014C748+837448]\n\tOrdinal0 [0x001792E0+1020640]\n\tOrdinal0 [0x0017957B+1021307]\n\tOrdinal0 [0x001A6372+1205106]\n\tOrdinal0 [0x001942C4+1131204]\n\tOrdinal0 [0x001A4682+1197698]\n\tOrdinal0 [0x00194096+1130646]\n\tOrdinal0 [0x0016E636+976438]\n\tOrdinal0 [0x0016F546+980294]\n\tGetHandleVerifier [0x00539612+2498066]\n\tGetHandleVerifier [0x0052C920+2445600]\n\tGetHandleVerifier [0x00364F2A+579370]\n\tGetHandleVerifier [0x00363D36+574774]\n\tOrdinal0 [0x00261C0B+1973259]\n\tOrdinal0 [0x00266688+1992328]\n\tOrdinal0 [0x00266775+1992565]\n\tOrdinal0 [0x0026F8D1+2029777]\n\tBaseThreadInitThunk [0x7571FA29+25]\n\tRtlGetAppContainerNamedObjectPath [0x77407A7E+286]\n\tRtlGetAppContainerNamedObjectPath [0x77407A4E+238]\n\t(No symbol) [0x00000000]\n",
     "output_type": "error",
     "traceback": [
      "\u001b[1;31m---------------------------------------------------------------------------\u001b[0m",
      "\u001b[1;31mNoSuchElementException\u001b[0m                    Traceback (most recent call last)",
      "\u001b[1;32m~\\AppData\\Local\\Temp/ipykernel_9720/590588730.py\u001b[0m in \u001b[0;36m<module>\u001b[1;34m\u001b[0m\n\u001b[1;32m----> 1\u001b[1;33m \u001b[0mele\u001b[0m\u001b[1;33m=\u001b[0m\u001b[0mdriver\u001b[0m\u001b[1;33m.\u001b[0m\u001b[0mfind_element_by_class_name\u001b[0m\u001b[1;33m(\u001b[0m\u001b[1;34m\"YacQv gsfi\"\u001b[0m\u001b[1;33m)\u001b[0m\u001b[1;33m\u001b[0m\u001b[1;33m\u001b[0m\u001b[0m\n\u001b[0m\u001b[0;32m      2\u001b[0m \u001b[0mele\u001b[0m\u001b[1;33m.\u001b[0m\u001b[0msend_keys\u001b[0m\u001b[1;33m(\u001b[0m\u001b[1;34m\"fruits\"\u001b[0m\u001b[1;33m)\u001b[0m\u001b[1;33m\u001b[0m\u001b[1;33m\u001b[0m\u001b[0m\n\u001b[0;32m      3\u001b[0m \u001b[0msearch\u001b[0m\u001b[1;33m=\u001b[0m\u001b[0mdriver\u001b[0m\u001b[1;33m.\u001b[0m\u001b[0mfind_element_by_xpath\u001b[0m\u001b[1;33m(\u001b[0m\u001b[1;34m'/html/body/div[1]/div[3]/form/div[1]/div[1]/div[1]/button/div'\u001b[0m\u001b[1;33m)\u001b[0m\u001b[1;33m\u001b[0m\u001b[1;33m\u001b[0m\u001b[0m\n\u001b[0;32m      4\u001b[0m \u001b[0msearch\u001b[0m\u001b[1;33m.\u001b[0m\u001b[0mclick\u001b[0m\u001b[1;33m(\u001b[0m\u001b[1;33m)\u001b[0m\u001b[1;33m\u001b[0m\u001b[1;33m\u001b[0m\u001b[0m\n",
      "\u001b[1;32mC:\\ProgramData\\Anaconda3\\lib\\site-packages\\selenium\\webdriver\\remote\\webdriver.py\u001b[0m in \u001b[0;36mfind_element_by_class_name\u001b[1;34m(self, name)\u001b[0m\n\u001b[0;32m    764\u001b[0m             \u001b[0mstacklevel\u001b[0m\u001b[1;33m=\u001b[0m\u001b[1;36m2\u001b[0m\u001b[1;33m,\u001b[0m\u001b[1;33m\u001b[0m\u001b[1;33m\u001b[0m\u001b[0m\n\u001b[0;32m    765\u001b[0m         )\n\u001b[1;32m--> 766\u001b[1;33m         \u001b[1;32mreturn\u001b[0m \u001b[0mself\u001b[0m\u001b[1;33m.\u001b[0m\u001b[0mfind_element\u001b[0m\u001b[1;33m(\u001b[0m\u001b[0mby\u001b[0m\u001b[1;33m=\u001b[0m\u001b[0mBy\u001b[0m\u001b[1;33m.\u001b[0m\u001b[0mCLASS_NAME\u001b[0m\u001b[1;33m,\u001b[0m \u001b[0mvalue\u001b[0m\u001b[1;33m=\u001b[0m\u001b[0mname\u001b[0m\u001b[1;33m)\u001b[0m\u001b[1;33m\u001b[0m\u001b[1;33m\u001b[0m\u001b[0m\n\u001b[0m\u001b[0;32m    767\u001b[0m \u001b[1;33m\u001b[0m\u001b[0m\n\u001b[0;32m    768\u001b[0m     \u001b[1;32mdef\u001b[0m \u001b[0mfind_elements_by_class_name\u001b[0m\u001b[1;33m(\u001b[0m\u001b[0mself\u001b[0m\u001b[1;33m,\u001b[0m \u001b[0mname\u001b[0m\u001b[1;33m)\u001b[0m \u001b[1;33m->\u001b[0m \u001b[0mList\u001b[0m\u001b[1;33m[\u001b[0m\u001b[0mWebElement\u001b[0m\u001b[1;33m]\u001b[0m\u001b[1;33m:\u001b[0m\u001b[1;33m\u001b[0m\u001b[1;33m\u001b[0m\u001b[0m\n",
      "\u001b[1;32mC:\\ProgramData\\Anaconda3\\lib\\site-packages\\selenium\\webdriver\\remote\\webdriver.py\u001b[0m in \u001b[0;36mfind_element\u001b[1;34m(self, by, value)\u001b[0m\n\u001b[0;32m   1249\u001b[0m             \u001b[0mvalue\u001b[0m \u001b[1;33m=\u001b[0m \u001b[1;34m'[name=\"%s\"]'\u001b[0m \u001b[1;33m%\u001b[0m \u001b[0mvalue\u001b[0m\u001b[1;33m\u001b[0m\u001b[1;33m\u001b[0m\u001b[0m\n\u001b[0;32m   1250\u001b[0m \u001b[1;33m\u001b[0m\u001b[0m\n\u001b[1;32m-> 1251\u001b[1;33m         return self.execute(Command.FIND_ELEMENT, {\n\u001b[0m\u001b[0;32m   1252\u001b[0m             \u001b[1;34m'using'\u001b[0m\u001b[1;33m:\u001b[0m \u001b[0mby\u001b[0m\u001b[1;33m,\u001b[0m\u001b[1;33m\u001b[0m\u001b[1;33m\u001b[0m\u001b[0m\n\u001b[0;32m   1253\u001b[0m             'value': value})['value']\n",
      "\u001b[1;32mC:\\ProgramData\\Anaconda3\\lib\\site-packages\\selenium\\webdriver\\remote\\webdriver.py\u001b[0m in \u001b[0;36mexecute\u001b[1;34m(self, driver_command, params)\u001b[0m\n\u001b[0;32m    428\u001b[0m         \u001b[0mresponse\u001b[0m \u001b[1;33m=\u001b[0m \u001b[0mself\u001b[0m\u001b[1;33m.\u001b[0m\u001b[0mcommand_executor\u001b[0m\u001b[1;33m.\u001b[0m\u001b[0mexecute\u001b[0m\u001b[1;33m(\u001b[0m\u001b[0mdriver_command\u001b[0m\u001b[1;33m,\u001b[0m \u001b[0mparams\u001b[0m\u001b[1;33m)\u001b[0m\u001b[1;33m\u001b[0m\u001b[1;33m\u001b[0m\u001b[0m\n\u001b[0;32m    429\u001b[0m         \u001b[1;32mif\u001b[0m \u001b[0mresponse\u001b[0m\u001b[1;33m:\u001b[0m\u001b[1;33m\u001b[0m\u001b[1;33m\u001b[0m\u001b[0m\n\u001b[1;32m--> 430\u001b[1;33m             \u001b[0mself\u001b[0m\u001b[1;33m.\u001b[0m\u001b[0merror_handler\u001b[0m\u001b[1;33m.\u001b[0m\u001b[0mcheck_response\u001b[0m\u001b[1;33m(\u001b[0m\u001b[0mresponse\u001b[0m\u001b[1;33m)\u001b[0m\u001b[1;33m\u001b[0m\u001b[1;33m\u001b[0m\u001b[0m\n\u001b[0m\u001b[0;32m    431\u001b[0m             response['value'] = self._unwrap_value(\n\u001b[0;32m    432\u001b[0m                 response.get('value', None))\n",
      "\u001b[1;32mC:\\ProgramData\\Anaconda3\\lib\\site-packages\\selenium\\webdriver\\remote\\errorhandler.py\u001b[0m in \u001b[0;36mcheck_response\u001b[1;34m(self, response)\u001b[0m\n\u001b[0;32m    245\u001b[0m                 \u001b[0malert_text\u001b[0m \u001b[1;33m=\u001b[0m \u001b[0mvalue\u001b[0m\u001b[1;33m[\u001b[0m\u001b[1;34m'alert'\u001b[0m\u001b[1;33m]\u001b[0m\u001b[1;33m.\u001b[0m\u001b[0mget\u001b[0m\u001b[1;33m(\u001b[0m\u001b[1;34m'text'\u001b[0m\u001b[1;33m)\u001b[0m\u001b[1;33m\u001b[0m\u001b[1;33m\u001b[0m\u001b[0m\n\u001b[0;32m    246\u001b[0m             \u001b[1;32mraise\u001b[0m \u001b[0mexception_class\u001b[0m\u001b[1;33m(\u001b[0m\u001b[0mmessage\u001b[0m\u001b[1;33m,\u001b[0m \u001b[0mscreen\u001b[0m\u001b[1;33m,\u001b[0m \u001b[0mstacktrace\u001b[0m\u001b[1;33m,\u001b[0m \u001b[0malert_text\u001b[0m\u001b[1;33m)\u001b[0m  \u001b[1;31m# type: ignore[call-arg]  # mypy is not smart enough here\u001b[0m\u001b[1;33m\u001b[0m\u001b[1;33m\u001b[0m\u001b[0m\n\u001b[1;32m--> 247\u001b[1;33m         \u001b[1;32mraise\u001b[0m \u001b[0mexception_class\u001b[0m\u001b[1;33m(\u001b[0m\u001b[0mmessage\u001b[0m\u001b[1;33m,\u001b[0m \u001b[0mscreen\u001b[0m\u001b[1;33m,\u001b[0m \u001b[0mstacktrace\u001b[0m\u001b[1;33m)\u001b[0m\u001b[1;33m\u001b[0m\u001b[1;33m\u001b[0m\u001b[0m\n\u001b[0m\u001b[0;32m    248\u001b[0m \u001b[1;33m\u001b[0m\u001b[0m\n\u001b[0;32m    249\u001b[0m     \u001b[1;32mdef\u001b[0m \u001b[0m_value_or_default\u001b[0m\u001b[1;33m(\u001b[0m\u001b[0mself\u001b[0m\u001b[1;33m,\u001b[0m \u001b[0mobj\u001b[0m\u001b[1;33m:\u001b[0m \u001b[0mMapping\u001b[0m\u001b[1;33m[\u001b[0m\u001b[0m_KT\u001b[0m\u001b[1;33m,\u001b[0m \u001b[0m_VT\u001b[0m\u001b[1;33m]\u001b[0m\u001b[1;33m,\u001b[0m \u001b[0mkey\u001b[0m\u001b[1;33m:\u001b[0m \u001b[0m_KT\u001b[0m\u001b[1;33m,\u001b[0m \u001b[0mdefault\u001b[0m\u001b[1;33m:\u001b[0m \u001b[0m_VT\u001b[0m\u001b[1;33m)\u001b[0m \u001b[1;33m->\u001b[0m \u001b[0m_VT\u001b[0m\u001b[1;33m:\u001b[0m\u001b[1;33m\u001b[0m\u001b[1;33m\u001b[0m\u001b[0m\n",
      "\u001b[1;31mNoSuchElementException\u001b[0m: Message: no such element: Unable to locate element: {\"method\":\"css selector\",\"selector\":\".YacQv gsfi\"}\n  (Session info: chrome=102.0.5005.61)\nStacktrace:\nBacktrace:\n\tOrdinal0 [0x002CB8F3+2406643]\n\tOrdinal0 [0x0025AF31+1945393]\n\tOrdinal0 [0x0014C748+837448]\n\tOrdinal0 [0x001792E0+1020640]\n\tOrdinal0 [0x0017957B+1021307]\n\tOrdinal0 [0x001A6372+1205106]\n\tOrdinal0 [0x001942C4+1131204]\n\tOrdinal0 [0x001A4682+1197698]\n\tOrdinal0 [0x00194096+1130646]\n\tOrdinal0 [0x0016E636+976438]\n\tOrdinal0 [0x0016F546+980294]\n\tGetHandleVerifier [0x00539612+2498066]\n\tGetHandleVerifier [0x0052C920+2445600]\n\tGetHandleVerifier [0x00364F2A+579370]\n\tGetHandleVerifier [0x00363D36+574774]\n\tOrdinal0 [0x00261C0B+1973259]\n\tOrdinal0 [0x00266688+1992328]\n\tOrdinal0 [0x00266775+1992565]\n\tOrdinal0 [0x0026F8D1+2029777]\n\tBaseThreadInitThunk [0x7571FA29+25]\n\tRtlGetAppContainerNamedObjectPath [0x77407A7E+286]\n\tRtlGetAppContainerNamedObjectPath [0x77407A4E+238]\n\t(No symbol) [0x00000000]\n"
     ]
    }
   ],
   "source": [
    "ele=driver.find_element_by_class_name(\"YacQv gsfi\")\n",
    "ele.send_keys(\"fruits\")\n",
    "search=driver.find_element_by_xpath('/html/body/div[1]/div[3]/form/div[1]/div[1]/div[1]/button/div')\n",
    "search.click()"
   ]
  },
  {
   "cell_type": "code",
   "execution_count": null,
   "id": "bd080a43",
   "metadata": {},
   "outputs": [],
   "source": []
  }
 ],
 "metadata": {
  "kernelspec": {
   "display_name": "Python 3 (ipykernel)",
   "language": "python",
   "name": "python3"
  },
  "language_info": {
   "codemirror_mode": {
    "name": "ipython",
    "version": 3
   },
   "file_extension": ".py",
   "mimetype": "text/x-python",
   "name": "python",
   "nbconvert_exporter": "python",
   "pygments_lexer": "ipython3",
   "version": "3.9.7"
  }
 },
 "nbformat": 4,
 "nbformat_minor": 5
}
