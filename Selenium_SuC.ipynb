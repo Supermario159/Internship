{
 "cells": [
  {
   "cell_type": "code",
   "execution_count": 1,
   "id": "11cb97f4",
   "metadata": {},
   "outputs": [
    {
     "name": "stdout",
     "output_type": "stream",
     "text": [
      "Requirement already satisfied: selenium in c:\\programdata\\anaconda3\\lib\\site-packages (4.1.5)\n",
      "Requirement already satisfied: trio~=0.17 in c:\\programdata\\anaconda3\\lib\\site-packages (from selenium) (0.20.0)\n",
      "Requirement already satisfied: trio-websocket~=0.9 in c:\\programdata\\anaconda3\\lib\\site-packages (from selenium) (0.9.2)\n",
      "Requirement already satisfied: urllib3[secure,socks]~=1.26 in c:\\programdata\\anaconda3\\lib\\site-packages (from selenium) (1.26.7)\n",
      "Requirement already satisfied: sortedcontainers in c:\\programdata\\anaconda3\\lib\\site-packages (from trio~=0.17->selenium) (2.4.0)\n",
      "Requirement already satisfied: attrs>=19.2.0 in c:\\programdata\\anaconda3\\lib\\site-packages (from trio~=0.17->selenium) (21.2.0)\n",
      "Requirement already satisfied: outcome in c:\\programdata\\anaconda3\\lib\\site-packages (from trio~=0.17->selenium) (1.1.0)\n",
      "Requirement already satisfied: async-generator>=1.9 in c:\\programdata\\anaconda3\\lib\\site-packages (from trio~=0.17->selenium) (1.10)\n",
      "Requirement already satisfied: cffi>=1.14 in c:\\programdata\\anaconda3\\lib\\site-packages (from trio~=0.17->selenium) (1.14.6)\n",
      "Requirement already satisfied: sniffio in c:\\programdata\\anaconda3\\lib\\site-packages (from trio~=0.17->selenium) (1.2.0)\n",
      "Requirement already satisfied: idna in c:\\programdata\\anaconda3\\lib\\site-packages (from trio~=0.17->selenium) (3.2)\n",
      "Requirement already satisfied: pycparser in c:\\programdata\\anaconda3\\lib\\site-packages (from cffi>=1.14->trio~=0.17->selenium) (2.20)\n",
      "Requirement already satisfied: wsproto>=0.14 in c:\\programdata\\anaconda3\\lib\\site-packages (from trio-websocket~=0.9->selenium) (1.1.0)\n",
      "Requirement already satisfied: PySocks!=1.5.7,<2.0,>=1.5.6 in c:\\programdata\\anaconda3\\lib\\site-packages (from urllib3[secure,socks]~=1.26->selenium) (1.7.1)\n",
      "Requirement already satisfied: pyOpenSSL>=0.14 in c:\\programdata\\anaconda3\\lib\\site-packages (from urllib3[secure,socks]~=1.26->selenium) (21.0.0)\n",
      "Requirement already satisfied: cryptography>=1.3.4 in c:\\programdata\\anaconda3\\lib\\site-packages (from urllib3[secure,socks]~=1.26->selenium) (3.4.8)\n",
      "Requirement already satisfied: certifi in c:\\programdata\\anaconda3\\lib\\site-packages (from urllib3[secure,socks]~=1.26->selenium) (2021.10.8)\n",
      "Requirement already satisfied: six>=1.5.2 in c:\\programdata\\anaconda3\\lib\\site-packages (from pyOpenSSL>=0.14->urllib3[secure,socks]~=1.26->selenium) (1.16.0)\n",
      "Requirement already satisfied: h11<1,>=0.9.0 in c:\\programdata\\anaconda3\\lib\\site-packages (from wsproto>=0.14->trio-websocket~=0.9->selenium) (0.13.0)\n"
     ]
    }
   ],
   "source": [
    "!pip install selenium"
   ]
  },
  {
   "cell_type": "code",
   "execution_count": 2,
   "id": "0e99e8a7",
   "metadata": {},
   "outputs": [],
   "source": [
    "import selenium\n",
    "import pandas as pd\n",
    "from selenium import webdriver\n",
    "import warnings\n",
    "warnings.filterwarnings('ignore')\n",
    "import time"
   ]
  },
  {
   "cell_type": "code",
   "execution_count": 3,
   "id": "50df3077",
   "metadata": {},
   "outputs": [],
   "source": [
    "driver=webdriver.Chrome(r\"E:\\webdriver\\chromedriver.exe\")\n"
   ]
  },
  {
   "cell_type": "code",
   "execution_count": 4,
   "id": "9c614a45",
   "metadata": {},
   "outputs": [],
   "source": [
    "driver=webdriver.Chrome(\"chromedriver.exe\")\n",
    "time.sleep(2)"
   ]
  },
  {
   "cell_type": "code",
   "execution_count": 5,
   "id": "63eb62b4",
   "metadata": {},
   "outputs": [],
   "source": [
    "driver.get('https://www.naukri.com/')"
   ]
  },
  {
   "cell_type": "code",
   "execution_count": 6,
   "id": "285ed253",
   "metadata": {},
   "outputs": [],
   "source": [
    "designation=driver.find_element_by_class_name(\"suggestor-input\")\n",
    "designation.send_keys(\"Data Scientist\")"
   ]
  },
  {
   "cell_type": "code",
   "execution_count": 7,
   "id": "70c2cfe8",
   "metadata": {},
   "outputs": [],
   "source": [
    "location=driver.find_element_by_class_name(\"suggestor-input\")\n",
    "location.send_keys(\"Delhi\")"
   ]
  },
  {
   "cell_type": "code",
   "execution_count": 8,
   "id": "4fa0ed4f",
   "metadata": {},
   "outputs": [],
   "source": [
    "location=driver.find_element_by_xpath(\"/html/body/div/div[2]/div[3]/div/div/div[3]/div/div/div/input\")\n",
    "location.send_keys(\"Delhi\")"
   ]
  },
  {
   "cell_type": "code",
   "execution_count": 9,
   "id": "59c02070",
   "metadata": {},
   "outputs": [],
   "source": [
    "search=driver.find_element_by_xpath(\"/html/body/div/div[2]/div[3]/div/div/div[6]\")\n",
    "search.click()"
   ]
  },
  {
   "cell_type": "code",
   "execution_count": 10,
   "id": "574f940f",
   "metadata": {},
   "outputs": [],
   "source": [
    "job_titles=[]\n",
    "company_names=[]\n",
    "locations_list=[]\n",
    "experience_list=[]"
   ]
  },
  {
   "cell_type": "code",
   "execution_count": 11,
   "id": "d9252aaa",
   "metadata": {},
   "outputs": [
    {
     "data": {
      "text/plain": [
       "[]"
      ]
     },
     "execution_count": 11,
     "metadata": {},
     "output_type": "execute_result"
    }
   ],
   "source": [
    "title=driver.find_elements_by_xpath(\"//a[@class='title fw500 ellipsis']\")\n",
    "title[0:10]"
   ]
  },
  {
   "cell_type": "code",
   "execution_count": 12,
   "id": "c5372b1d",
   "metadata": {},
   "outputs": [
    {
     "data": {
      "text/plain": [
       "[]"
      ]
     },
     "execution_count": 12,
     "metadata": {},
     "output_type": "execute_result"
    }
   ],
   "source": [
    "job_titles=[]\n",
    "\n",
    "for i in title[0:10]:\n",
    "    t=i.text\n",
    "    job_titles.append(t)\n",
    "job_titles"
   ]
  },
  {
   "cell_type": "code",
   "execution_count": 13,
   "id": "1cc773eb",
   "metadata": {},
   "outputs": [
    {
     "data": {
      "text/plain": [
       "[]"
      ]
     },
     "execution_count": 13,
     "metadata": {},
     "output_type": "execute_result"
    }
   ],
   "source": [
    "company=driver.find_elements_by_xpath(\"//a[@class='subTitle ellipsis fleft']\")\n",
    "company[0:10]"
   ]
  },
  {
   "cell_type": "code",
   "execution_count": 14,
   "id": "943ac20b",
   "metadata": {},
   "outputs": [
    {
     "data": {
      "text/plain": [
       "[]"
      ]
     },
     "execution_count": 14,
     "metadata": {},
     "output_type": "execute_result"
    }
   ],
   "source": [
    "company_names=[]\n",
    "\n",
    "for i in company[0:10]:\n",
    "    cn=i.text\n",
    "    company_names.append(cn)\n",
    "company_names"
   ]
  },
  {
   "cell_type": "code",
   "execution_count": 15,
   "id": "403a6c63",
   "metadata": {},
   "outputs": [
    {
     "data": {
      "text/plain": [
       "[]"
      ]
     },
     "execution_count": 15,
     "metadata": {},
     "output_type": "execute_result"
    }
   ],
   "source": [
    "loc=driver.find_elements_by_xpath(\"//li[@class='fleft grey-text br2 placeHolderLi location']/span\")\n",
    "loc[0:10]"
   ]
  },
  {
   "cell_type": "code",
   "execution_count": 16,
   "id": "c6bc1345",
   "metadata": {},
   "outputs": [
    {
     "data": {
      "text/plain": [
       "[]"
      ]
     },
     "execution_count": 16,
     "metadata": {},
     "output_type": "execute_result"
    }
   ],
   "source": [
    "locations_list=[]\n",
    "\n",
    "for i in loc[0:10]:\n",
    "    l=i.text\n",
    "    locations_list.append(l)\n",
    "locations_list"
   ]
  },
  {
   "cell_type": "code",
   "execution_count": 17,
   "id": "6f59e083",
   "metadata": {},
   "outputs": [
    {
     "data": {
      "text/plain": [
       "[]"
      ]
     },
     "execution_count": 17,
     "metadata": {},
     "output_type": "execute_result"
    }
   ],
   "source": [
    "exp=driver.find_elements_by_xpath(\"//li[@class='fleft grey-text br2 placeHolderLi experience']/span\")\n",
    "exp[0:10]"
   ]
  },
  {
   "cell_type": "code",
   "execution_count": 18,
   "id": "4f0ac558",
   "metadata": {},
   "outputs": [
    {
     "data": {
      "text/plain": [
       "[]"
      ]
     },
     "execution_count": 18,
     "metadata": {},
     "output_type": "execute_result"
    }
   ],
   "source": [
    "experience_list=[]\n",
    "\n",
    "for i in exp[0:10]:\n",
    "    e=i.text\n",
    "    experience_list.append(e)\n",
    "experience_list"
   ]
  },
  {
   "cell_type": "code",
   "execution_count": 19,
   "id": "0b7c45a3",
   "metadata": {},
   "outputs": [
    {
     "name": "stdout",
     "output_type": "stream",
     "text": [
      "0 0 0 0\n"
     ]
    }
   ],
   "source": [
    "print(len(job_titles),len(company_names),len(locations_list),len(experience_list))"
   ]
  },
  {
   "cell_type": "code",
   "execution_count": 20,
   "id": "166f122c",
   "metadata": {},
   "outputs": [],
   "source": [
    "import pandas as pd\n",
    "jobs=pd.DataFrame({})\n",
    "jobs['title']=job_titles\n",
    "jobs['company']=company_names\n",
    "jobs['loc']=locations_list\n",
    "jobs['exp']=experience_list"
   ]
  },
  {
   "cell_type": "code",
   "execution_count": 21,
   "id": "49190dfa",
   "metadata": {},
   "outputs": [
    {
     "data": {
      "text/html": [
       "<div>\n",
       "<style scoped>\n",
       "    .dataframe tbody tr th:only-of-type {\n",
       "        vertical-align: middle;\n",
       "    }\n",
       "\n",
       "    .dataframe tbody tr th {\n",
       "        vertical-align: top;\n",
       "    }\n",
       "\n",
       "    .dataframe thead th {\n",
       "        text-align: right;\n",
       "    }\n",
       "</style>\n",
       "<table border=\"1\" class=\"dataframe\">\n",
       "  <thead>\n",
       "    <tr style=\"text-align: right;\">\n",
       "      <th></th>\n",
       "      <th>title</th>\n",
       "      <th>company</th>\n",
       "      <th>loc</th>\n",
       "      <th>exp</th>\n",
       "    </tr>\n",
       "  </thead>\n",
       "  <tbody>\n",
       "  </tbody>\n",
       "</table>\n",
       "</div>"
      ],
      "text/plain": [
       "Empty DataFrame\n",
       "Columns: [title, company, loc, exp]\n",
       "Index: []"
      ]
     },
     "execution_count": 21,
     "metadata": {},
     "output_type": "execute_result"
    }
   ],
   "source": [
    "jobs"
   ]
  },
  {
   "cell_type": "code",
   "execution_count": 22,
   "id": "5e4e1840",
   "metadata": {},
   "outputs": [
    {
     "name": "stdout",
     "output_type": "stream",
     "text": [
      "Requirement already satisfied: selenium in c:\\programdata\\anaconda3\\lib\\site-packages (4.1.5)\n",
      "Requirement already satisfied: trio-websocket~=0.9 in c:\\programdata\\anaconda3\\lib\\site-packages (from selenium) (0.9.2)\n",
      "Requirement already satisfied: urllib3[secure,socks]~=1.26 in c:\\programdata\\anaconda3\\lib\\site-packages (from selenium) (1.26.7)\n",
      "Requirement already satisfied: trio~=0.17 in c:\\programdata\\anaconda3\\lib\\site-packages (from selenium) (0.20.0)\n",
      "Requirement already satisfied: idna in c:\\programdata\\anaconda3\\lib\\site-packages (from trio~=0.17->selenium) (3.2)\n",
      "Requirement already satisfied: outcome in c:\\programdata\\anaconda3\\lib\\site-packages (from trio~=0.17->selenium) (1.1.0)\n",
      "Requirement already satisfied: cffi>=1.14 in c:\\programdata\\anaconda3\\lib\\site-packages (from trio~=0.17->selenium) (1.14.6)\n",
      "Requirement already satisfied: async-generator>=1.9 in c:\\programdata\\anaconda3\\lib\\site-packages (from trio~=0.17->selenium) (1.10)\n",
      "Requirement already satisfied: sniffio in c:\\programdata\\anaconda3\\lib\\site-packages (from trio~=0.17->selenium) (1.2.0)\n",
      "Requirement already satisfied: sortedcontainers in c:\\programdata\\anaconda3\\lib\\site-packages (from trio~=0.17->selenium) (2.4.0)\n",
      "Requirement already satisfied: attrs>=19.2.0 in c:\\programdata\\anaconda3\\lib\\site-packages (from trio~=0.17->selenium) (21.2.0)\n",
      "Requirement already satisfied: pycparser in c:\\programdata\\anaconda3\\lib\\site-packages (from cffi>=1.14->trio~=0.17->selenium) (2.20)\n",
      "Requirement already satisfied: wsproto>=0.14 in c:\\programdata\\anaconda3\\lib\\site-packages (from trio-websocket~=0.9->selenium) (1.1.0)\n",
      "Requirement already satisfied: pyOpenSSL>=0.14 in c:\\programdata\\anaconda3\\lib\\site-packages (from urllib3[secure,socks]~=1.26->selenium) (21.0.0)\n",
      "Requirement already satisfied: cryptography>=1.3.4 in c:\\programdata\\anaconda3\\lib\\site-packages (from urllib3[secure,socks]~=1.26->selenium) (3.4.8)\n",
      "Requirement already satisfied: certifi in c:\\programdata\\anaconda3\\lib\\site-packages (from urllib3[secure,socks]~=1.26->selenium) (2021.10.8)\n",
      "Requirement already satisfied: PySocks!=1.5.7,<2.0,>=1.5.6 in c:\\programdata\\anaconda3\\lib\\site-packages (from urllib3[secure,socks]~=1.26->selenium) (1.7.1)\n",
      "Requirement already satisfied: six>=1.5.2 in c:\\programdata\\anaconda3\\lib\\site-packages (from pyOpenSSL>=0.14->urllib3[secure,socks]~=1.26->selenium) (1.16.0)\n",
      "Requirement already satisfied: h11<1,>=0.9.0 in c:\\programdata\\anaconda3\\lib\\site-packages (from wsproto>=0.14->trio-websocket~=0.9->selenium) (0.13.0)\n"
     ]
    }
   ],
   "source": [
    "!pip install selenium"
   ]
  },
  {
   "cell_type": "code",
   "execution_count": 23,
   "id": "16760bcc",
   "metadata": {},
   "outputs": [],
   "source": [
    "import selenium\n",
    "import pandas as pd\n",
    "from selenium import webdriver\n",
    "import warnings\n",
    "warnings.filterwarnings('ignore')\n",
    "import time"
   ]
  },
  {
   "cell_type": "code",
   "execution_count": 24,
   "id": "d0c86cad",
   "metadata": {},
   "outputs": [],
   "source": [
    "driver=webdriver.Chrome(r\"E:\\webdriver\\chromedriver.exe\")"
   ]
  },
  {
   "cell_type": "code",
   "execution_count": 25,
   "id": "a8250879",
   "metadata": {},
   "outputs": [],
   "source": [
    "driver=webdriver.Chrome(\"chromedriver.exe\")\n",
    "time.sleep(2)"
   ]
  },
  {
   "cell_type": "code",
   "execution_count": 26,
   "id": "0db92b4d",
   "metadata": {},
   "outputs": [],
   "source": [
    "driver.get('https://www.naukri.com/ ')"
   ]
  },
  {
   "cell_type": "code",
   "execution_count": 27,
   "id": "f43ccaa7",
   "metadata": {},
   "outputs": [],
   "source": [
    "designation=driver.find_element_by_class_name(\"suggestor-input \")\n",
    "designation.send_keys('Data Scientist')"
   ]
  },
  {
   "cell_type": "code",
   "execution_count": 28,
   "id": "94d600fd",
   "metadata": {},
   "outputs": [],
   "source": [
    "location=driver.find_element_by_xpath('/html/body/div/div[2]/div[3]/div/div/div[3]/div/div/div/input')\n",
    "location.send_keys('Bangalore')"
   ]
  },
  {
   "cell_type": "code",
   "execution_count": 29,
   "id": "b7dce191",
   "metadata": {},
   "outputs": [],
   "source": [
    "search=driver.find_element_by_xpath('/html/body/div/div[2]/div[3]/div/div/div[6]')\n",
    "search.click()"
   ]
  },
  {
   "cell_type": "code",
   "execution_count": 30,
   "id": "6130ce9a",
   "metadata": {},
   "outputs": [],
   "source": [
    "job_title=[]\n",
    "job_location=[]\n",
    "company_name=[]"
   ]
  },
  {
   "cell_type": "code",
   "execution_count": 31,
   "id": "765c5dec",
   "metadata": {},
   "outputs": [
    {
     "data": {
      "text/plain": [
       "[<selenium.webdriver.remote.webelement.WebElement (session=\"7f42c6bbb2fe3611e4a4997a133038d4\", element=\"ac5ec468-14b0-4d36-85bf-f156b670f223\")>,\n",
       " <selenium.webdriver.remote.webelement.WebElement (session=\"7f42c6bbb2fe3611e4a4997a133038d4\", element=\"ed9e9a1d-4e09-4df2-8452-842f7acdf36a\")>,\n",
       " <selenium.webdriver.remote.webelement.WebElement (session=\"7f42c6bbb2fe3611e4a4997a133038d4\", element=\"2352f1ac-38cc-4f87-a5a3-2ba41008b942\")>,\n",
       " <selenium.webdriver.remote.webelement.WebElement (session=\"7f42c6bbb2fe3611e4a4997a133038d4\", element=\"76ca2957-f6a7-42e4-9a26-1a9a20864cf8\")>,\n",
       " <selenium.webdriver.remote.webelement.WebElement (session=\"7f42c6bbb2fe3611e4a4997a133038d4\", element=\"64a95eee-f936-42a5-b2a7-a7f7c06fca0f\")>,\n",
       " <selenium.webdriver.remote.webelement.WebElement (session=\"7f42c6bbb2fe3611e4a4997a133038d4\", element=\"b1083f12-5293-4d38-896a-4d3a81ac0dd4\")>,\n",
       " <selenium.webdriver.remote.webelement.WebElement (session=\"7f42c6bbb2fe3611e4a4997a133038d4\", element=\"32a3f9bc-e6ce-4d66-8b31-6b810794f871\")>,\n",
       " <selenium.webdriver.remote.webelement.WebElement (session=\"7f42c6bbb2fe3611e4a4997a133038d4\", element=\"d0ff36d0-507d-4746-bc56-420a434c9177\")>,\n",
       " <selenium.webdriver.remote.webelement.WebElement (session=\"7f42c6bbb2fe3611e4a4997a133038d4\", element=\"6517c195-7d7d-46e7-bfb1-f21b657bec5f\")>,\n",
       " <selenium.webdriver.remote.webelement.WebElement (session=\"7f42c6bbb2fe3611e4a4997a133038d4\", element=\"3aa25363-b551-468c-bd12-433aa5be97c6\")>]"
      ]
     },
     "execution_count": 31,
     "metadata": {},
     "output_type": "execute_result"
    }
   ],
   "source": [
    "title=driver.find_elements_by_xpath(\"//a[@class='title fw500 ellipsis']\")\n",
    "title[0:10]"
   ]
  },
  {
   "cell_type": "code",
   "execution_count": 32,
   "id": "2899f870",
   "metadata": {},
   "outputs": [
    {
     "data": {
      "text/plain": [
       "['Applied Data Scientist / ML Senior Engineer (Python / SQL)',\n",
       " 'Senior Data Scientist Grade12',\n",
       " 'Senior Data Scientist Grade12',\n",
       " 'Senior Data Scientist',\n",
       " 'Data Scientist: Advanced Analytics',\n",
       " 'Data Scientist',\n",
       " 'Data Scientist',\n",
       " 'Data Scientist: Artificial Intelligence',\n",
       " 'Data Scientist, Machine Learning (AIML)',\n",
       " 'Lead Applied Data Scientist']"
      ]
     },
     "execution_count": 32,
     "metadata": {},
     "output_type": "execute_result"
    }
   ],
   "source": [
    "job_title=[]\n",
    "\n",
    "for i in title[0:10]:\n",
    "    t=i.text\n",
    "    job_title.append(t)\n",
    "job_title"
   ]
  },
  {
   "cell_type": "code",
   "execution_count": 33,
   "id": "95accafc",
   "metadata": {},
   "outputs": [
    {
     "data": {
      "text/plain": [
       "[<selenium.webdriver.remote.webelement.WebElement (session=\"7f42c6bbb2fe3611e4a4997a133038d4\", element=\"29a240d9-17d5-42dc-9ffd-fbd3ae1f853a\")>,\n",
       " <selenium.webdriver.remote.webelement.WebElement (session=\"7f42c6bbb2fe3611e4a4997a133038d4\", element=\"3bc8676c-d96a-4c76-a7b8-43b0544b4db1\")>,\n",
       " <selenium.webdriver.remote.webelement.WebElement (session=\"7f42c6bbb2fe3611e4a4997a133038d4\", element=\"08008353-5d35-447e-9e56-6239f6a8d6fc\")>,\n",
       " <selenium.webdriver.remote.webelement.WebElement (session=\"7f42c6bbb2fe3611e4a4997a133038d4\", element=\"751e81d7-c6e5-4505-8984-7bf34eccbbb1\")>,\n",
       " <selenium.webdriver.remote.webelement.WebElement (session=\"7f42c6bbb2fe3611e4a4997a133038d4\", element=\"482f3f8a-0edf-45ca-a591-a7b6b183aad7\")>,\n",
       " <selenium.webdriver.remote.webelement.WebElement (session=\"7f42c6bbb2fe3611e4a4997a133038d4\", element=\"02c0ad7c-37d1-4c98-96b5-d17ac46b0708\")>,\n",
       " <selenium.webdriver.remote.webelement.WebElement (session=\"7f42c6bbb2fe3611e4a4997a133038d4\", element=\"a006f6b0-5148-4408-a702-3c5203dce41b\")>,\n",
       " <selenium.webdriver.remote.webelement.WebElement (session=\"7f42c6bbb2fe3611e4a4997a133038d4\", element=\"8a0c8a77-a0f1-4672-9dc5-fde2a7c5f46d\")>,\n",
       " <selenium.webdriver.remote.webelement.WebElement (session=\"7f42c6bbb2fe3611e4a4997a133038d4\", element=\"636b3661-aeac-4a3f-bd80-0a2883a045f6\")>,\n",
       " <selenium.webdriver.remote.webelement.WebElement (session=\"7f42c6bbb2fe3611e4a4997a133038d4\", element=\"fcbdadab-7f20-4578-8014-df2df50b9d53\")>]"
      ]
     },
     "execution_count": 33,
     "metadata": {},
     "output_type": "execute_result"
    }
   ],
   "source": [
    "loc=driver.find_elements_by_xpath(\"//li[@class='fleft grey-text br2 placeHolderLi location']/span\")\n",
    "loc[0:10]\n",
    "\n"
   ]
  },
  {
   "cell_type": "code",
   "execution_count": 34,
   "id": "52309995",
   "metadata": {},
   "outputs": [
    {
     "data": {
      "text/plain": [
       "['Bangalore/Bengaluru',\n",
       " 'Bangalore/Bengaluru',\n",
       " 'Bangalore/Bengaluru',\n",
       " 'Bangalore/Bengaluru',\n",
       " 'Bangalore/Bengaluru',\n",
       " 'Hyderabad/Secunderabad, Bangalore/Bengaluru, Delhi / NCR',\n",
       " 'Bangalore/Bengaluru',\n",
       " 'Bangalore/Bengaluru',\n",
       " 'Bangalore/Bengaluru',\n",
       " 'Bangalore/Bengaluru']"
      ]
     },
     "execution_count": 34,
     "metadata": {},
     "output_type": "execute_result"
    }
   ],
   "source": [
    "for i in loc[0:10]:\n",
    "    l=i.text\n",
    "    job_location.append(l)\n",
    "job_location\n"
   ]
  },
  {
   "cell_type": "code",
   "execution_count": 35,
   "id": "e7c89c11",
   "metadata": {},
   "outputs": [
    {
     "data": {
      "text/plain": [
       "[<selenium.webdriver.remote.webelement.WebElement (session=\"7f42c6bbb2fe3611e4a4997a133038d4\", element=\"103c83a3-35ab-499b-b086-1eb050f1b936\")>,\n",
       " <selenium.webdriver.remote.webelement.WebElement (session=\"7f42c6bbb2fe3611e4a4997a133038d4\", element=\"4ec23c17-9571-4d0b-8280-796bb64fc17d\")>,\n",
       " <selenium.webdriver.remote.webelement.WebElement (session=\"7f42c6bbb2fe3611e4a4997a133038d4\", element=\"bf0b0dec-cfcb-4bb9-8f29-d5703a7ed50c\")>,\n",
       " <selenium.webdriver.remote.webelement.WebElement (session=\"7f42c6bbb2fe3611e4a4997a133038d4\", element=\"d9fb1b55-b6e5-44cd-9920-572d3c0fbc14\")>,\n",
       " <selenium.webdriver.remote.webelement.WebElement (session=\"7f42c6bbb2fe3611e4a4997a133038d4\", element=\"9716ed9a-a74a-4c74-b4c8-d3af3eb31002\")>,\n",
       " <selenium.webdriver.remote.webelement.WebElement (session=\"7f42c6bbb2fe3611e4a4997a133038d4\", element=\"9947675d-2c30-44d8-9774-a94761745795\")>,\n",
       " <selenium.webdriver.remote.webelement.WebElement (session=\"7f42c6bbb2fe3611e4a4997a133038d4\", element=\"92083708-3e39-45d5-8d9d-cf2247c36b60\")>,\n",
       " <selenium.webdriver.remote.webelement.WebElement (session=\"7f42c6bbb2fe3611e4a4997a133038d4\", element=\"25339461-0813-4934-8f57-03291a21902b\")>,\n",
       " <selenium.webdriver.remote.webelement.WebElement (session=\"7f42c6bbb2fe3611e4a4997a133038d4\", element=\"08ae0111-3869-46a2-806a-ec83916816b2\")>,\n",
       " <selenium.webdriver.remote.webelement.WebElement (session=\"7f42c6bbb2fe3611e4a4997a133038d4\", element=\"5ab16794-2242-48f5-9709-dfcc1d6b91c8\")>]"
      ]
     },
     "execution_count": 35,
     "metadata": {},
     "output_type": "execute_result"
    }
   ],
   "source": [
    "com=driver.find_elements_by_xpath(\"//a[@class='subTitle ellipsis fleft']\")\n",
    "com[0:10]"
   ]
  },
  {
   "cell_type": "code",
   "execution_count": 36,
   "id": "ad2ca9b6",
   "metadata": {},
   "outputs": [
    {
     "data": {
      "text/plain": [
       "['SAP India Pvt.Ltd',\n",
       " 'Flipkart',\n",
       " 'Flipkart',\n",
       " 'Fractal Analytics',\n",
       " 'IBM',\n",
       " 'Genpact',\n",
       " 'VISA',\n",
       " 'IBM',\n",
       " 'Fractal Analytics',\n",
       " 'Tesco Bengaluru']"
      ]
     },
     "execution_count": 36,
     "metadata": {},
     "output_type": "execute_result"
    }
   ],
   "source": [
    "company_name=[]\n",
    "\n",
    "for i in com[0:10]:\n",
    "    c=i.text\n",
    "    company_name.append(c)\n",
    "    \n",
    "company_name"
   ]
  },
  {
   "cell_type": "code",
   "execution_count": 37,
   "id": "dccda942",
   "metadata": {},
   "outputs": [
    {
     "name": "stdout",
     "output_type": "stream",
     "text": [
      "10 10 10\n"
     ]
    }
   ],
   "source": [
    "print(len(job_title),len(company_name),len(job_location))"
   ]
  },
  {
   "cell_type": "code",
   "execution_count": 38,
   "id": "7c702335",
   "metadata": {},
   "outputs": [],
   "source": [
    "import pandas as pd\n",
    "jobs=pd.DataFrame({})\n",
    "jobs['title']=job_title\n",
    "jobs['com']=company_name\n",
    "jobs['loc']=job_location\n"
   ]
  },
  {
   "cell_type": "code",
   "execution_count": 39,
   "id": "2cb00f60",
   "metadata": {},
   "outputs": [
    {
     "data": {
      "text/html": [
       "<div>\n",
       "<style scoped>\n",
       "    .dataframe tbody tr th:only-of-type {\n",
       "        vertical-align: middle;\n",
       "    }\n",
       "\n",
       "    .dataframe tbody tr th {\n",
       "        vertical-align: top;\n",
       "    }\n",
       "\n",
       "    .dataframe thead th {\n",
       "        text-align: right;\n",
       "    }\n",
       "</style>\n",
       "<table border=\"1\" class=\"dataframe\">\n",
       "  <thead>\n",
       "    <tr style=\"text-align: right;\">\n",
       "      <th></th>\n",
       "      <th>title</th>\n",
       "      <th>com</th>\n",
       "      <th>loc</th>\n",
       "    </tr>\n",
       "  </thead>\n",
       "  <tbody>\n",
       "    <tr>\n",
       "      <th>0</th>\n",
       "      <td>Applied Data Scientist / ML Senior Engineer (P...</td>\n",
       "      <td>SAP India Pvt.Ltd</td>\n",
       "      <td>Bangalore/Bengaluru</td>\n",
       "    </tr>\n",
       "    <tr>\n",
       "      <th>1</th>\n",
       "      <td>Senior Data Scientist Grade12</td>\n",
       "      <td>Flipkart</td>\n",
       "      <td>Bangalore/Bengaluru</td>\n",
       "    </tr>\n",
       "    <tr>\n",
       "      <th>2</th>\n",
       "      <td>Senior Data Scientist Grade12</td>\n",
       "      <td>Flipkart</td>\n",
       "      <td>Bangalore/Bengaluru</td>\n",
       "    </tr>\n",
       "    <tr>\n",
       "      <th>3</th>\n",
       "      <td>Senior Data Scientist</td>\n",
       "      <td>Fractal Analytics</td>\n",
       "      <td>Bangalore/Bengaluru</td>\n",
       "    </tr>\n",
       "    <tr>\n",
       "      <th>4</th>\n",
       "      <td>Data Scientist: Advanced Analytics</td>\n",
       "      <td>IBM</td>\n",
       "      <td>Bangalore/Bengaluru</td>\n",
       "    </tr>\n",
       "    <tr>\n",
       "      <th>5</th>\n",
       "      <td>Data Scientist</td>\n",
       "      <td>Genpact</td>\n",
       "      <td>Hyderabad/Secunderabad, Bangalore/Bengaluru, D...</td>\n",
       "    </tr>\n",
       "    <tr>\n",
       "      <th>6</th>\n",
       "      <td>Data Scientist</td>\n",
       "      <td>VISA</td>\n",
       "      <td>Bangalore/Bengaluru</td>\n",
       "    </tr>\n",
       "    <tr>\n",
       "      <th>7</th>\n",
       "      <td>Data Scientist: Artificial Intelligence</td>\n",
       "      <td>IBM</td>\n",
       "      <td>Bangalore/Bengaluru</td>\n",
       "    </tr>\n",
       "    <tr>\n",
       "      <th>8</th>\n",
       "      <td>Data Scientist, Machine Learning (AIML)</td>\n",
       "      <td>Fractal Analytics</td>\n",
       "      <td>Bangalore/Bengaluru</td>\n",
       "    </tr>\n",
       "    <tr>\n",
       "      <th>9</th>\n",
       "      <td>Lead Applied Data Scientist</td>\n",
       "      <td>Tesco Bengaluru</td>\n",
       "      <td>Bangalore/Bengaluru</td>\n",
       "    </tr>\n",
       "  </tbody>\n",
       "</table>\n",
       "</div>"
      ],
      "text/plain": [
       "                                               title                com  \\\n",
       "0  Applied Data Scientist / ML Senior Engineer (P...  SAP India Pvt.Ltd   \n",
       "1                      Senior Data Scientist Grade12           Flipkart   \n",
       "2                      Senior Data Scientist Grade12           Flipkart   \n",
       "3                              Senior Data Scientist  Fractal Analytics   \n",
       "4                 Data Scientist: Advanced Analytics                IBM   \n",
       "5                                     Data Scientist            Genpact   \n",
       "6                                     Data Scientist               VISA   \n",
       "7            Data Scientist: Artificial Intelligence                IBM   \n",
       "8            Data Scientist, Machine Learning (AIML)  Fractal Analytics   \n",
       "9                        Lead Applied Data Scientist    Tesco Bengaluru   \n",
       "\n",
       "                                                 loc  \n",
       "0                                Bangalore/Bengaluru  \n",
       "1                                Bangalore/Bengaluru  \n",
       "2                                Bangalore/Bengaluru  \n",
       "3                                Bangalore/Bengaluru  \n",
       "4                                Bangalore/Bengaluru  \n",
       "5  Hyderabad/Secunderabad, Bangalore/Bengaluru, D...  \n",
       "6                                Bangalore/Bengaluru  \n",
       "7                                Bangalore/Bengaluru  \n",
       "8                                Bangalore/Bengaluru  \n",
       "9                                Bangalore/Bengaluru  "
      ]
     },
     "execution_count": 39,
     "metadata": {},
     "output_type": "execute_result"
    }
   ],
   "source": [
    "jobs"
   ]
  },
  {
   "cell_type": "code",
   "execution_count": 40,
   "id": "1ab4da84",
   "metadata": {},
   "outputs": [
    {
     "name": "stdout",
     "output_type": "stream",
     "text": [
      "Requirement already satisfied: selenium in c:\\programdata\\anaconda3\\lib\\site-packages (4.1.5)\n",
      "Requirement already satisfied: trio-websocket~=0.9 in c:\\programdata\\anaconda3\\lib\\site-packages (from selenium) (0.9.2)\n",
      "Requirement already satisfied: trio~=0.17 in c:\\programdata\\anaconda3\\lib\\site-packages (from selenium) (0.20.0)\n",
      "Requirement already satisfied: urllib3[secure,socks]~=1.26 in c:\\programdata\\anaconda3\\lib\\site-packages (from selenium) (1.26.7)\n",
      "Requirement already satisfied: outcome in c:\\programdata\\anaconda3\\lib\\site-packages (from trio~=0.17->selenium) (1.1.0)\n",
      "Requirement already satisfied: async-generator>=1.9 in c:\\programdata\\anaconda3\\lib\\site-packages (from trio~=0.17->selenium) (1.10)\n",
      "Requirement already satisfied: attrs>=19.2.0 in c:\\programdata\\anaconda3\\lib\\site-packages (from trio~=0.17->selenium) (21.2.0)\n",
      "Requirement already satisfied: sortedcontainers in c:\\programdata\\anaconda3\\lib\\site-packages (from trio~=0.17->selenium) (2.4.0)\n",
      "Requirement already satisfied: sniffio in c:\\programdata\\anaconda3\\lib\\site-packages (from trio~=0.17->selenium) (1.2.0)\n",
      "Requirement already satisfied: cffi>=1.14 in c:\\programdata\\anaconda3\\lib\\site-packages (from trio~=0.17->selenium) (1.14.6)\n",
      "Requirement already satisfied: idna in c:\\programdata\\anaconda3\\lib\\site-packages (from trio~=0.17->selenium) (3.2)\n",
      "Requirement already satisfied: pycparser in c:\\programdata\\anaconda3\\lib\\site-packages (from cffi>=1.14->trio~=0.17->selenium) (2.20)\n",
      "Requirement already satisfied: wsproto>=0.14 in c:\\programdata\\anaconda3\\lib\\site-packages (from trio-websocket~=0.9->selenium) (1.1.0)\n",
      "Requirement already satisfied: pyOpenSSL>=0.14 in c:\\programdata\\anaconda3\\lib\\site-packages (from urllib3[secure,socks]~=1.26->selenium) (21.0.0)\n",
      "Requirement already satisfied: cryptography>=1.3.4 in c:\\programdata\\anaconda3\\lib\\site-packages (from urllib3[secure,socks]~=1.26->selenium) (3.4.8)\n",
      "Requirement already satisfied: certifi in c:\\programdata\\anaconda3\\lib\\site-packages (from urllib3[secure,socks]~=1.26->selenium) (2021.10.8)\n",
      "Requirement already satisfied: PySocks!=1.5.7,<2.0,>=1.5.6 in c:\\programdata\\anaconda3\\lib\\site-packages (from urllib3[secure,socks]~=1.26->selenium) (1.7.1)\n",
      "Requirement already satisfied: six>=1.5.2 in c:\\programdata\\anaconda3\\lib\\site-packages (from pyOpenSSL>=0.14->urllib3[secure,socks]~=1.26->selenium) (1.16.0)\n",
      "Requirement already satisfied: h11<1,>=0.9.0 in c:\\programdata\\anaconda3\\lib\\site-packages (from wsproto>=0.14->trio-websocket~=0.9->selenium) (0.13.0)\n"
     ]
    }
   ],
   "source": [
    "!pip install selenium"
   ]
  },
  {
   "cell_type": "code",
   "execution_count": 41,
   "id": "0976504f",
   "metadata": {},
   "outputs": [],
   "source": [
    "import selenium\n",
    "import pandas as pd\n",
    "from selenium import webdriver\n",
    "import warnings\n",
    "warnings.filterwarnings('ignore')\n",
    "import time"
   ]
  },
  {
   "cell_type": "code",
   "execution_count": 42,
   "id": "9410a21c",
   "metadata": {},
   "outputs": [],
   "source": [
    "driver=webdriver.Chrome('chromedriver.exe')\n",
    "time.sleep(2)"
   ]
  },
  {
   "cell_type": "code",
   "execution_count": 43,
   "id": "9fd9f97b",
   "metadata": {},
   "outputs": [],
   "source": [
    "driver=webdriver.Chrome(r'E:\\webdriver\\chromedriver.exe')"
   ]
  },
  {
   "cell_type": "code",
   "execution_count": 44,
   "id": "fbe8dd4b",
   "metadata": {},
   "outputs": [],
   "source": [
    "driver.get('https://www.naukri.com/ ')"
   ]
  },
  {
   "cell_type": "code",
   "execution_count": 45,
   "id": "7e4c1947",
   "metadata": {},
   "outputs": [],
   "source": [
    "designation=driver.find_element_by_class_name(\"suggestor-input\")\n",
    "designation.send_keys(\"Data Scientist\")"
   ]
  },
  {
   "cell_type": "code",
   "execution_count": 46,
   "id": "9d421ee1",
   "metadata": {},
   "outputs": [],
   "source": [
    "location=driver.find_element_by_xpath('/html/body/div/div[2]/div[3]/div/div/div[3]/div/div/div/input')\n",
    "location.send_keys(\"Delhi/NCR\")"
   ]
  },
  {
   "cell_type": "code",
   "execution_count": 47,
   "id": "91fd52c0",
   "metadata": {},
   "outputs": [],
   "source": [
    "search=driver.find_element_by_xpath('/html/body/div/div[2]/div[3]/div/div/div[6]')\n",
    "search.click()"
   ]
  },
  {
   "cell_type": "code",
   "execution_count": 48,
   "id": "57fd04e5",
   "metadata": {},
   "outputs": [],
   "source": [
    "salary=driver.find_element_by_xpath('/html/body/div[1]/div[3]/div[2]/section[1]/div[2]/div[4]/div[2]/div[2]')\n",
    "salary.click()\n"
   ]
  },
  {
   "cell_type": "code",
   "execution_count": 49,
   "id": "3d0c226c",
   "metadata": {},
   "outputs": [],
   "source": [
    "job_location=[]\n",
    "company_name=[]\n",
    "experience_required=[]"
   ]
  },
  {
   "cell_type": "code",
   "execution_count": 50,
   "id": "32d97bde",
   "metadata": {},
   "outputs": [
    {
     "data": {
      "text/plain": [
       "[]"
      ]
     },
     "execution_count": 50,
     "metadata": {},
     "output_type": "execute_result"
    }
   ],
   "source": [
    "loc=driver.find_elements_by_xpath(\"//li[@class='fleft grey-text br2 placeHolderLi location']/span\")\n",
    "loc[0:20]"
   ]
  },
  {
   "cell_type": "code",
   "execution_count": 51,
   "id": "beba4b06",
   "metadata": {},
   "outputs": [
    {
     "data": {
      "text/plain": [
       "[]"
      ]
     },
     "execution_count": 51,
     "metadata": {},
     "output_type": "execute_result"
    }
   ],
   "source": [
    "job_location=[]\n",
    "for i in loc[0:20]:\n",
    "    l=i.text\n",
    "    job_location.append(l)\n",
    "\n",
    "job_location\n"
   ]
  },
  {
   "cell_type": "code",
   "execution_count": 52,
   "id": "cdaa60c7",
   "metadata": {},
   "outputs": [
    {
     "data": {
      "text/plain": [
       "[<selenium.webdriver.remote.webelement.WebElement (session=\"4efaa2615af69579f16c6b10c6728101\", element=\"3f5c9cbf-504f-4e42-93ff-db02899899fd\")>,\n",
       " <selenium.webdriver.remote.webelement.WebElement (session=\"4efaa2615af69579f16c6b10c6728101\", element=\"ac9a7806-3451-4b21-804f-2be5bea6f17b\")>,\n",
       " <selenium.webdriver.remote.webelement.WebElement (session=\"4efaa2615af69579f16c6b10c6728101\", element=\"b159361b-e7b8-4b81-bb57-9f194f402e9e\")>,\n",
       " <selenium.webdriver.remote.webelement.WebElement (session=\"4efaa2615af69579f16c6b10c6728101\", element=\"a3ddda1a-3fdc-46b7-a8b1-92397eaaca94\")>,\n",
       " <selenium.webdriver.remote.webelement.WebElement (session=\"4efaa2615af69579f16c6b10c6728101\", element=\"3dca28e2-9412-4909-ba10-454d843eed83\")>,\n",
       " <selenium.webdriver.remote.webelement.WebElement (session=\"4efaa2615af69579f16c6b10c6728101\", element=\"86f6fc78-4a9f-4d21-9afb-cf2d8b4e1ace\")>,\n",
       " <selenium.webdriver.remote.webelement.WebElement (session=\"4efaa2615af69579f16c6b10c6728101\", element=\"0c95a9cb-bc30-45f2-9c9a-c0ac1f73bbf2\")>,\n",
       " <selenium.webdriver.remote.webelement.WebElement (session=\"4efaa2615af69579f16c6b10c6728101\", element=\"59d96ea5-fec6-4934-8aac-afc6d68b3ac0\")>,\n",
       " <selenium.webdriver.remote.webelement.WebElement (session=\"4efaa2615af69579f16c6b10c6728101\", element=\"819d5e9f-363f-4437-972d-548d087edf70\")>,\n",
       " <selenium.webdriver.remote.webelement.WebElement (session=\"4efaa2615af69579f16c6b10c6728101\", element=\"1ec1a616-e516-4d6f-bdee-d6dc6174c6ef\")>,\n",
       " <selenium.webdriver.remote.webelement.WebElement (session=\"4efaa2615af69579f16c6b10c6728101\", element=\"58cdcc44-f2a6-4374-890a-353536355433\")>,\n",
       " <selenium.webdriver.remote.webelement.WebElement (session=\"4efaa2615af69579f16c6b10c6728101\", element=\"63bacdfc-3b08-4d09-bb5d-f8b1150a8e4e\")>,\n",
       " <selenium.webdriver.remote.webelement.WebElement (session=\"4efaa2615af69579f16c6b10c6728101\", element=\"1ad53c11-eb46-42df-b0c7-137df7ba1918\")>,\n",
       " <selenium.webdriver.remote.webelement.WebElement (session=\"4efaa2615af69579f16c6b10c6728101\", element=\"2e2a5e04-7ac1-41df-9ada-2d75fef92cf1\")>,\n",
       " <selenium.webdriver.remote.webelement.WebElement (session=\"4efaa2615af69579f16c6b10c6728101\", element=\"0f0eca6c-6354-4e13-b481-10d9b8096569\")>,\n",
       " <selenium.webdriver.remote.webelement.WebElement (session=\"4efaa2615af69579f16c6b10c6728101\", element=\"a004eb75-8b27-4a3c-86cd-69aa55246a9e\")>,\n",
       " <selenium.webdriver.remote.webelement.WebElement (session=\"4efaa2615af69579f16c6b10c6728101\", element=\"e3978b23-5689-4ba3-be99-00ce39df0209\")>,\n",
       " <selenium.webdriver.remote.webelement.WebElement (session=\"4efaa2615af69579f16c6b10c6728101\", element=\"8dbde5f6-61c8-4f5a-9358-d92168441194\")>,\n",
       " <selenium.webdriver.remote.webelement.WebElement (session=\"4efaa2615af69579f16c6b10c6728101\", element=\"6bb8c161-3130-492e-8e37-822979b88693\")>,\n",
       " <selenium.webdriver.remote.webelement.WebElement (session=\"4efaa2615af69579f16c6b10c6728101\", element=\"209bafcb-36a6-4d70-9f19-79ca6efbb145\")>]"
      ]
     },
     "execution_count": 52,
     "metadata": {},
     "output_type": "execute_result"
    }
   ],
   "source": [
    "company=driver.find_elements_by_xpath(\"//a[@class='subTitle ellipsis fleft']\")\n",
    "company[0:20]"
   ]
  },
  {
   "cell_type": "code",
   "execution_count": 53,
   "id": "8b9fa666",
   "metadata": {},
   "outputs": [
    {
     "data": {
      "text/plain": [
       "['Ashkom Media India Private Limited',\n",
       " 'EASY DATA ANALYTICS TECHNOLOGY PRIVATE LIMITED',\n",
       " 'Optum',\n",
       " 'AXA Technology Services India Pvt. Ltd',\n",
       " 'Shadow Placements',\n",
       " 'Skyleaf Consultants',\n",
       " '2Coms',\n",
       " 'Nibha Infotech Private Limited',\n",
       " 'BlackBuck',\n",
       " 'Creative Hands HR Consultancy',\n",
       " 'Boston Consulting Group',\n",
       " 'Lumiq.ai',\n",
       " 'iNICU',\n",
       " 'KIA INDIA PRIVATE LIMITED',\n",
       " 'Country Veggie',\n",
       " 'Care Health Insurance',\n",
       " 'Right Step Consulting',\n",
       " 'Seven Consultancy (HR Solution)',\n",
       " 'TeamPlus Staffing Solution Pvt Ltd',\n",
       " 'T & A Solutions']"
      ]
     },
     "execution_count": 53,
     "metadata": {},
     "output_type": "execute_result"
    }
   ],
   "source": [
    "company_name=[]\n",
    "\n",
    "for i in company[0:20]:\n",
    "    c=i.text\n",
    "    company_name.append(c)\n",
    "\n",
    "company_name\n",
    "    "
   ]
  },
  {
   "cell_type": "code",
   "execution_count": 54,
   "id": "ff433bb2",
   "metadata": {},
   "outputs": [
    {
     "data": {
      "text/plain": [
       "[<selenium.webdriver.remote.webelement.WebElement (session=\"4efaa2615af69579f16c6b10c6728101\", element=\"bc918409-df66-4ec7-8d48-752ed02e457e\")>,\n",
       " <selenium.webdriver.remote.webelement.WebElement (session=\"4efaa2615af69579f16c6b10c6728101\", element=\"c56bc3b5-b6bb-4ca5-bd03-028f361d52e2\")>,\n",
       " <selenium.webdriver.remote.webelement.WebElement (session=\"4efaa2615af69579f16c6b10c6728101\", element=\"ee178b98-c75b-48c2-b356-bcef79e67d57\")>,\n",
       " <selenium.webdriver.remote.webelement.WebElement (session=\"4efaa2615af69579f16c6b10c6728101\", element=\"de78cfa3-e6ec-4c8a-b079-ae533d5dcbd6\")>,\n",
       " <selenium.webdriver.remote.webelement.WebElement (session=\"4efaa2615af69579f16c6b10c6728101\", element=\"65db1ccc-8bc6-41e0-8ba0-97d41de9e65e\")>,\n",
       " <selenium.webdriver.remote.webelement.WebElement (session=\"4efaa2615af69579f16c6b10c6728101\", element=\"51a57244-1003-4839-8e6f-0985bf34c138\")>,\n",
       " <selenium.webdriver.remote.webelement.WebElement (session=\"4efaa2615af69579f16c6b10c6728101\", element=\"308cf5c6-d296-45a5-971e-fffd414ddb90\")>,\n",
       " <selenium.webdriver.remote.webelement.WebElement (session=\"4efaa2615af69579f16c6b10c6728101\", element=\"e5aaf450-680a-4942-a19b-3e8eaa720091\")>,\n",
       " <selenium.webdriver.remote.webelement.WebElement (session=\"4efaa2615af69579f16c6b10c6728101\", element=\"d5f4376e-a6e3-47fb-beb5-5d7d52a52e72\")>,\n",
       " <selenium.webdriver.remote.webelement.WebElement (session=\"4efaa2615af69579f16c6b10c6728101\", element=\"7db9cae9-769b-4ca7-a7b1-7271c0f5eb96\")>,\n",
       " <selenium.webdriver.remote.webelement.WebElement (session=\"4efaa2615af69579f16c6b10c6728101\", element=\"75f373de-4bb8-42ff-89f3-d3940d9f1678\")>,\n",
       " <selenium.webdriver.remote.webelement.WebElement (session=\"4efaa2615af69579f16c6b10c6728101\", element=\"f32afea2-ac11-4c8e-a5c9-f9916d500d0b\")>,\n",
       " <selenium.webdriver.remote.webelement.WebElement (session=\"4efaa2615af69579f16c6b10c6728101\", element=\"61366196-4fc2-47ec-84aa-5d5e7a9ce789\")>,\n",
       " <selenium.webdriver.remote.webelement.WebElement (session=\"4efaa2615af69579f16c6b10c6728101\", element=\"04ceb9bf-f125-4989-839f-7fa64f4ebcf0\")>,\n",
       " <selenium.webdriver.remote.webelement.WebElement (session=\"4efaa2615af69579f16c6b10c6728101\", element=\"8aa7eedd-eca5-4b79-a11c-a7242b730fa3\")>,\n",
       " <selenium.webdriver.remote.webelement.WebElement (session=\"4efaa2615af69579f16c6b10c6728101\", element=\"c03f84d1-5140-4e7d-a15e-1d8eb9bee52a\")>,\n",
       " <selenium.webdriver.remote.webelement.WebElement (session=\"4efaa2615af69579f16c6b10c6728101\", element=\"219002f4-2add-483b-bdf0-bf1d85395781\")>,\n",
       " <selenium.webdriver.remote.webelement.WebElement (session=\"4efaa2615af69579f16c6b10c6728101\", element=\"4904dec3-730a-4e5b-a6d1-c0067ff901a0\")>,\n",
       " <selenium.webdriver.remote.webelement.WebElement (session=\"4efaa2615af69579f16c6b10c6728101\", element=\"331bb9cd-4774-4f17-b495-38e9bfca3742\")>,\n",
       " <selenium.webdriver.remote.webelement.WebElement (session=\"4efaa2615af69579f16c6b10c6728101\", element=\"e6dae67a-7093-464b-a46c-7ab535537484\")>]"
      ]
     },
     "execution_count": 54,
     "metadata": {},
     "output_type": "execute_result"
    }
   ],
   "source": [
    "experience=driver.find_elements_by_xpath(\"//li[@class='fleft grey-text br2 placeHolderLi experience']/span\")\n",
    "experience[0:20]"
   ]
  },
  {
   "cell_type": "code",
   "execution_count": 55,
   "id": "50fc0f06",
   "metadata": {},
   "outputs": [
    {
     "data": {
      "text/plain": [
       "['3-6 Yrs',\n",
       " '1-2 Yrs',\n",
       " '1-5 Yrs',\n",
       " '2-5 Yrs',\n",
       " '3-7 Yrs',\n",
       " '3-8 Yrs',\n",
       " '2-7 Yrs',\n",
       " '5-8 Yrs',\n",
       " '3-7 Yrs',\n",
       " '0-4 Yrs',\n",
       " '2-5 Yrs',\n",
       " '2-6 Yrs',\n",
       " '1-5 Yrs',\n",
       " '7-10 Yrs',\n",
       " '1-3 Yrs',\n",
       " '1-5 Yrs',\n",
       " '3-6 Yrs',\n",
       " '1-6 Yrs',\n",
       " '3-6 Yrs',\n",
       " '2-6 Yrs']"
      ]
     },
     "execution_count": 55,
     "metadata": {},
     "output_type": "execute_result"
    }
   ],
   "source": [
    "experience_required=[]\n",
    "\n",
    "for i in experience[0:20]:\n",
    "    e=i.text\n",
    "    experience_required.append(e)\n",
    "\n",
    "experience_required\n",
    "    "
   ]
  },
  {
   "cell_type": "code",
   "execution_count": 56,
   "id": "0a36e23d",
   "metadata": {},
   "outputs": [],
   "source": [
    "import pandas as pd\n",
    "jobs=pd.DataFrame({})\n",
    "jobs['loc']=job_location\n",
    "jobs['company']=company_name\n",
    "jobs['experience']=experience_required"
   ]
  },
  {
   "cell_type": "code",
   "execution_count": 57,
   "id": "f2b8f5e3",
   "metadata": {},
   "outputs": [
    {
     "data": {
      "text/html": [
       "<div>\n",
       "<style scoped>\n",
       "    .dataframe tbody tr th:only-of-type {\n",
       "        vertical-align: middle;\n",
       "    }\n",
       "\n",
       "    .dataframe tbody tr th {\n",
       "        vertical-align: top;\n",
       "    }\n",
       "\n",
       "    .dataframe thead th {\n",
       "        text-align: right;\n",
       "    }\n",
       "</style>\n",
       "<table border=\"1\" class=\"dataframe\">\n",
       "  <thead>\n",
       "    <tr style=\"text-align: right;\">\n",
       "      <th></th>\n",
       "      <th>loc</th>\n",
       "      <th>company</th>\n",
       "      <th>experience</th>\n",
       "    </tr>\n",
       "  </thead>\n",
       "  <tbody>\n",
       "    <tr>\n",
       "      <th>0</th>\n",
       "      <td>NaN</td>\n",
       "      <td>Ashkom Media India Private Limited</td>\n",
       "      <td>3-6 Yrs</td>\n",
       "    </tr>\n",
       "    <tr>\n",
       "      <th>1</th>\n",
       "      <td>NaN</td>\n",
       "      <td>EASY DATA ANALYTICS TECHNOLOGY PRIVATE LIMITED</td>\n",
       "      <td>1-2 Yrs</td>\n",
       "    </tr>\n",
       "    <tr>\n",
       "      <th>2</th>\n",
       "      <td>NaN</td>\n",
       "      <td>Optum</td>\n",
       "      <td>1-5 Yrs</td>\n",
       "    </tr>\n",
       "    <tr>\n",
       "      <th>3</th>\n",
       "      <td>NaN</td>\n",
       "      <td>AXA Technology Services India Pvt. Ltd</td>\n",
       "      <td>2-5 Yrs</td>\n",
       "    </tr>\n",
       "    <tr>\n",
       "      <th>4</th>\n",
       "      <td>NaN</td>\n",
       "      <td>Shadow Placements</td>\n",
       "      <td>3-7 Yrs</td>\n",
       "    </tr>\n",
       "    <tr>\n",
       "      <th>5</th>\n",
       "      <td>NaN</td>\n",
       "      <td>Skyleaf Consultants</td>\n",
       "      <td>3-8 Yrs</td>\n",
       "    </tr>\n",
       "    <tr>\n",
       "      <th>6</th>\n",
       "      <td>NaN</td>\n",
       "      <td>2Coms</td>\n",
       "      <td>2-7 Yrs</td>\n",
       "    </tr>\n",
       "    <tr>\n",
       "      <th>7</th>\n",
       "      <td>NaN</td>\n",
       "      <td>Nibha Infotech Private Limited</td>\n",
       "      <td>5-8 Yrs</td>\n",
       "    </tr>\n",
       "    <tr>\n",
       "      <th>8</th>\n",
       "      <td>NaN</td>\n",
       "      <td>BlackBuck</td>\n",
       "      <td>3-7 Yrs</td>\n",
       "    </tr>\n",
       "    <tr>\n",
       "      <th>9</th>\n",
       "      <td>NaN</td>\n",
       "      <td>Creative Hands HR Consultancy</td>\n",
       "      <td>0-4 Yrs</td>\n",
       "    </tr>\n",
       "    <tr>\n",
       "      <th>10</th>\n",
       "      <td>NaN</td>\n",
       "      <td>Boston Consulting Group</td>\n",
       "      <td>2-5 Yrs</td>\n",
       "    </tr>\n",
       "    <tr>\n",
       "      <th>11</th>\n",
       "      <td>NaN</td>\n",
       "      <td>Lumiq.ai</td>\n",
       "      <td>2-6 Yrs</td>\n",
       "    </tr>\n",
       "    <tr>\n",
       "      <th>12</th>\n",
       "      <td>NaN</td>\n",
       "      <td>iNICU</td>\n",
       "      <td>1-5 Yrs</td>\n",
       "    </tr>\n",
       "    <tr>\n",
       "      <th>13</th>\n",
       "      <td>NaN</td>\n",
       "      <td>KIA INDIA PRIVATE LIMITED</td>\n",
       "      <td>7-10 Yrs</td>\n",
       "    </tr>\n",
       "    <tr>\n",
       "      <th>14</th>\n",
       "      <td>NaN</td>\n",
       "      <td>Country Veggie</td>\n",
       "      <td>1-3 Yrs</td>\n",
       "    </tr>\n",
       "    <tr>\n",
       "      <th>15</th>\n",
       "      <td>NaN</td>\n",
       "      <td>Care Health Insurance</td>\n",
       "      <td>1-5 Yrs</td>\n",
       "    </tr>\n",
       "    <tr>\n",
       "      <th>16</th>\n",
       "      <td>NaN</td>\n",
       "      <td>Right Step Consulting</td>\n",
       "      <td>3-6 Yrs</td>\n",
       "    </tr>\n",
       "    <tr>\n",
       "      <th>17</th>\n",
       "      <td>NaN</td>\n",
       "      <td>Seven Consultancy (HR Solution)</td>\n",
       "      <td>1-6 Yrs</td>\n",
       "    </tr>\n",
       "    <tr>\n",
       "      <th>18</th>\n",
       "      <td>NaN</td>\n",
       "      <td>TeamPlus Staffing Solution Pvt Ltd</td>\n",
       "      <td>3-6 Yrs</td>\n",
       "    </tr>\n",
       "    <tr>\n",
       "      <th>19</th>\n",
       "      <td>NaN</td>\n",
       "      <td>T &amp; A Solutions</td>\n",
       "      <td>2-6 Yrs</td>\n",
       "    </tr>\n",
       "  </tbody>\n",
       "</table>\n",
       "</div>"
      ],
      "text/plain": [
       "    loc                                         company experience\n",
       "0   NaN              Ashkom Media India Private Limited    3-6 Yrs\n",
       "1   NaN  EASY DATA ANALYTICS TECHNOLOGY PRIVATE LIMITED    1-2 Yrs\n",
       "2   NaN                                           Optum    1-5 Yrs\n",
       "3   NaN          AXA Technology Services India Pvt. Ltd    2-5 Yrs\n",
       "4   NaN                               Shadow Placements    3-7 Yrs\n",
       "5   NaN                             Skyleaf Consultants    3-8 Yrs\n",
       "6   NaN                                           2Coms    2-7 Yrs\n",
       "7   NaN                  Nibha Infotech Private Limited    5-8 Yrs\n",
       "8   NaN                                       BlackBuck    3-7 Yrs\n",
       "9   NaN                   Creative Hands HR Consultancy    0-4 Yrs\n",
       "10  NaN                         Boston Consulting Group    2-5 Yrs\n",
       "11  NaN                                        Lumiq.ai    2-6 Yrs\n",
       "12  NaN                                           iNICU    1-5 Yrs\n",
       "13  NaN                       KIA INDIA PRIVATE LIMITED   7-10 Yrs\n",
       "14  NaN                                  Country Veggie    1-3 Yrs\n",
       "15  NaN                           Care Health Insurance    1-5 Yrs\n",
       "16  NaN                           Right Step Consulting    3-6 Yrs\n",
       "17  NaN                 Seven Consultancy (HR Solution)    1-6 Yrs\n",
       "18  NaN              TeamPlus Staffing Solution Pvt Ltd    3-6 Yrs\n",
       "19  NaN                                 T & A Solutions    2-6 Yrs"
      ]
     },
     "execution_count": 57,
     "metadata": {},
     "output_type": "execute_result"
    }
   ],
   "source": [
    "jobs"
   ]
  },
  {
   "cell_type": "code",
   "execution_count": 58,
   "id": "5a3e0446",
   "metadata": {},
   "outputs": [],
   "source": [
    "driver=webdriver.Chrome('chromedriver.exe')\n",
    "time.sleep(2)"
   ]
  },
  {
   "cell_type": "code",
   "execution_count": 59,
   "id": "c1201cf1",
   "metadata": {},
   "outputs": [],
   "source": [
    "driver.get(' https://www.flipkart.com/')"
   ]
  },
  {
   "cell_type": "code",
   "execution_count": 60,
   "id": "5f8abf1f",
   "metadata": {},
   "outputs": [],
   "source": [
    "sg=driver.find_element_by_class_name(\"_3704LK\")\n",
    "sg.send_keys('sunglasses')"
   ]
  },
  {
   "cell_type": "code",
   "execution_count": 62,
   "id": "ec40b923",
   "metadata": {},
   "outputs": [],
   "source": [
    "search=driver.find_element_by_xpath('/html/body/div[1]/div/div[1]/div[1]/div[2]/div[2]/form/div/button')\n",
    "search.click()"
   ]
  },
  {
   "cell_type": "code",
   "execution_count": 63,
   "id": "fa8eea57",
   "metadata": {},
   "outputs": [],
   "source": [
    "brand=[]\n",
    "product_details=[]\n",
    "price=[]"
   ]
  },
  {
   "cell_type": "code",
   "execution_count": 64,
   "id": "62599c0c",
   "metadata": {},
   "outputs": [
    {
     "data": {
      "text/plain": [
       "[<selenium.webdriver.remote.webelement.WebElement (session=\"b616f79894883bf15102a6ec100f4b7a\", element=\"0463d578-93b2-452f-8207-a34136cc2615\")>,\n",
       " <selenium.webdriver.remote.webelement.WebElement (session=\"b616f79894883bf15102a6ec100f4b7a\", element=\"5ec2022c-799c-4e51-a783-bb9c63a76bf3\")>,\n",
       " <selenium.webdriver.remote.webelement.WebElement (session=\"b616f79894883bf15102a6ec100f4b7a\", element=\"57b3a516-f814-417b-a23e-65a26350f3a1\")>,\n",
       " <selenium.webdriver.remote.webelement.WebElement (session=\"b616f79894883bf15102a6ec100f4b7a\", element=\"f64f5440-9396-4b54-8750-dc5196953638\")>,\n",
       " <selenium.webdriver.remote.webelement.WebElement (session=\"b616f79894883bf15102a6ec100f4b7a\", element=\"f20abcf6-0faa-4ec6-a88e-7cdcc96c00dd\")>,\n",
       " <selenium.webdriver.remote.webelement.WebElement (session=\"b616f79894883bf15102a6ec100f4b7a\", element=\"4dd9a659-baa4-4a80-ba26-2419b2ef7dbb\")>,\n",
       " <selenium.webdriver.remote.webelement.WebElement (session=\"b616f79894883bf15102a6ec100f4b7a\", element=\"f0563186-b1ad-4bdb-95c3-897b6c23c689\")>,\n",
       " <selenium.webdriver.remote.webelement.WebElement (session=\"b616f79894883bf15102a6ec100f4b7a\", element=\"f96f5208-a8ca-4188-8ab1-d951df68d9e1\")>,\n",
       " <selenium.webdriver.remote.webelement.WebElement (session=\"b616f79894883bf15102a6ec100f4b7a\", element=\"10a96502-8c2b-4d9c-9fd8-9d46b7d7dfac\")>,\n",
       " <selenium.webdriver.remote.webelement.WebElement (session=\"b616f79894883bf15102a6ec100f4b7a\", element=\"677be39e-35fd-467f-99c0-ad30f94b948b\")>,\n",
       " <selenium.webdriver.remote.webelement.WebElement (session=\"b616f79894883bf15102a6ec100f4b7a\", element=\"02729356-64c4-43bf-8380-a284cbc7252d\")>,\n",
       " <selenium.webdriver.remote.webelement.WebElement (session=\"b616f79894883bf15102a6ec100f4b7a\", element=\"d112ec2e-41b7-4772-930d-9a69fcd8a89f\")>,\n",
       " <selenium.webdriver.remote.webelement.WebElement (session=\"b616f79894883bf15102a6ec100f4b7a\", element=\"db21502d-83bf-47ce-a469-5f567274a558\")>,\n",
       " <selenium.webdriver.remote.webelement.WebElement (session=\"b616f79894883bf15102a6ec100f4b7a\", element=\"d63b19f4-d70b-4bc3-8023-e2b2450dc688\")>,\n",
       " <selenium.webdriver.remote.webelement.WebElement (session=\"b616f79894883bf15102a6ec100f4b7a\", element=\"2ebabf06-d9ce-4b4c-b26c-6dbce69e3e4d\")>,\n",
       " <selenium.webdriver.remote.webelement.WebElement (session=\"b616f79894883bf15102a6ec100f4b7a\", element=\"f345d988-ec32-4b6c-91a7-ca7af9c160aa\")>,\n",
       " <selenium.webdriver.remote.webelement.WebElement (session=\"b616f79894883bf15102a6ec100f4b7a\", element=\"d6dda134-8a31-4f34-a6a5-d9d9185b388e\")>,\n",
       " <selenium.webdriver.remote.webelement.WebElement (session=\"b616f79894883bf15102a6ec100f4b7a\", element=\"6a57b6f9-be88-40c7-b8ef-37368500e6a1\")>,\n",
       " <selenium.webdriver.remote.webelement.WebElement (session=\"b616f79894883bf15102a6ec100f4b7a\", element=\"e63d375b-d9bd-42f3-b254-8dadc4c15bcf\")>,\n",
       " <selenium.webdriver.remote.webelement.WebElement (session=\"b616f79894883bf15102a6ec100f4b7a\", element=\"2cb3e0b3-eabc-469f-8e5a-74971fa047b0\")>,\n",
       " <selenium.webdriver.remote.webelement.WebElement (session=\"b616f79894883bf15102a6ec100f4b7a\", element=\"1ae31db4-f011-4feb-b328-dfb18a78868c\")>,\n",
       " <selenium.webdriver.remote.webelement.WebElement (session=\"b616f79894883bf15102a6ec100f4b7a\", element=\"2993e5a7-8a52-4192-8521-84edba4c55cb\")>,\n",
       " <selenium.webdriver.remote.webelement.WebElement (session=\"b616f79894883bf15102a6ec100f4b7a\", element=\"13bfb49d-4d53-4762-94e4-3f06121dff41\")>,\n",
       " <selenium.webdriver.remote.webelement.WebElement (session=\"b616f79894883bf15102a6ec100f4b7a\", element=\"6101d8a2-6a36-44ac-8a93-5652965e2efb\")>,\n",
       " <selenium.webdriver.remote.webelement.WebElement (session=\"b616f79894883bf15102a6ec100f4b7a\", element=\"2f79674c-80cc-4ff3-b7a5-73990f090ef9\")>,\n",
       " <selenium.webdriver.remote.webelement.WebElement (session=\"b616f79894883bf15102a6ec100f4b7a\", element=\"bd0a51d0-7e80-45b0-bc8b-22f330609181\")>,\n",
       " <selenium.webdriver.remote.webelement.WebElement (session=\"b616f79894883bf15102a6ec100f4b7a\", element=\"86c40a0d-b89f-4ab7-8a10-a0087b08b6d3\")>,\n",
       " <selenium.webdriver.remote.webelement.WebElement (session=\"b616f79894883bf15102a6ec100f4b7a\", element=\"da80486b-bb29-4e94-a700-bf426da1e064\")>,\n",
       " <selenium.webdriver.remote.webelement.WebElement (session=\"b616f79894883bf15102a6ec100f4b7a\", element=\"45ff4d8c-57ec-4a17-9c3d-ba32ae45e59d\")>,\n",
       " <selenium.webdriver.remote.webelement.WebElement (session=\"b616f79894883bf15102a6ec100f4b7a\", element=\"3b533079-0584-47c0-9453-87598e11c26d\")>,\n",
       " <selenium.webdriver.remote.webelement.WebElement (session=\"b616f79894883bf15102a6ec100f4b7a\", element=\"38b2258e-8197-416a-88e9-1e760b57e013\")>,\n",
       " <selenium.webdriver.remote.webelement.WebElement (session=\"b616f79894883bf15102a6ec100f4b7a\", element=\"94df6092-7a53-4554-bfca-f263aa7f506e\")>,\n",
       " <selenium.webdriver.remote.webelement.WebElement (session=\"b616f79894883bf15102a6ec100f4b7a\", element=\"cc6d09ba-8fe9-4b92-b442-b43db3839ea5\")>,\n",
       " <selenium.webdriver.remote.webelement.WebElement (session=\"b616f79894883bf15102a6ec100f4b7a\", element=\"7ddf8dae-0647-41b4-b554-459d4bc52b62\")>,\n",
       " <selenium.webdriver.remote.webelement.WebElement (session=\"b616f79894883bf15102a6ec100f4b7a\", element=\"bb683a6b-1140-4356-a089-c6040b7a434f\")>,\n",
       " <selenium.webdriver.remote.webelement.WebElement (session=\"b616f79894883bf15102a6ec100f4b7a\", element=\"bebaeec0-932b-4e40-8b42-f02f5af77649\")>,\n",
       " <selenium.webdriver.remote.webelement.WebElement (session=\"b616f79894883bf15102a6ec100f4b7a\", element=\"57bcc417-dfbd-4fa5-9d7e-64c7af9fb35a\")>,\n",
       " <selenium.webdriver.remote.webelement.WebElement (session=\"b616f79894883bf15102a6ec100f4b7a\", element=\"9600fee5-8e4b-4e13-9288-85dc1d6e2ed8\")>,\n",
       " <selenium.webdriver.remote.webelement.WebElement (session=\"b616f79894883bf15102a6ec100f4b7a\", element=\"5f4b8563-f3d8-4159-a3d7-654c872d29b3\")>,\n",
       " <selenium.webdriver.remote.webelement.WebElement (session=\"b616f79894883bf15102a6ec100f4b7a\", element=\"307590dc-9b3a-49fc-aa86-b6cf973a5907\")>]"
      ]
     },
     "execution_count": 64,
     "metadata": {},
     "output_type": "execute_result"
    }
   ],
   "source": [
    "Brand=driver.find_elements_by_class_name(\"_2WkVRV\")\n",
    "Brand"
   ]
  },
  {
   "cell_type": "code",
   "execution_count": 65,
   "id": "70469c60",
   "metadata": {},
   "outputs": [
    {
     "data": {
      "text/plain": [
       "['VINCENT CHASE',\n",
       " 'VINCENT CHASE',\n",
       " 'Fastrack',\n",
       " 'Fastrack',\n",
       " 'SUNBEE',\n",
       " 'PIRASO',\n",
       " 'Lee Topper',\n",
       " 'CRYSTAL CART',\n",
       " 'Elligator',\n",
       " 'New Specs',\n",
       " 'PIRASO',\n",
       " 'CRYSTAL CART',\n",
       " 'SHAAH COLLECTIONS',\n",
       " 'Elligator',\n",
       " 'PIRASO',\n",
       " 'Singco India',\n",
       " 'DAHAAZIL',\n",
       " 'PIRASO',\n",
       " 'SRPM',\n",
       " 'ROZZETTA CRAFT',\n",
       " 'kingsunglasses',\n",
       " 'SUNBEE',\n",
       " 'ROZZETTA CRAFT',\n",
       " 'john jacobs',\n",
       " 'New Specs',\n",
       " 'DEIXELS',\n",
       " 'PIRASO',\n",
       " 'Singco India',\n",
       " 'ROZZETTA CRAFT',\n",
       " 'Lee Topper',\n",
       " 'hipe',\n",
       " 'CRYSTAL CART',\n",
       " 'ROZZETTA CRAFT',\n",
       " 'Fastrack',\n",
       " 'HIPPON',\n",
       " 'john jacobs',\n",
       " 'Mi',\n",
       " 'SRPM',\n",
       " 'PIRASO',\n",
       " 'Resist']"
      ]
     },
     "execution_count": 65,
     "metadata": {},
     "output_type": "execute_result"
    }
   ],
   "source": [
    "brand=[]\n",
    "\n",
    "for i in Brand:\n",
    "    b=i.text\n",
    "    brand.append(b)\n",
    "    \n",
    "brand[0:41]"
   ]
  },
  {
   "cell_type": "code",
   "execution_count": 66,
   "id": "e1b463be",
   "metadata": {},
   "outputs": [
    {
     "data": {
      "text/plain": [
       "40"
      ]
     },
     "execution_count": 66,
     "metadata": {},
     "output_type": "execute_result"
    }
   ],
   "source": [
    "len(brand)"
   ]
  },
  {
   "cell_type": "code",
   "execution_count": 67,
   "id": "a7c9c773",
   "metadata": {},
   "outputs": [
    {
     "data": {
      "text/plain": [
       "[<selenium.webdriver.remote.webelement.WebElement (session=\"b616f79894883bf15102a6ec100f4b7a\", element=\"9f06982a-6d62-4c5d-b7b4-4409c6edef6c\")>,\n",
       " <selenium.webdriver.remote.webelement.WebElement (session=\"b616f79894883bf15102a6ec100f4b7a\", element=\"3af6b217-bcf5-4103-bebf-8d378fa1d6f5\")>,\n",
       " <selenium.webdriver.remote.webelement.WebElement (session=\"b616f79894883bf15102a6ec100f4b7a\", element=\"51b8c40c-664e-4af5-bc0c-df680f612a14\")>,\n",
       " <selenium.webdriver.remote.webelement.WebElement (session=\"b616f79894883bf15102a6ec100f4b7a\", element=\"352a5200-1100-4425-bda1-dba64dc73fbb\")>,\n",
       " <selenium.webdriver.remote.webelement.WebElement (session=\"b616f79894883bf15102a6ec100f4b7a\", element=\"840b67cf-3cc8-48ab-8030-80391368f525\")>,\n",
       " <selenium.webdriver.remote.webelement.WebElement (session=\"b616f79894883bf15102a6ec100f4b7a\", element=\"f16b21b2-fa38-4334-a757-625415e640f2\")>,\n",
       " <selenium.webdriver.remote.webelement.WebElement (session=\"b616f79894883bf15102a6ec100f4b7a\", element=\"22685bc1-1059-4077-8ed8-4258c216bfbb\")>,\n",
       " <selenium.webdriver.remote.webelement.WebElement (session=\"b616f79894883bf15102a6ec100f4b7a\", element=\"08156975-c468-4be5-a608-26c6b7351ed7\")>,\n",
       " <selenium.webdriver.remote.webelement.WebElement (session=\"b616f79894883bf15102a6ec100f4b7a\", element=\"d0321945-2468-4c2c-84dd-39f22ae72e7c\")>,\n",
       " <selenium.webdriver.remote.webelement.WebElement (session=\"b616f79894883bf15102a6ec100f4b7a\", element=\"aa7754d7-a2f7-4cb0-a9d5-22781513435e\")>,\n",
       " <selenium.webdriver.remote.webelement.WebElement (session=\"b616f79894883bf15102a6ec100f4b7a\", element=\"072d53f8-b3a8-4b05-973f-6ff402c977d2\")>,\n",
       " <selenium.webdriver.remote.webelement.WebElement (session=\"b616f79894883bf15102a6ec100f4b7a\", element=\"73b9489a-ca9b-424a-8b26-d127c05b40c1\")>,\n",
       " <selenium.webdriver.remote.webelement.WebElement (session=\"b616f79894883bf15102a6ec100f4b7a\", element=\"6a0ccf64-73f2-4e9d-bdbd-1ab5346743f9\")>,\n",
       " <selenium.webdriver.remote.webelement.WebElement (session=\"b616f79894883bf15102a6ec100f4b7a\", element=\"aed2a8b1-db00-4b58-97a0-0cb8b8b77eb7\")>,\n",
       " <selenium.webdriver.remote.webelement.WebElement (session=\"b616f79894883bf15102a6ec100f4b7a\", element=\"61b2d619-0458-451d-b43f-4cd3ca4bf88b\")>,\n",
       " <selenium.webdriver.remote.webelement.WebElement (session=\"b616f79894883bf15102a6ec100f4b7a\", element=\"04205ed4-3dff-4a63-a791-bd3fa7d7f9b7\")>,\n",
       " <selenium.webdriver.remote.webelement.WebElement (session=\"b616f79894883bf15102a6ec100f4b7a\", element=\"37c53698-471e-4041-ab2f-9076c9230de2\")>,\n",
       " <selenium.webdriver.remote.webelement.WebElement (session=\"b616f79894883bf15102a6ec100f4b7a\", element=\"cf524fe2-05f9-4f49-ac5a-777c6e6f9a67\")>,\n",
       " <selenium.webdriver.remote.webelement.WebElement (session=\"b616f79894883bf15102a6ec100f4b7a\", element=\"4f8cb49c-6228-4180-b36c-b3ce7eaf4e98\")>,\n",
       " <selenium.webdriver.remote.webelement.WebElement (session=\"b616f79894883bf15102a6ec100f4b7a\", element=\"e1ed3bff-a2e5-4b29-82fb-ccc64f757150\")>,\n",
       " <selenium.webdriver.remote.webelement.WebElement (session=\"b616f79894883bf15102a6ec100f4b7a\", element=\"66dc480f-ab87-454b-a0df-cded2ba4b78c\")>,\n",
       " <selenium.webdriver.remote.webelement.WebElement (session=\"b616f79894883bf15102a6ec100f4b7a\", element=\"d4453aea-3e31-4054-a199-e63a21737a6c\")>,\n",
       " <selenium.webdriver.remote.webelement.WebElement (session=\"b616f79894883bf15102a6ec100f4b7a\", element=\"978309b4-20d0-4b27-bf32-637ed7c622b7\")>,\n",
       " <selenium.webdriver.remote.webelement.WebElement (session=\"b616f79894883bf15102a6ec100f4b7a\", element=\"8844ba39-58ff-4ff9-8b18-082f399b8bf4\")>,\n",
       " <selenium.webdriver.remote.webelement.WebElement (session=\"b616f79894883bf15102a6ec100f4b7a\", element=\"ac58769a-80c9-49ff-970b-c25fbfdb9b6d\")>,\n",
       " <selenium.webdriver.remote.webelement.WebElement (session=\"b616f79894883bf15102a6ec100f4b7a\", element=\"0801eb9a-e5a7-4507-9908-c6a1ca4bcfec\")>,\n",
       " <selenium.webdriver.remote.webelement.WebElement (session=\"b616f79894883bf15102a6ec100f4b7a\", element=\"eb2dd3a9-b2f0-435d-948e-c27d678b3b39\")>,\n",
       " <selenium.webdriver.remote.webelement.WebElement (session=\"b616f79894883bf15102a6ec100f4b7a\", element=\"abbe4927-43e5-449c-80ec-70d9c988853c\")>,\n",
       " <selenium.webdriver.remote.webelement.WebElement (session=\"b616f79894883bf15102a6ec100f4b7a\", element=\"4e18a5a2-cd4c-4b90-8e25-dde3820b8197\")>,\n",
       " <selenium.webdriver.remote.webelement.WebElement (session=\"b616f79894883bf15102a6ec100f4b7a\", element=\"aa002337-42e1-42e4-853d-baf65f372ba5\")>,\n",
       " <selenium.webdriver.remote.webelement.WebElement (session=\"b616f79894883bf15102a6ec100f4b7a\", element=\"2c61e264-0285-4da2-8f2f-650547473a88\")>,\n",
       " <selenium.webdriver.remote.webelement.WebElement (session=\"b616f79894883bf15102a6ec100f4b7a\", element=\"7ad91140-c294-4ae1-8b13-26fdc5c1af3d\")>,\n",
       " <selenium.webdriver.remote.webelement.WebElement (session=\"b616f79894883bf15102a6ec100f4b7a\", element=\"8ce3f3a6-132b-42e4-af03-0ca10ff4536d\")>,\n",
       " <selenium.webdriver.remote.webelement.WebElement (session=\"b616f79894883bf15102a6ec100f4b7a\", element=\"b184a87c-9fc3-409e-92eb-44974bcfae60\")>,\n",
       " <selenium.webdriver.remote.webelement.WebElement (session=\"b616f79894883bf15102a6ec100f4b7a\", element=\"3a50590e-c72b-4b59-abbe-bf0387feb678\")>,\n",
       " <selenium.webdriver.remote.webelement.WebElement (session=\"b616f79894883bf15102a6ec100f4b7a\", element=\"75c4e7de-82ad-4578-9850-2a5823be4234\")>,\n",
       " <selenium.webdriver.remote.webelement.WebElement (session=\"b616f79894883bf15102a6ec100f4b7a\", element=\"a6e1139f-c172-4bc8-b026-3b1dbca06139\")>,\n",
       " <selenium.webdriver.remote.webelement.WebElement (session=\"b616f79894883bf15102a6ec100f4b7a\", element=\"8b447880-dae8-4c47-aef5-965bb3ef07d8\")>,\n",
       " <selenium.webdriver.remote.webelement.WebElement (session=\"b616f79894883bf15102a6ec100f4b7a\", element=\"5e900d7b-68d9-4799-ba00-6564ae8d501e\")>,\n",
       " <selenium.webdriver.remote.webelement.WebElement (session=\"b616f79894883bf15102a6ec100f4b7a\", element=\"5aa60104-f99e-4bec-b1b8-69922e50dcb5\")>]"
      ]
     },
     "execution_count": 67,
     "metadata": {},
     "output_type": "execute_result"
    }
   ],
   "source": [
    "Product=driver.find_elements_by_xpath(\"//a[@class='IRpwTa']\")\n",
    "Product"
   ]
  },
  {
   "cell_type": "code",
   "execution_count": 68,
   "id": "4d36085e",
   "metadata": {},
   "outputs": [
    {
     "data": {
      "text/plain": [
       "['UV Protection Rectangular Sunglasses (50)',\n",
       " 'UV Protection Cat-eye Sunglasses (54)',\n",
       " 'UV Protection Wayfarer Sunglasses (Free Size)',\n",
       " 'UV Protection Rectangular Sunglasses (Free Size)',\n",
       " 'UV Protection, Polarized Wayfarer Sunglasses (Free Size...',\n",
       " 'UV Protection Aviator Sunglasses (54)',\n",
       " 'Riding Glasses Wrap-around Sunglasses (Free Size)',\n",
       " 'UV Protection, Gradient Round Sunglasses (Free Size)',\n",
       " 'UV Protection Wayfarer Sunglasses (53)',\n",
       " 'UV Protection Rectangular Sunglasses (Free Size)',\n",
       " 'UV Protection Wayfarer Sunglasses (32)',\n",
       " 'Polarized, Gradient, UV Protection, Mirrored Over-sized...',\n",
       " 'UV Protection, Polarized, Mirrored Rectangular Sunglass...',\n",
       " 'UV Protection Round Sunglasses (54)',\n",
       " 'UV Protection Aviator Sunglasses (54)',\n",
       " 'Gradient, Toughened Glass Lens, UV Protection Retro Squ...',\n",
       " 'UV Protection, Night Vision, Riding Glasses Wayfarer, W...',\n",
       " 'UV Protection Rectangular Sunglasses (52)',\n",
       " 'UV Protection Wayfarer Sunglasses (50)',\n",
       " 'UV Protection, Gradient Rectangular Sunglasses (Free Si...',\n",
       " 'UV Protection, Riding Glasses, Mirrored Wayfarer Sungla...',\n",
       " 'UV Protection, Polarized, Mirrored Retro Square Sunglas...',\n",
       " 'UV Protection, Gradient Rectangular Sunglasses (Free Si...',\n",
       " 'UV Protection Round Sunglasses (54)',\n",
       " 'Mirrored, UV Protection, Riding Glasses, Others Round S...',\n",
       " 'UV Protection Aviator, Wayfarer Sunglasses (Free Size)',\n",
       " 'UV Protection Aviator Sunglasses (54)',\n",
       " 'Riding Glasses, UV Protection Clubmaster, Wayfarer Sung...',\n",
       " 'Polarized, Riding Glasses Sports, Wrap-around Sunglasse...',\n",
       " 'UV Protection Rectangular Sunglasses (Free Size)',\n",
       " 'Gradient, UV Protection Round Sunglasses (Free Size)',\n",
       " 'Polarized, UV Protection, Mirrored, Gradient Rectangula...',\n",
       " 'UV Protection, Gradient Retro Square Sunglasses (Free S...',\n",
       " 'UV Protection Shield Sunglasses (Free Size)',\n",
       " 'UV Protection Wayfarer Sunglasses (55)',\n",
       " 'Polarized, UV Protection Retro Square Sunglasses (54)',\n",
       " 'Polarized Wayfarer Sunglasses (Free Size)',\n",
       " 'UV Protection Wayfarer Sunglasses (53)',\n",
       " 'UV Protection Aviator Sunglasses (58)',\n",
       " 'UV Protection, Riding Glasses, Toughened Glass Lens, Gr...']"
      ]
     },
     "execution_count": 68,
     "metadata": {},
     "output_type": "execute_result"
    }
   ],
   "source": [
    "product_details=[]\n",
    "\n",
    "for i in Product:\n",
    "    p=i.text\n",
    "    product_details.append(p)\n",
    "    \n",
    "product_details[0:41]"
   ]
  },
  {
   "cell_type": "code",
   "execution_count": 71,
   "id": "8785098b",
   "metadata": {},
   "outputs": [
    {
     "data": {
      "text/plain": [
       "40"
      ]
     },
     "execution_count": 71,
     "metadata": {},
     "output_type": "execute_result"
    }
   ],
   "source": [
    "len(product_details)"
   ]
  },
  {
   "cell_type": "code",
   "execution_count": 72,
   "id": "f98579c5",
   "metadata": {},
   "outputs": [
    {
     "data": {
      "text/plain": [
       "[<selenium.webdriver.remote.webelement.WebElement (session=\"b616f79894883bf15102a6ec100f4b7a\", element=\"8c4a4bbb-8dfa-4d5d-8fed-4a4ee5523b44\")>,\n",
       " <selenium.webdriver.remote.webelement.WebElement (session=\"b616f79894883bf15102a6ec100f4b7a\", element=\"8fda1a4a-ff03-4af4-8c2b-4ac3b54431b7\")>,\n",
       " <selenium.webdriver.remote.webelement.WebElement (session=\"b616f79894883bf15102a6ec100f4b7a\", element=\"3bf8ff82-a7b3-43d6-85b1-d59ab8df165b\")>,\n",
       " <selenium.webdriver.remote.webelement.WebElement (session=\"b616f79894883bf15102a6ec100f4b7a\", element=\"0ede077d-5bcb-4da4-bda8-9e2565a1accc\")>,\n",
       " <selenium.webdriver.remote.webelement.WebElement (session=\"b616f79894883bf15102a6ec100f4b7a\", element=\"d0ed75d2-0583-411c-8a16-fa20329a324b\")>,\n",
       " <selenium.webdriver.remote.webelement.WebElement (session=\"b616f79894883bf15102a6ec100f4b7a\", element=\"089a10b0-a2d4-44cd-b8cd-7516a276912c\")>,\n",
       " <selenium.webdriver.remote.webelement.WebElement (session=\"b616f79894883bf15102a6ec100f4b7a\", element=\"56a9edb3-af8e-4822-bc75-e5a1ebcef63b\")>,\n",
       " <selenium.webdriver.remote.webelement.WebElement (session=\"b616f79894883bf15102a6ec100f4b7a\", element=\"f8960b05-a5b8-4ac9-a612-5de52fd1bcaa\")>,\n",
       " <selenium.webdriver.remote.webelement.WebElement (session=\"b616f79894883bf15102a6ec100f4b7a\", element=\"f5af068e-15c4-442b-a6cb-68f92af54d02\")>,\n",
       " <selenium.webdriver.remote.webelement.WebElement (session=\"b616f79894883bf15102a6ec100f4b7a\", element=\"ea31900b-439c-4e3a-b1fa-e1e0cfac696f\")>,\n",
       " <selenium.webdriver.remote.webelement.WebElement (session=\"b616f79894883bf15102a6ec100f4b7a\", element=\"92d6fb8d-64f5-48af-a0ff-21ff4840f729\")>,\n",
       " <selenium.webdriver.remote.webelement.WebElement (session=\"b616f79894883bf15102a6ec100f4b7a\", element=\"513dca4d-e1c9-4d63-9481-cd1e94147ffe\")>,\n",
       " <selenium.webdriver.remote.webelement.WebElement (session=\"b616f79894883bf15102a6ec100f4b7a\", element=\"3c2251be-ee6b-4d92-a9e5-6c1e5b2363ec\")>,\n",
       " <selenium.webdriver.remote.webelement.WebElement (session=\"b616f79894883bf15102a6ec100f4b7a\", element=\"9bc11f6c-6be8-4794-b25d-4bdaa754cc7d\")>,\n",
       " <selenium.webdriver.remote.webelement.WebElement (session=\"b616f79894883bf15102a6ec100f4b7a\", element=\"b737bc00-f2cc-4e10-b10b-381d4e8203a2\")>,\n",
       " <selenium.webdriver.remote.webelement.WebElement (session=\"b616f79894883bf15102a6ec100f4b7a\", element=\"66e57a01-aae7-4fb7-bcd0-63f3441df426\")>,\n",
       " <selenium.webdriver.remote.webelement.WebElement (session=\"b616f79894883bf15102a6ec100f4b7a\", element=\"b5ffe63c-fa91-4d84-ba86-a55fddb146b3\")>,\n",
       " <selenium.webdriver.remote.webelement.WebElement (session=\"b616f79894883bf15102a6ec100f4b7a\", element=\"ff7c19df-5ea9-4282-806e-b76a1a8b031a\")>,\n",
       " <selenium.webdriver.remote.webelement.WebElement (session=\"b616f79894883bf15102a6ec100f4b7a\", element=\"b796c2b0-07cb-43fb-9e79-a6b75d0e3435\")>,\n",
       " <selenium.webdriver.remote.webelement.WebElement (session=\"b616f79894883bf15102a6ec100f4b7a\", element=\"097402ca-bc64-477e-915f-4cd9d4b439e4\")>,\n",
       " <selenium.webdriver.remote.webelement.WebElement (session=\"b616f79894883bf15102a6ec100f4b7a\", element=\"114ef327-b62b-4638-9099-4179bc9f06b9\")>,\n",
       " <selenium.webdriver.remote.webelement.WebElement (session=\"b616f79894883bf15102a6ec100f4b7a\", element=\"7323165d-bc94-4393-a0a8-d986cb07c196\")>,\n",
       " <selenium.webdriver.remote.webelement.WebElement (session=\"b616f79894883bf15102a6ec100f4b7a\", element=\"2335f742-7957-4a41-8148-172b8f2184f7\")>,\n",
       " <selenium.webdriver.remote.webelement.WebElement (session=\"b616f79894883bf15102a6ec100f4b7a\", element=\"57f1bf74-9672-4fc4-83c6-6414e92acdf5\")>,\n",
       " <selenium.webdriver.remote.webelement.WebElement (session=\"b616f79894883bf15102a6ec100f4b7a\", element=\"5838f14c-ff9d-441a-af23-960a81489902\")>,\n",
       " <selenium.webdriver.remote.webelement.WebElement (session=\"b616f79894883bf15102a6ec100f4b7a\", element=\"1c305bb7-28c3-4a6a-9109-d525545f2025\")>,\n",
       " <selenium.webdriver.remote.webelement.WebElement (session=\"b616f79894883bf15102a6ec100f4b7a\", element=\"7a786762-0a47-4b09-9adc-68f5ef95bfd6\")>,\n",
       " <selenium.webdriver.remote.webelement.WebElement (session=\"b616f79894883bf15102a6ec100f4b7a\", element=\"be50d223-77fd-4a2b-8597-df9068246765\")>,\n",
       " <selenium.webdriver.remote.webelement.WebElement (session=\"b616f79894883bf15102a6ec100f4b7a\", element=\"0276c981-a6f1-42f4-b8ff-9f551b4cb591\")>,\n",
       " <selenium.webdriver.remote.webelement.WebElement (session=\"b616f79894883bf15102a6ec100f4b7a\", element=\"ad94e614-56cb-4042-8eb7-7507b701c2f9\")>,\n",
       " <selenium.webdriver.remote.webelement.WebElement (session=\"b616f79894883bf15102a6ec100f4b7a\", element=\"18da68f7-4005-4b93-a0c7-d81a7ec7456d\")>,\n",
       " <selenium.webdriver.remote.webelement.WebElement (session=\"b616f79894883bf15102a6ec100f4b7a\", element=\"c27cb37a-f1d2-4e8d-b01a-0d9d876f4e6f\")>,\n",
       " <selenium.webdriver.remote.webelement.WebElement (session=\"b616f79894883bf15102a6ec100f4b7a\", element=\"0af48b17-e36a-4309-b7ac-b6b3838abf29\")>,\n",
       " <selenium.webdriver.remote.webelement.WebElement (session=\"b616f79894883bf15102a6ec100f4b7a\", element=\"4d722b16-41e1-4065-8a81-260afb8e75a5\")>,\n",
       " <selenium.webdriver.remote.webelement.WebElement (session=\"b616f79894883bf15102a6ec100f4b7a\", element=\"7ca91e48-4b6b-4b8e-a500-7ef0c96641b0\")>,\n",
       " <selenium.webdriver.remote.webelement.WebElement (session=\"b616f79894883bf15102a6ec100f4b7a\", element=\"f0d165bf-fdfe-40d3-848b-2286d8be5a20\")>,\n",
       " <selenium.webdriver.remote.webelement.WebElement (session=\"b616f79894883bf15102a6ec100f4b7a\", element=\"26854cec-b4bf-491d-8b26-2f86a2372097\")>,\n",
       " <selenium.webdriver.remote.webelement.WebElement (session=\"b616f79894883bf15102a6ec100f4b7a\", element=\"a3633623-c41d-4ecf-9534-8ab8d774a56e\")>,\n",
       " <selenium.webdriver.remote.webelement.WebElement (session=\"b616f79894883bf15102a6ec100f4b7a\", element=\"b964267c-523f-46d1-a377-755f74ddd479\")>,\n",
       " <selenium.webdriver.remote.webelement.WebElement (session=\"b616f79894883bf15102a6ec100f4b7a\", element=\"89a04182-f94e-40ad-acfe-7a79e399c6fe\")>]"
      ]
     },
     "execution_count": 72,
     "metadata": {},
     "output_type": "execute_result"
    }
   ],
   "source": [
    "Price=driver.find_elements_by_xpath(\"//div[@class='_30jeq3']\")\n",
    "Price"
   ]
  },
  {
   "cell_type": "code",
   "execution_count": 73,
   "id": "2783ede7",
   "metadata": {},
   "outputs": [
    {
     "data": {
      "text/plain": [
       "['₹649',\n",
       " '₹649',\n",
       " '₹647',\n",
       " '₹639',\n",
       " '₹283',\n",
       " '₹249',\n",
       " '₹299',\n",
       " '₹419',\n",
       " '₹224',\n",
       " '₹265',\n",
       " '₹225',\n",
       " '₹249',\n",
       " '₹195',\n",
       " '₹295',\n",
       " '₹224',\n",
       " '₹664',\n",
       " '₹219',\n",
       " '₹280',\n",
       " '₹249',\n",
       " '₹449',\n",
       " '₹209',\n",
       " '₹259',\n",
       " '₹399',\n",
       " '₹2,500',\n",
       " '₹299',\n",
       " '₹249',\n",
       " '₹224',\n",
       " '₹329',\n",
       " '₹499',\n",
       " '₹219',\n",
       " '₹208',\n",
       " '₹579',\n",
       " '₹349',\n",
       " '₹809',\n",
       " '₹181',\n",
       " '₹3,500',\n",
       " '₹849',\n",
       " '₹246',\n",
       " '₹349',\n",
       " '₹948']"
      ]
     },
     "execution_count": 73,
     "metadata": {},
     "output_type": "execute_result"
    }
   ],
   "source": [
    "price=[]\n",
    "\n",
    "for i in Price:\n",
    "    p=i.text\n",
    "    price.append(p)\n",
    "\n",
    "price[0:41]"
   ]
  },
  {
   "cell_type": "code",
   "execution_count": 74,
   "id": "30e35117",
   "metadata": {},
   "outputs": [
    {
     "data": {
      "text/plain": [
       "40"
      ]
     },
     "execution_count": 74,
     "metadata": {},
     "output_type": "execute_result"
    }
   ],
   "source": [
    "len(price)"
   ]
  },
  {
   "cell_type": "code",
   "execution_count": 75,
   "id": "b1f5129c",
   "metadata": {},
   "outputs": [
    {
     "data": {
      "text/html": [
       "<div>\n",
       "<style scoped>\n",
       "    .dataframe tbody tr th:only-of-type {\n",
       "        vertical-align: middle;\n",
       "    }\n",
       "\n",
       "    .dataframe tbody tr th {\n",
       "        vertical-align: top;\n",
       "    }\n",
       "\n",
       "    .dataframe thead th {\n",
       "        text-align: right;\n",
       "    }\n",
       "</style>\n",
       "<table border=\"1\" class=\"dataframe\">\n",
       "  <thead>\n",
       "    <tr style=\"text-align: right;\">\n",
       "      <th></th>\n",
       "      <th>Brand</th>\n",
       "      <th>Product</th>\n",
       "      <th>Price</th>\n",
       "    </tr>\n",
       "  </thead>\n",
       "  <tbody>\n",
       "    <tr>\n",
       "      <th>0</th>\n",
       "      <td>VINCENT CHASE</td>\n",
       "      <td>UV Protection Rectangular Sunglasses (50)</td>\n",
       "      <td>₹649</td>\n",
       "    </tr>\n",
       "    <tr>\n",
       "      <th>1</th>\n",
       "      <td>VINCENT CHASE</td>\n",
       "      <td>UV Protection Cat-eye Sunglasses (54)</td>\n",
       "      <td>₹649</td>\n",
       "    </tr>\n",
       "    <tr>\n",
       "      <th>2</th>\n",
       "      <td>Fastrack</td>\n",
       "      <td>UV Protection Wayfarer Sunglasses (Free Size)</td>\n",
       "      <td>₹647</td>\n",
       "    </tr>\n",
       "    <tr>\n",
       "      <th>3</th>\n",
       "      <td>Fastrack</td>\n",
       "      <td>UV Protection Rectangular Sunglasses (Free Size)</td>\n",
       "      <td>₹639</td>\n",
       "    </tr>\n",
       "    <tr>\n",
       "      <th>4</th>\n",
       "      <td>SUNBEE</td>\n",
       "      <td>UV Protection, Polarized Wayfarer Sunglasses (...</td>\n",
       "      <td>₹283</td>\n",
       "    </tr>\n",
       "    <tr>\n",
       "      <th>5</th>\n",
       "      <td>PIRASO</td>\n",
       "      <td>UV Protection Aviator Sunglasses (54)</td>\n",
       "      <td>₹249</td>\n",
       "    </tr>\n",
       "    <tr>\n",
       "      <th>6</th>\n",
       "      <td>Lee Topper</td>\n",
       "      <td>Riding Glasses Wrap-around Sunglasses (Free Size)</td>\n",
       "      <td>₹299</td>\n",
       "    </tr>\n",
       "    <tr>\n",
       "      <th>7</th>\n",
       "      <td>CRYSTAL CART</td>\n",
       "      <td>UV Protection, Gradient Round Sunglasses (Free...</td>\n",
       "      <td>₹419</td>\n",
       "    </tr>\n",
       "    <tr>\n",
       "      <th>8</th>\n",
       "      <td>Elligator</td>\n",
       "      <td>UV Protection Wayfarer Sunglasses (53)</td>\n",
       "      <td>₹224</td>\n",
       "    </tr>\n",
       "    <tr>\n",
       "      <th>9</th>\n",
       "      <td>New Specs</td>\n",
       "      <td>UV Protection Rectangular Sunglasses (Free Size)</td>\n",
       "      <td>₹265</td>\n",
       "    </tr>\n",
       "    <tr>\n",
       "      <th>10</th>\n",
       "      <td>PIRASO</td>\n",
       "      <td>UV Protection Wayfarer Sunglasses (32)</td>\n",
       "      <td>₹225</td>\n",
       "    </tr>\n",
       "    <tr>\n",
       "      <th>11</th>\n",
       "      <td>CRYSTAL CART</td>\n",
       "      <td>Polarized, Gradient, UV Protection, Mirrored O...</td>\n",
       "      <td>₹249</td>\n",
       "    </tr>\n",
       "    <tr>\n",
       "      <th>12</th>\n",
       "      <td>SHAAH COLLECTIONS</td>\n",
       "      <td>UV Protection, Polarized, Mirrored Rectangular...</td>\n",
       "      <td>₹195</td>\n",
       "    </tr>\n",
       "    <tr>\n",
       "      <th>13</th>\n",
       "      <td>Elligator</td>\n",
       "      <td>UV Protection Round Sunglasses (54)</td>\n",
       "      <td>₹295</td>\n",
       "    </tr>\n",
       "    <tr>\n",
       "      <th>14</th>\n",
       "      <td>PIRASO</td>\n",
       "      <td>UV Protection Aviator Sunglasses (54)</td>\n",
       "      <td>₹224</td>\n",
       "    </tr>\n",
       "    <tr>\n",
       "      <th>15</th>\n",
       "      <td>Singco India</td>\n",
       "      <td>Gradient, Toughened Glass Lens, UV Protection ...</td>\n",
       "      <td>₹664</td>\n",
       "    </tr>\n",
       "    <tr>\n",
       "      <th>16</th>\n",
       "      <td>DAHAAZIL</td>\n",
       "      <td>UV Protection, Night Vision, Riding Glasses Wa...</td>\n",
       "      <td>₹219</td>\n",
       "    </tr>\n",
       "    <tr>\n",
       "      <th>17</th>\n",
       "      <td>PIRASO</td>\n",
       "      <td>UV Protection Rectangular Sunglasses (52)</td>\n",
       "      <td>₹280</td>\n",
       "    </tr>\n",
       "    <tr>\n",
       "      <th>18</th>\n",
       "      <td>SRPM</td>\n",
       "      <td>UV Protection Wayfarer Sunglasses (50)</td>\n",
       "      <td>₹249</td>\n",
       "    </tr>\n",
       "    <tr>\n",
       "      <th>19</th>\n",
       "      <td>ROZZETTA CRAFT</td>\n",
       "      <td>UV Protection, Gradient Rectangular Sunglasses...</td>\n",
       "      <td>₹449</td>\n",
       "    </tr>\n",
       "    <tr>\n",
       "      <th>20</th>\n",
       "      <td>kingsunglasses</td>\n",
       "      <td>UV Protection, Riding Glasses, Mirrored Wayfar...</td>\n",
       "      <td>₹209</td>\n",
       "    </tr>\n",
       "    <tr>\n",
       "      <th>21</th>\n",
       "      <td>SUNBEE</td>\n",
       "      <td>UV Protection, Polarized, Mirrored Retro Squar...</td>\n",
       "      <td>₹259</td>\n",
       "    </tr>\n",
       "    <tr>\n",
       "      <th>22</th>\n",
       "      <td>ROZZETTA CRAFT</td>\n",
       "      <td>UV Protection, Gradient Rectangular Sunglasses...</td>\n",
       "      <td>₹399</td>\n",
       "    </tr>\n",
       "    <tr>\n",
       "      <th>23</th>\n",
       "      <td>john jacobs</td>\n",
       "      <td>UV Protection Round Sunglasses (54)</td>\n",
       "      <td>₹2,500</td>\n",
       "    </tr>\n",
       "    <tr>\n",
       "      <th>24</th>\n",
       "      <td>New Specs</td>\n",
       "      <td>Mirrored, UV Protection, Riding Glasses, Other...</td>\n",
       "      <td>₹299</td>\n",
       "    </tr>\n",
       "    <tr>\n",
       "      <th>25</th>\n",
       "      <td>DEIXELS</td>\n",
       "      <td>UV Protection Aviator, Wayfarer Sunglasses (Fr...</td>\n",
       "      <td>₹249</td>\n",
       "    </tr>\n",
       "    <tr>\n",
       "      <th>26</th>\n",
       "      <td>PIRASO</td>\n",
       "      <td>UV Protection Aviator Sunglasses (54)</td>\n",
       "      <td>₹224</td>\n",
       "    </tr>\n",
       "    <tr>\n",
       "      <th>27</th>\n",
       "      <td>Singco India</td>\n",
       "      <td>Riding Glasses, UV Protection Clubmaster, Wayf...</td>\n",
       "      <td>₹329</td>\n",
       "    </tr>\n",
       "    <tr>\n",
       "      <th>28</th>\n",
       "      <td>ROZZETTA CRAFT</td>\n",
       "      <td>Polarized, Riding Glasses Sports, Wrap-around ...</td>\n",
       "      <td>₹499</td>\n",
       "    </tr>\n",
       "    <tr>\n",
       "      <th>29</th>\n",
       "      <td>Lee Topper</td>\n",
       "      <td>UV Protection Rectangular Sunglasses (Free Size)</td>\n",
       "      <td>₹219</td>\n",
       "    </tr>\n",
       "    <tr>\n",
       "      <th>30</th>\n",
       "      <td>hipe</td>\n",
       "      <td>Gradient, UV Protection Round Sunglasses (Free...</td>\n",
       "      <td>₹208</td>\n",
       "    </tr>\n",
       "    <tr>\n",
       "      <th>31</th>\n",
       "      <td>CRYSTAL CART</td>\n",
       "      <td>Polarized, UV Protection, Mirrored, Gradient R...</td>\n",
       "      <td>₹579</td>\n",
       "    </tr>\n",
       "    <tr>\n",
       "      <th>32</th>\n",
       "      <td>ROZZETTA CRAFT</td>\n",
       "      <td>UV Protection, Gradient Retro Square Sunglasse...</td>\n",
       "      <td>₹349</td>\n",
       "    </tr>\n",
       "    <tr>\n",
       "      <th>33</th>\n",
       "      <td>Fastrack</td>\n",
       "      <td>UV Protection Shield Sunglasses (Free Size)</td>\n",
       "      <td>₹809</td>\n",
       "    </tr>\n",
       "    <tr>\n",
       "      <th>34</th>\n",
       "      <td>HIPPON</td>\n",
       "      <td>UV Protection Wayfarer Sunglasses (55)</td>\n",
       "      <td>₹181</td>\n",
       "    </tr>\n",
       "    <tr>\n",
       "      <th>35</th>\n",
       "      <td>john jacobs</td>\n",
       "      <td>Polarized, UV Protection Retro Square Sunglass...</td>\n",
       "      <td>₹3,500</td>\n",
       "    </tr>\n",
       "    <tr>\n",
       "      <th>36</th>\n",
       "      <td>Mi</td>\n",
       "      <td>Polarized Wayfarer Sunglasses (Free Size)</td>\n",
       "      <td>₹849</td>\n",
       "    </tr>\n",
       "    <tr>\n",
       "      <th>37</th>\n",
       "      <td>SRPM</td>\n",
       "      <td>UV Protection Wayfarer Sunglasses (53)</td>\n",
       "      <td>₹246</td>\n",
       "    </tr>\n",
       "    <tr>\n",
       "      <th>38</th>\n",
       "      <td>PIRASO</td>\n",
       "      <td>UV Protection Aviator Sunglasses (58)</td>\n",
       "      <td>₹349</td>\n",
       "    </tr>\n",
       "    <tr>\n",
       "      <th>39</th>\n",
       "      <td>Resist</td>\n",
       "      <td>UV Protection, Riding Glasses, Toughened Glass...</td>\n",
       "      <td>₹948</td>\n",
       "    </tr>\n",
       "  </tbody>\n",
       "</table>\n",
       "</div>"
      ],
      "text/plain": [
       "                Brand                                            Product  \\\n",
       "0       VINCENT CHASE          UV Protection Rectangular Sunglasses (50)   \n",
       "1       VINCENT CHASE              UV Protection Cat-eye Sunglasses (54)   \n",
       "2            Fastrack      UV Protection Wayfarer Sunglasses (Free Size)   \n",
       "3            Fastrack   UV Protection Rectangular Sunglasses (Free Size)   \n",
       "4              SUNBEE  UV Protection, Polarized Wayfarer Sunglasses (...   \n",
       "5              PIRASO              UV Protection Aviator Sunglasses (54)   \n",
       "6          Lee Topper  Riding Glasses Wrap-around Sunglasses (Free Size)   \n",
       "7        CRYSTAL CART  UV Protection, Gradient Round Sunglasses (Free...   \n",
       "8           Elligator             UV Protection Wayfarer Sunglasses (53)   \n",
       "9           New Specs   UV Protection Rectangular Sunglasses (Free Size)   \n",
       "10             PIRASO             UV Protection Wayfarer Sunglasses (32)   \n",
       "11       CRYSTAL CART  Polarized, Gradient, UV Protection, Mirrored O...   \n",
       "12  SHAAH COLLECTIONS  UV Protection, Polarized, Mirrored Rectangular...   \n",
       "13          Elligator                UV Protection Round Sunglasses (54)   \n",
       "14             PIRASO              UV Protection Aviator Sunglasses (54)   \n",
       "15       Singco India  Gradient, Toughened Glass Lens, UV Protection ...   \n",
       "16           DAHAAZIL  UV Protection, Night Vision, Riding Glasses Wa...   \n",
       "17             PIRASO          UV Protection Rectangular Sunglasses (52)   \n",
       "18               SRPM             UV Protection Wayfarer Sunglasses (50)   \n",
       "19     ROZZETTA CRAFT  UV Protection, Gradient Rectangular Sunglasses...   \n",
       "20     kingsunglasses  UV Protection, Riding Glasses, Mirrored Wayfar...   \n",
       "21             SUNBEE  UV Protection, Polarized, Mirrored Retro Squar...   \n",
       "22     ROZZETTA CRAFT  UV Protection, Gradient Rectangular Sunglasses...   \n",
       "23        john jacobs                UV Protection Round Sunglasses (54)   \n",
       "24          New Specs  Mirrored, UV Protection, Riding Glasses, Other...   \n",
       "25            DEIXELS  UV Protection Aviator, Wayfarer Sunglasses (Fr...   \n",
       "26             PIRASO              UV Protection Aviator Sunglasses (54)   \n",
       "27       Singco India  Riding Glasses, UV Protection Clubmaster, Wayf...   \n",
       "28     ROZZETTA CRAFT  Polarized, Riding Glasses Sports, Wrap-around ...   \n",
       "29         Lee Topper   UV Protection Rectangular Sunglasses (Free Size)   \n",
       "30               hipe  Gradient, UV Protection Round Sunglasses (Free...   \n",
       "31       CRYSTAL CART  Polarized, UV Protection, Mirrored, Gradient R...   \n",
       "32     ROZZETTA CRAFT  UV Protection, Gradient Retro Square Sunglasse...   \n",
       "33           Fastrack        UV Protection Shield Sunglasses (Free Size)   \n",
       "34             HIPPON             UV Protection Wayfarer Sunglasses (55)   \n",
       "35        john jacobs  Polarized, UV Protection Retro Square Sunglass...   \n",
       "36                 Mi          Polarized Wayfarer Sunglasses (Free Size)   \n",
       "37               SRPM             UV Protection Wayfarer Sunglasses (53)   \n",
       "38             PIRASO              UV Protection Aviator Sunglasses (58)   \n",
       "39             Resist  UV Protection, Riding Glasses, Toughened Glass...   \n",
       "\n",
       "     Price  \n",
       "0     ₹649  \n",
       "1     ₹649  \n",
       "2     ₹647  \n",
       "3     ₹639  \n",
       "4     ₹283  \n",
       "5     ₹249  \n",
       "6     ₹299  \n",
       "7     ₹419  \n",
       "8     ₹224  \n",
       "9     ₹265  \n",
       "10    ₹225  \n",
       "11    ₹249  \n",
       "12    ₹195  \n",
       "13    ₹295  \n",
       "14    ₹224  \n",
       "15    ₹664  \n",
       "16    ₹219  \n",
       "17    ₹280  \n",
       "18    ₹249  \n",
       "19    ₹449  \n",
       "20    ₹209  \n",
       "21    ₹259  \n",
       "22    ₹399  \n",
       "23  ₹2,500  \n",
       "24    ₹299  \n",
       "25    ₹249  \n",
       "26    ₹224  \n",
       "27    ₹329  \n",
       "28    ₹499  \n",
       "29    ₹219  \n",
       "30    ₹208  \n",
       "31    ₹579  \n",
       "32    ₹349  \n",
       "33    ₹809  \n",
       "34    ₹181  \n",
       "35  ₹3,500  \n",
       "36    ₹849  \n",
       "37    ₹246  \n",
       "38    ₹349  \n",
       "39    ₹948  "
      ]
     },
     "execution_count": 75,
     "metadata": {},
     "output_type": "execute_result"
    }
   ],
   "source": [
    "import pandas as pd\n",
    "outputs=pd.DataFrame({})\n",
    "outputs['Brand']=brand\n",
    "outputs['Product']=product_details\n",
    "outputs['Price']=price\n",
    "\n",
    "outputs"
   ]
  },
  {
   "cell_type": "code",
   "execution_count": 76,
   "id": "4942d6d5",
   "metadata": {},
   "outputs": [],
   "source": [
    "driver=webdriver.Chrome('chromedriver.exe')\n",
    "time.sleep(2)"
   ]
  },
  {
   "cell_type": "code",
   "execution_count": 77,
   "id": "b25c812e",
   "metadata": {},
   "outputs": [],
   "source": [
    "driver.get(' https://www.flipkart.com/apple-iphone-11-black-64-gb-includes- earpods-power- adapter/p/itm0f37c2240b217?pid=MOBFKCTSVZAXUHGR&lid=LSTMOBFKC TSVZAXUHGREPBFGI&marketplace')"
   ]
  },
  {
   "cell_type": "code",
   "execution_count": 78,
   "id": "aedd1f74",
   "metadata": {},
   "outputs": [],
   "source": [
    "search=driver.find_element_by_xpath('/html/body/div[1]/div/div[3]/div[1]/div[2]/div[9]/div/div/div[5]/div/a/div/span')\n",
    "search.click()"
   ]
  },
  {
   "cell_type": "code",
   "execution_count": 79,
   "id": "0020ec72",
   "metadata": {},
   "outputs": [],
   "source": [
    "rate=[]\n",
    "summery=[]\n",
    "full=[]"
   ]
  },
  {
   "cell_type": "code",
   "execution_count": 90,
   "id": "5c496bed",
   "metadata": {},
   "outputs": [
    {
     "data": {
      "text/plain": [
       "['5',\n",
       " '5',\n",
       " '5',\n",
       " '4',\n",
       " '5',\n",
       " '5',\n",
       " '5',\n",
       " '3',\n",
       " '4',\n",
       " '5',\n",
       " '5',\n",
       " '5',\n",
       " '5',\n",
       " '5',\n",
       " '5',\n",
       " '5',\n",
       " '3',\n",
       " '5',\n",
       " '5',\n",
       " '5',\n",
       " '5',\n",
       " '5',\n",
       " '5',\n",
       " '5',\n",
       " '5',\n",
       " '3',\n",
       " '5',\n",
       " '5',\n",
       " '5',\n",
       " '5',\n",
       " '4',\n",
       " '5',\n",
       " '5',\n",
       " '5',\n",
       " '4',\n",
       " '5',\n",
       " '5',\n",
       " '5',\n",
       " '5',\n",
       " '5',\n",
       " '4',\n",
       " '5',\n",
       " '5',\n",
       " '5',\n",
       " '4',\n",
       " '5',\n",
       " '5',\n",
       " '5',\n",
       " '4',\n",
       " '5',\n",
       " '5',\n",
       " '5',\n",
       " '4',\n",
       " '5',\n",
       " '4',\n",
       " '4',\n",
       " '5',\n",
       " '4',\n",
       " '5',\n",
       " '5',\n",
       " '5',\n",
       " '4',\n",
       " '5',\n",
       " '4',\n",
       " '4',\n",
       " '5',\n",
       " '5',\n",
       " '5',\n",
       " '5',\n",
       " '5',\n",
       " '5',\n",
       " '5',\n",
       " '4',\n",
       " '5',\n",
       " '5',\n",
       " '5',\n",
       " '5',\n",
       " '5',\n",
       " '5',\n",
       " '5',\n",
       " '4',\n",
       " '5',\n",
       " '5',\n",
       " '5',\n",
       " '5',\n",
       " '5',\n",
       " '5',\n",
       " '5',\n",
       " '5',\n",
       " '5',\n",
       " '5',\n",
       " '5']"
      ]
     },
     "execution_count": 90,
     "metadata": {},
     "output_type": "execute_result"
    }
   ],
   "source": [
    "rate=[]\n",
    "\n",
    "for i in range(0,10):\n",
    "    rating=driver.find_elements_by_xpath(\"//div[@class='_3LWZlK _1BLPMq']\")\n",
    "    for i in rating:\n",
    "        r=i.text\n",
    "        rate.append(r)\n",
    "    next_page=driver.find_element_by_xpath('/html/body/div[1]/div/div[3]/div/div/div[2]/div[13]/div/div/nav/a[12]')\n",
    "    next_page.click()\n",
    "    time.sleep(5)\n",
    "    \n",
    "rate[0:101]\n",
    "    "
   ]
  },
  {
   "cell_type": "code",
   "execution_count": 91,
   "id": "882cd392",
   "metadata": {},
   "outputs": [
    {
     "data": {
      "text/plain": [
       "92"
      ]
     },
     "execution_count": 91,
     "metadata": {},
     "output_type": "execute_result"
    }
   ],
   "source": [
    "len(rate)"
   ]
  },
  {
   "cell_type": "code",
   "execution_count": 85,
   "id": "5b0fbad3",
   "metadata": {},
   "outputs": [
    {
     "data": {
      "text/plain": [
       "['Worth every penny',\n",
       " 'Excellent',\n",
       " 'Awesome',\n",
       " 'Awesome',\n",
       " 'Fabulous!',\n",
       " 'Terrific',\n",
       " 'Terrific purchase',\n",
       " 'Awesome',\n",
       " 'Fabulous!',\n",
       " 'Perfect product!',\n",
       " 'Mind-blowing purchase',\n",
       " 'Simply awesome',\n",
       " 'Terrible product',\n",
       " 'Utterly Disappointed',\n",
       " 'Worth every penny',\n",
       " 'Great product',\n",
       " 'Best in the market!',\n",
       " 'Terrific',\n",
       " 'Really Nice',\n",
       " 'Best in the market!',\n",
       " 'Mind-blowing purchase',\n",
       " 'Simply awesome',\n",
       " 'Terrible product',\n",
       " 'Utterly Disappointed',\n",
       " 'Worth every penny',\n",
       " 'Great product',\n",
       " 'Best in the market!',\n",
       " 'Terrific',\n",
       " 'Really Nice',\n",
       " 'Best in the market!',\n",
       " 'Highly recommended',\n",
       " 'Great product',\n",
       " 'Mind-blowing purchase',\n",
       " 'Worst experience ever!',\n",
       " 'Waste of money!',\n",
       " 'Terrific purchase',\n",
       " 'Excellent',\n",
       " 'Perfect product!',\n",
       " 'Awesome',\n",
       " 'Highly recommended',\n",
       " 'Highly recommended',\n",
       " 'Great product',\n",
       " 'Mind-blowing purchase',\n",
       " 'Worst experience ever!',\n",
       " 'Waste of money!',\n",
       " 'Terrific purchase',\n",
       " 'Excellent',\n",
       " 'Perfect product!',\n",
       " 'Awesome',\n",
       " 'Highly recommended',\n",
       " 'Classy product',\n",
       " 'Good choice',\n",
       " 'Good choice',\n",
       " 'Wonderful',\n",
       " 'Perfect product!',\n",
       " 'Excellent',\n",
       " 'Super!',\n",
       " 'Perfect product!',\n",
       " 'Brilliant',\n",
       " 'Awesome',\n",
       " 'Classy product',\n",
       " 'Good choice',\n",
       " 'Good choice',\n",
       " 'Wonderful',\n",
       " 'Perfect product!',\n",
       " 'Excellent',\n",
       " 'Super!',\n",
       " 'Perfect product!',\n",
       " 'Brilliant',\n",
       " 'Awesome',\n",
       " 'Terrific purchase',\n",
       " 'Simply awesome',\n",
       " 'Just wow!',\n",
       " 'Wonderful',\n",
       " 'Brilliant',\n",
       " 'Terrific purchase',\n",
       " 'Worth every penny',\n",
       " 'Expected a better product',\n",
       " 'Must buy!',\n",
       " 'Highly recommended',\n",
       " 'Terrific purchase',\n",
       " 'Simply awesome',\n",
       " 'Just wow!',\n",
       " 'Wonderful',\n",
       " 'Brilliant',\n",
       " 'Terrific purchase',\n",
       " 'Worth every penny',\n",
       " 'Expected a better product',\n",
       " 'Must buy!',\n",
       " 'Highly recommended',\n",
       " 'Must buy!',\n",
       " 'Absolutely Awesome device',\n",
       " 'Really Awesome',\n",
       " 'Very poor',\n",
       " 'Slightly disappointed',\n",
       " 'Terrific',\n",
       " 'Just wow!',\n",
       " 'Just wow!',\n",
       " 'Terrific purchase',\n",
       " 'Worth every penny']"
      ]
     },
     "execution_count": 85,
     "metadata": {},
     "output_type": "execute_result"
    }
   ],
   "source": [
    "summery=[]\n",
    "\n",
    "for i in range(0,10):\n",
    "    summ=driver.find_elements_by_xpath(\"//p[@class='_2-N8zT']\")\n",
    "    for i in summ:\n",
    "        s=i.text\n",
    "        summery.append(s)\n",
    "    next_page=driver.find_element_by_xpath('/html/body/div[1]/div/div[3]/div/div/div[2]/div[13]/div/div/nav/a[12]')\n",
    "    next_page.click()\n",
    "    time.sleep(5)\n",
    "    \n",
    "summery[0:101]"
   ]
  },
  {
   "cell_type": "code",
   "execution_count": 86,
   "id": "1dfec360",
   "metadata": {},
   "outputs": [
    {
     "data": {
      "text/plain": [
       "100"
      ]
     },
     "execution_count": 86,
     "metadata": {},
     "output_type": "execute_result"
    }
   ],
   "source": [
    "len(summery)"
   ]
  },
  {
   "cell_type": "code",
   "execution_count": 87,
   "id": "23e65f48",
   "metadata": {},
   "outputs": [
    {
     "data": {
      "text/plain": [
       "['Camera at its best and also got good discount via HDFC card and got this product for Rs.61,545',\n",
       " \"Apple at its best, this is how you can define this device.\\n\\nCrazily fast performance\\nGreat Camera\\nGreat Battery\\nSuperfast Face id\\nAwesome looks\\nGood screen quality\\nSlightly heavy though but doesn't trouble once you get used to it.\\nThanks Flipkart for a fast delivery.\",\n",
       " 'Apple products though quite expensive still keep itself to the mark.\\nThe delivery was completed even before the given date.\\nComplete satisfaction I would say.',\n",
       " 'I got this phone on 20 this month. It has not even been 10 days and it has started hanging so much. I am sure they sent a faulty piece and now Flipkart is not even helping me at all. I would suggest NOT TO BUY any product from such unreliable website. After spending so much money, I am stuck with a phone whose touch is already not working.',\n",
       " \"Most disappointing aspect is that Apple in the name of conservation of the nature has not only stopped providing adapter with the phone to charge, but also the lightening cable they're giving doesn't fit with other usb adapter or devices merely to create a monopoly so that they can sell the product seperately. Most deservingly they've been slapped with huge penalty by a court in Brazil.\\n\\nFurther, the device has many limitations in features be it camera or other applications compared to other ...\\nREAD MORE\",\n",
       " 'Very very good excellent thank you for Flipkart',\n",
       " 'Value for money.. the great 11 is awesome.',\n",
       " 'buy this product u will never regret... feel h boss😋',\n",
       " '❤❤nycc👌👌👌👌👌',\n",
       " 'Absolute Phone 📱',\n",
       " 'Don’t buy online camera issue phone not working properly hanging problem please don’t buy from flipkart',\n",
       " 'You get legit original iphone 11 from Flipkart no scam and iphone 11 is value of money as its still has better processor then any android processors .\\n\\nOnly downgrade thing if you buy iphone is its battery it heats little bit and if you play games it only give you 2-3 hrs battery life then again charge other wise 15-16 hrs day life\\n\\nOtherwise phone is great',\n",
       " 'Writing this review after 1 year of usage\\nWhen Looking at the perfomance i feel it much more better than android.but the battery drains faster due to low maH…\\nIf u are a guy who donot need to download any third party apps then you can go for it.(from google chrome or safari you cant downlod unauthorized apps).',\n",
       " 'After heavy usage of 1 day🤗\\nCamera:- very good, need to improve front cam a little bit found some disturbance while zoom in to a photo\\nBattery:- not the best but still better than other iPhones i can use it for a full day without any issues (screen time- 5hr 30min)\\nDisplay:- no worries with the display u can see the screen without any issues during day time\\nPerformance:- its a absolute gem in this segment, no lags !!\\nCharging:- doesn’t provide any charger jn the box bought a 20W charger it ...\\nREAD MORE',\n",
       " 'Love this camera🤞',\n",
       " \"Received a sealed brand new product from Apple. Got a 20W apple adapter from the store (@Rs. 1900). Initial charging made the phone very hot, but after optimization of various apps there is no issue. Using the phone for last 2 days and so far did not face any problems. Non FHD screen is not an issue which I expected from various junk you tube reviews. People won't notice even, as its a real quality apple retina display. A big thumbs up for the 12 MP cam which is better that all 48/64/108 MP ...\\nREAD MORE\",\n",
       " 'Very nice phone',\n",
       " 'One of the best products',\n",
       " 'Apple iPhone as usual is a great product. I can rate out of out. The delivery person from Flipkart first time gave bad experience with rude behaviour .. no\\nPatience at all. He was saying within 10 minutes to be at home but came after 2 hours that too scolding us when we called and enquirers whT time he will come home. Requesting flipkart to appoint customer friendly delivery guys.',\n",
       " 'Amazing phone',\n",
       " 'Don’t buy online camera issue phone not working properly hanging problem please don’t buy from flipkart',\n",
       " 'You get legit original iphone 11 from Flipkart no scam and iphone 11 is value of money as its still has better processor then any android processors .\\n\\nOnly downgrade thing if you buy iphone is its battery it heats little bit and if you play games it only give you 2-3 hrs battery life then again charge other wise 15-16 hrs day life\\n\\nOtherwise phone is great',\n",
       " 'Writing this review after 1 year of usage\\nWhen Looking at the perfomance i feel it much more better than android.but the battery drains faster due to low maH…\\nIf u are a guy who donot need to download any third party apps then you can go for it.(from google chrome or safari you cant downlod unauthorized apps).',\n",
       " 'After heavy usage of 1 day🤗\\nCamera:- very good, need to improve front cam a little bit found some disturbance while zoom in to a photo\\nBattery:- not the best but still better than other iPhones i can use it for a full day without any issues (screen time- 5hr 30min)\\nDisplay:- no worries with the display u can see the screen without any issues during day time\\nPerformance:- its a absolute gem in this segment, no lags !!\\nCharging:- doesn’t provide any charger jn the box bought a 20W charger it ...\\nREAD MORE',\n",
       " 'Love this camera🤞',\n",
       " \"Received a sealed brand new product from Apple. Got a 20W apple adapter from the store (@Rs. 1900). Initial charging made the phone very hot, but after optimization of various apps there is no issue. Using the phone for last 2 days and so far did not face any problems. Non FHD screen is not an issue which I expected from various junk you tube reviews. People won't notice even, as its a real quality apple retina display. A big thumbs up for the 12 MP cam which is better that all 48/64/108 MP ...\\nREAD MORE\",\n",
       " 'Very nice phone',\n",
       " 'One of the best products',\n",
       " 'Apple iPhone as usual is a great product. I can rate out of out. The delivery person from Flipkart first time gave bad experience with rude behaviour .. no\\nPatience at all. He was saying within 10 minutes to be at home but came after 2 hours that too scolding us when we called and enquirers whT time he will come home. Requesting flipkart to appoint customer friendly delivery guys.',\n",
       " 'Amazing phone',\n",
       " 'everything is good about this phone however at 60k customer expect oled display which is lack in this phone.',\n",
       " 'Battery drain quality not good new phone just few days used les than 5 day',\n",
       " 'Thats awesome',\n",
       " 'Top notch performance.. loved it.. specially camera ❤️',\n",
       " 'best mobile i ever used ,best xamera,',\n",
       " 'beautifull phone. camera thaaru maaru.. night la photo pudicha kooda pakkkava semmaya pagal la pudicha madhiri irukku... rate ku aetha quality... noiseless voice.. touch summa dhosa kallula pota butter madhiri vazhukkinu oduthu... lovely phone',\n",
       " 'Its good as i have switched from android to iphone after 4 years.\\nThe notch is very big considering that its the third model from apple and they haven’t done anything to the big notch on the device',\n",
       " 'Just awesome everything is perfect.\\nCamera outstanding ⭐️⭐️⭐️⭐️⭐️',\n",
       " 'Phone battery is good\\n4K video recording is really amazing\\nCamera is good\\nLow light performance should be improved\\nPerformance is good\\nSlow motion video create blinking on screen in artificial light\\n\\nFlipkart showed me quick delivery next day but the phone arrived one day late. I missed many memories to be captured. Upset with flipkart delivery',\n",
       " 'Performance\\n✅',\n",
       " 'everything is good about this phone however at 60k customer expect oled display which is lack in this phone.',\n",
       " 'Battery drain quality not good new phone just few days used les than 5 day',\n",
       " 'Thats awesome',\n",
       " 'Top notch performance.. loved it.. specially camera ❤️',\n",
       " 'best mobile i ever used ,best xamera,',\n",
       " 'beautifull phone. camera thaaru maaru.. night la photo pudicha kooda pakkkava semmaya pagal la pudicha madhiri irukku... rate ku aetha quality... noiseless voice.. touch summa dhosa kallula pota butter madhiri vazhukkinu oduthu... lovely phone',\n",
       " 'Its good as i have switched from android to iphone after 4 years.\\nThe notch is very big considering that its the third model from apple and they haven’t done anything to the big notch on the device',\n",
       " 'Just awesome everything is perfect.\\nCamera outstanding ⭐️⭐️⭐️⭐️⭐️',\n",
       " 'Phone battery is good\\n4K video recording is really amazing\\nCamera is good\\nLow light performance should be improved\\nPerformance is good\\nSlow motion video create blinking on screen in artificial light\\n\\nFlipkart showed me quick delivery next day but the phone arrived one day late. I missed many memories to be captured. Upset with flipkart delivery',\n",
       " 'Performance\\n✅',\n",
       " 'Best ever, awsome camera and battery smooth os.',\n",
       " 'Next day of purchase price get fallen with 4000',\n",
       " 'Superb Phone❤️',\n",
       " 'Got in 38k after all offer\\nManufacture APRIL 2022\\nTHE LATEST ITEM\\nMAJA A GAYA\\nGO FOR IT',\n",
       " 'I bought a new iPhone just to click awesome picture',\n",
       " 'After 7 months use, i can say as per first observation, i am facing so much issue with battery. Its draining too fast.',\n",
       " 'I bought this from Flipkart and loved the product. performance and quality is good. But only one thing makes me very disappointed is the battery life. Its just 3 months of usage and the Battery life has reduced to 98%. This cannot be accepted from a quality product like apple. Not sure what to do on this now. I was using Iphone 5s before and i used that for almost 4 years. But this i am not sure how long i can use with this battery life.\\n\\nPeople, please be careful on this before buying. Ple...\\nREAD MORE',\n",
       " 'Amazing camera quality.',\n",
       " 'Worth the price. Apple is the best.',\n",
       " 'Awesome 👍',\n",
       " 'Best ever, awsome camera and battery smooth os.',\n",
       " 'Next day of purchase price get fallen with 4000',\n",
       " 'Superb Phone❤️',\n",
       " 'Got in 38k after all offer\\nManufacture APRIL 2022\\nTHE LATEST ITEM\\nMAJA A GAYA\\nGO FOR IT',\n",
       " 'I bought a new iPhone just to click awesome picture',\n",
       " 'After 7 months use, i can say as per first observation, i am facing so much issue with battery. Its draining too fast.',\n",
       " 'I bought this from Flipkart and loved the product. performance and quality is good. But only one thing makes me very disappointed is the battery life. Its just 3 months of usage and the Battery life has reduced to 98%. This cannot be accepted from a quality product like apple. Not sure what to do on this now. I was using Iphone 5s before and i used that for almost 4 years. But this i am not sure how long i can use with this battery life.\\n\\nPeople, please be careful on this before buying. Ple...\\nREAD MORE',\n",
       " 'Amazing camera quality.',\n",
       " 'Worth the price. Apple is the best.',\n",
       " 'Awesome 👍',\n",
       " \"I can't describe the value of this phone. Apple charge what it deserve. Ultimate camera with multiple features and privacy inbuilt is incomparable. Fast charging system make apple perfect. Display and face reader of this phone is great.\",\n",
       " 'I like it best performance',\n",
       " 'Value for money',\n",
       " 'Giving review after using for 1week , Best product,updated from iPhone 7 to 11',\n",
       " 'Simply super',\n",
       " 'Pros:\\n1.Smooth transition, animations\\n2.sound quality excellent\\n3. Camera is very good\\n\\nCons: No charger included,\\nGesture are not good as android 11\\nHeating in daylight too much\\nNotch is frustrating',\n",
       " 'Camera ,Battery are Good Vibrant display, performance are excellent value for money phone',\n",
       " 'My first iOS mobile awesome',\n",
       " \"Value for money..\\n\\nCamera quality is very good. Battery backup is excellent. I love this product and recommend to all... Just go for it.\\n\\nOnly think is that they don't provide charger in box. While purchasing don't forgot to order Charger\",\n",
       " 'Awesome product by Apple as usual the quality no doubt the quality is up to the mark no much for Apple till now this is my first purchase for iPhone device and I am 101% satisfied with the performance I love it',\n",
       " \"I can't describe the value of this phone. Apple charge what it deserve. Ultimate camera with multiple features and privacy inbuilt is incomparable. Fast charging system make apple perfect. Display and face reader of this phone is great.\",\n",
       " 'I like it best performance',\n",
       " 'Value for money',\n",
       " 'Giving review after using for 1week , Best product,updated from iPhone 7 to 11',\n",
       " 'Simply super',\n",
       " 'Pros:\\n1.Smooth transition, animations\\n2.sound quality excellent\\n3. Camera is very good\\n\\nCons: No charger included,\\nGesture are not good as android 11\\nHeating in daylight too much\\nNotch is frustrating',\n",
       " 'Camera ,Battery are Good Vibrant display, performance are excellent value for money phone',\n",
       " 'My first iOS mobile awesome',\n",
       " \"Value for money..\\n\\nCamera quality is very good. Battery backup is excellent. I love this product and recommend to all... Just go for it.\\n\\nOnly think is that they don't provide charger in box. While purchasing don't forgot to order Charger\",\n",
       " 'Awesome product by Apple as usual the quality no doubt the quality is up to the mark no much for Apple till now this is my first purchase for iPhone device and I am 101% satisfied with the performance I love it',\n",
       " 'Although quality of product build everything is superb but facing heating issue during charging with 20w Apple adopter. Plz suggest what to do.',\n",
       " \"Overall satisfied, but a huge price difference between 64. & 128.. That's not done\",\n",
       " 'Extremely good phone for first time iPhone users. Go for it if you want a robust phone and not wanna run behind silly characteristics. This phone is also awesome for professional use. The camera and battery are too good.',\n",
       " \"Everything's fine but 50k for a phone without an earbuds and adapter ? Like what does Apple wants to prove that they're saving money but cutting our pockets ? Phone is premium no doubt but still this shouldn't cost more than 30k\",\n",
       " 'Good',\n",
       " 'I am writing this review after a week of use\\nFirst thanks to TRUECOMRETAIL (Seller) 100% Genuine\\nThe phone is a BEAST\\nFast smooth and a huge display\\nCamera 5/5\\nDisplay 4/5\\nBattery 5/5 (One and half day Screen time : 8 hrs)\\nPerformance 5/5\\nONLY DISAPPOINTMENT NO ADAPTOR\\nI bought 20W adaptor separately\\nFULL CHARGE = 60 MIN',\n",
       " 'Everything is a perfect value of money',\n",
       " 'I Purchased only 45000 during the big billion days',\n",
       " 'Good product',\n",
       " \"thanku flipkart for sach a original products, fast delivery and good connection, m so happy with my iphone, it's my first iphone,\"]"
      ]
     },
     "execution_count": 87,
     "metadata": {},
     "output_type": "execute_result"
    }
   ],
   "source": [
    "full=[]\n",
    "\n",
    "for i in range(0,10):\n",
    "    fullr=driver.find_elements_by_xpath(\"//div[@class='t-ZTKy']\")\n",
    "    for i in fullr:\n",
    "        s=i.text\n",
    "        full.append(s)\n",
    "    next_page=driver.find_element_by_xpath('/html/body/div[1]/div/div[3]/div/div/div[2]/div[13]/div/div/nav/a[12]')\n",
    "    next_page.click()\n",
    "    time.sleep(5)\n",
    "    \n",
    "full[0:101]"
   ]
  },
  {
   "cell_type": "code",
   "execution_count": 88,
   "id": "3db0d1f9",
   "metadata": {},
   "outputs": [
    {
     "data": {
      "text/plain": [
       "100"
      ]
     },
     "execution_count": 88,
     "metadata": {},
     "output_type": "execute_result"
    }
   ],
   "source": [
    "len(full)"
   ]
  },
  {
   "cell_type": "code",
   "execution_count": 89,
   "id": "a3a7eec4",
   "metadata": {},
   "outputs": [
    {
     "ename": "ValueError",
     "evalue": "Length of values (100) does not match length of index (99)",
     "output_type": "error",
     "traceback": [
      "\u001b[1;31m---------------------------------------------------------------------------\u001b[0m",
      "\u001b[1;31mValueError\u001b[0m                                Traceback (most recent call last)",
      "\u001b[1;32m~\\AppData\\Local\\Temp/ipykernel_3552/3354907754.py\u001b[0m in \u001b[0;36m<module>\u001b[1;34m\u001b[0m\n\u001b[0;32m      2\u001b[0m \u001b[0moutput\u001b[0m\u001b[1;33m=\u001b[0m\u001b[0mpd\u001b[0m\u001b[1;33m.\u001b[0m\u001b[0mDataFrame\u001b[0m\u001b[1;33m(\u001b[0m\u001b[1;33m{\u001b[0m\u001b[1;33m}\u001b[0m\u001b[1;33m)\u001b[0m\u001b[1;33m\u001b[0m\u001b[1;33m\u001b[0m\u001b[0m\n\u001b[0;32m      3\u001b[0m \u001b[0moutput\u001b[0m\u001b[1;33m[\u001b[0m\u001b[1;34m'rating'\u001b[0m\u001b[1;33m]\u001b[0m\u001b[1;33m=\u001b[0m\u001b[0mrate\u001b[0m\u001b[1;33m\u001b[0m\u001b[1;33m\u001b[0m\u001b[0m\n\u001b[1;32m----> 4\u001b[1;33m \u001b[0moutput\u001b[0m\u001b[1;33m[\u001b[0m\u001b[1;34m'summ'\u001b[0m\u001b[1;33m]\u001b[0m\u001b[1;33m=\u001b[0m\u001b[0msummery\u001b[0m\u001b[1;33m\u001b[0m\u001b[1;33m\u001b[0m\u001b[0m\n\u001b[0m\u001b[0;32m      5\u001b[0m \u001b[0moutput\u001b[0m\u001b[1;33m[\u001b[0m\u001b[1;34m'fullr'\u001b[0m\u001b[1;33m]\u001b[0m\u001b[1;33m=\u001b[0m\u001b[0mfull\u001b[0m\u001b[1;33m\u001b[0m\u001b[1;33m\u001b[0m\u001b[0m\n\u001b[0;32m      6\u001b[0m \u001b[1;33m\u001b[0m\u001b[0m\n",
      "\u001b[1;32mC:\\ProgramData\\Anaconda3\\lib\\site-packages\\pandas\\core\\frame.py\u001b[0m in \u001b[0;36m__setitem__\u001b[1;34m(self, key, value)\u001b[0m\n\u001b[0;32m   3610\u001b[0m         \u001b[1;32melse\u001b[0m\u001b[1;33m:\u001b[0m\u001b[1;33m\u001b[0m\u001b[1;33m\u001b[0m\u001b[0m\n\u001b[0;32m   3611\u001b[0m             \u001b[1;31m# set column\u001b[0m\u001b[1;33m\u001b[0m\u001b[1;33m\u001b[0m\u001b[0m\n\u001b[1;32m-> 3612\u001b[1;33m             \u001b[0mself\u001b[0m\u001b[1;33m.\u001b[0m\u001b[0m_set_item\u001b[0m\u001b[1;33m(\u001b[0m\u001b[0mkey\u001b[0m\u001b[1;33m,\u001b[0m \u001b[0mvalue\u001b[0m\u001b[1;33m)\u001b[0m\u001b[1;33m\u001b[0m\u001b[1;33m\u001b[0m\u001b[0m\n\u001b[0m\u001b[0;32m   3613\u001b[0m \u001b[1;33m\u001b[0m\u001b[0m\n\u001b[0;32m   3614\u001b[0m     \u001b[1;32mdef\u001b[0m \u001b[0m_setitem_slice\u001b[0m\u001b[1;33m(\u001b[0m\u001b[0mself\u001b[0m\u001b[1;33m,\u001b[0m \u001b[0mkey\u001b[0m\u001b[1;33m:\u001b[0m \u001b[0mslice\u001b[0m\u001b[1;33m,\u001b[0m \u001b[0mvalue\u001b[0m\u001b[1;33m)\u001b[0m\u001b[1;33m:\u001b[0m\u001b[1;33m\u001b[0m\u001b[1;33m\u001b[0m\u001b[0m\n",
      "\u001b[1;32mC:\\ProgramData\\Anaconda3\\lib\\site-packages\\pandas\\core\\frame.py\u001b[0m in \u001b[0;36m_set_item\u001b[1;34m(self, key, value)\u001b[0m\n\u001b[0;32m   3782\u001b[0m         \u001b[0mensure\u001b[0m \u001b[0mhomogeneity\u001b[0m\u001b[1;33m.\u001b[0m\u001b[1;33m\u001b[0m\u001b[1;33m\u001b[0m\u001b[0m\n\u001b[0;32m   3783\u001b[0m         \"\"\"\n\u001b[1;32m-> 3784\u001b[1;33m         \u001b[0mvalue\u001b[0m \u001b[1;33m=\u001b[0m \u001b[0mself\u001b[0m\u001b[1;33m.\u001b[0m\u001b[0m_sanitize_column\u001b[0m\u001b[1;33m(\u001b[0m\u001b[0mvalue\u001b[0m\u001b[1;33m)\u001b[0m\u001b[1;33m\u001b[0m\u001b[1;33m\u001b[0m\u001b[0m\n\u001b[0m\u001b[0;32m   3785\u001b[0m \u001b[1;33m\u001b[0m\u001b[0m\n\u001b[0;32m   3786\u001b[0m         if (\n",
      "\u001b[1;32mC:\\ProgramData\\Anaconda3\\lib\\site-packages\\pandas\\core\\frame.py\u001b[0m in \u001b[0;36m_sanitize_column\u001b[1;34m(self, value)\u001b[0m\n\u001b[0;32m   4507\u001b[0m \u001b[1;33m\u001b[0m\u001b[0m\n\u001b[0;32m   4508\u001b[0m         \u001b[1;32mif\u001b[0m \u001b[0mis_list_like\u001b[0m\u001b[1;33m(\u001b[0m\u001b[0mvalue\u001b[0m\u001b[1;33m)\u001b[0m\u001b[1;33m:\u001b[0m\u001b[1;33m\u001b[0m\u001b[1;33m\u001b[0m\u001b[0m\n\u001b[1;32m-> 4509\u001b[1;33m             \u001b[0mcom\u001b[0m\u001b[1;33m.\u001b[0m\u001b[0mrequire_length_match\u001b[0m\u001b[1;33m(\u001b[0m\u001b[0mvalue\u001b[0m\u001b[1;33m,\u001b[0m \u001b[0mself\u001b[0m\u001b[1;33m.\u001b[0m\u001b[0mindex\u001b[0m\u001b[1;33m)\u001b[0m\u001b[1;33m\u001b[0m\u001b[1;33m\u001b[0m\u001b[0m\n\u001b[0m\u001b[0;32m   4510\u001b[0m         \u001b[1;32mreturn\u001b[0m \u001b[0msanitize_array\u001b[0m\u001b[1;33m(\u001b[0m\u001b[0mvalue\u001b[0m\u001b[1;33m,\u001b[0m \u001b[0mself\u001b[0m\u001b[1;33m.\u001b[0m\u001b[0mindex\u001b[0m\u001b[1;33m,\u001b[0m \u001b[0mcopy\u001b[0m\u001b[1;33m=\u001b[0m\u001b[1;32mTrue\u001b[0m\u001b[1;33m,\u001b[0m \u001b[0mallow_2d\u001b[0m\u001b[1;33m=\u001b[0m\u001b[1;32mTrue\u001b[0m\u001b[1;33m)\u001b[0m\u001b[1;33m\u001b[0m\u001b[1;33m\u001b[0m\u001b[0m\n\u001b[0;32m   4511\u001b[0m \u001b[1;33m\u001b[0m\u001b[0m\n",
      "\u001b[1;32mC:\\ProgramData\\Anaconda3\\lib\\site-packages\\pandas\\core\\common.py\u001b[0m in \u001b[0;36mrequire_length_match\u001b[1;34m(data, index)\u001b[0m\n\u001b[0;32m    529\u001b[0m     \"\"\"\n\u001b[0;32m    530\u001b[0m     \u001b[1;32mif\u001b[0m \u001b[0mlen\u001b[0m\u001b[1;33m(\u001b[0m\u001b[0mdata\u001b[0m\u001b[1;33m)\u001b[0m \u001b[1;33m!=\u001b[0m \u001b[0mlen\u001b[0m\u001b[1;33m(\u001b[0m\u001b[0mindex\u001b[0m\u001b[1;33m)\u001b[0m\u001b[1;33m:\u001b[0m\u001b[1;33m\u001b[0m\u001b[1;33m\u001b[0m\u001b[0m\n\u001b[1;32m--> 531\u001b[1;33m         raise ValueError(\n\u001b[0m\u001b[0;32m    532\u001b[0m             \u001b[1;34m\"Length of values \"\u001b[0m\u001b[1;33m\u001b[0m\u001b[1;33m\u001b[0m\u001b[0m\n\u001b[0;32m    533\u001b[0m             \u001b[1;34mf\"({len(data)}) \"\u001b[0m\u001b[1;33m\u001b[0m\u001b[1;33m\u001b[0m\u001b[0m\n",
      "\u001b[1;31mValueError\u001b[0m: Length of values (100) does not match length of index (99)"
     ]
    }
   ],
   "source": [
    "import pandas as pd\n",
    "output=pd.DataFrame({})\n",
    "output['rating']=rate\n",
    "output['summ']=summery\n",
    "output['fullr']=full\n",
    "\n",
    "output"
   ]
  },
  {
   "cell_type": "code",
   "execution_count": null,
   "id": "88e47f03",
   "metadata": {},
   "outputs": [],
   "source": [
    "driver.get('https://www.flipkart.com/ ')"
   ]
  },
  {
   "cell_type": "code",
   "execution_count": null,
   "id": "1cba9106",
   "metadata": {},
   "outputs": [],
   "source": [
    "type=driver.find_element_by_class_name(\"_3704LK\")\n",
    "type.send_keys('sneakers')\n"
   ]
  },
  {
   "cell_type": "code",
   "execution_count": null,
   "id": "45a356bb",
   "metadata": {},
   "outputs": [],
   "source": [
    "search=driver.find_element_by_xpath('/html/body/div[1]/div/div[1]/div[1]/div[2]/div[2]/form/div/button')\n",
    "search.click()"
   ]
  },
  {
   "cell_type": "code",
   "execution_count": null,
   "id": "b7ab37f0",
   "metadata": {},
   "outputs": [],
   "source": [
    "brand=[]\n",
    "product=[]\n",
    "price=[]"
   ]
  },
  {
   "cell_type": "code",
   "execution_count": null,
   "id": "da2bbd00",
   "metadata": {},
   "outputs": [],
   "source": [
    "brand=[]\n",
    "\n",
    "for i in range(0,10):\n",
    "    Brand=driver.find_elements_by_xpath(\"//div[@class='_2WkVRV']\")\n",
    "    for i in Brand:\n",
    "        b=i.text\n",
    "        brand.append(b)\n",
    "    next_page=driver.find_element_by_xpath('/html/body/div[1]/div/div[3]/div[1]/div[2]/div[12]/div/div/nav/a[11]')\n",
    "    next_page.click()\n",
    "    time.sleep(2)\n",
    "    \n",
    "brand"
   ]
  },
  {
   "cell_type": "code",
   "execution_count": null,
   "id": "f8ed9ffd",
   "metadata": {},
   "outputs": [],
   "source": [
    "len(brand)"
   ]
  },
  {
   "cell_type": "code",
   "execution_count": null,
   "id": "9aed78bc",
   "metadata": {},
   "outputs": [],
   "source": [
    "product=[]\n",
    "\n",
    "for i in range(0,10):\n",
    "    Product=driver.find_elements_by_xpath(\"//a[@class='IRpwTa _2-ICcC']\")\n",
    "    for i in Product:\n",
    "        p=i.text\n",
    "        product.append(p)\n",
    "    next_page=driver.find_element_by_xpath('/html/body/div[1]/div/div[3]/div[1]/div[2]/div[12]/div/div/nav/a[12]')\n",
    "    next_page.click()\n",
    "    time.sleep(2)\n",
    "    \n",
    "product"
   ]
  },
  {
   "cell_type": "code",
   "execution_count": null,
   "id": "eedc3457",
   "metadata": {},
   "outputs": [],
   "source": [
    "len(product)"
   ]
  },
  {
   "cell_type": "code",
   "execution_count": null,
   "id": "e11c036c",
   "metadata": {},
   "outputs": [],
   "source": []
  }
 ],
 "metadata": {
  "kernelspec": {
   "display_name": "Python 3 (ipykernel)",
   "language": "python",
   "name": "python3"
  },
  "language_info": {
   "codemirror_mode": {
    "name": "ipython",
    "version": 3
   },
   "file_extension": ".py",
   "mimetype": "text/x-python",
   "name": "python",
   "nbconvert_exporter": "python",
   "pygments_lexer": "ipython3",
   "version": "3.9.7"
  }
 },
 "nbformat": 4,
 "nbformat_minor": 5
}
