{
 "cells": [
  {
   "cell_type": "code",
   "execution_count": 2,
   "id": "6c2fdecf",
   "metadata": {},
   "outputs": [],
   "source": [
    "import pandas as pd\n",
    "import matplotlib.pyplot as plt\n",
    "import seaborn as sns\n",
    "from sklearn.model_selection import train_test_split\n",
    "from sklearn.linear_model import LinearRegression\n",
    "from sklearn.linear_model import Lasso\n",
    "from sklearn import metrics"
   ]
  },
  {
   "cell_type": "markdown",
   "id": "08f566dd",
   "metadata": {},
   "source": [
    "Data Collection and Processing \n"
   ]
  },
  {
   "cell_type": "code",
   "execution_count": 19,
   "id": "f802542a",
   "metadata": {},
   "outputs": [
    {
     "data": {
      "text/html": [
       "<div>\n",
       "<style scoped>\n",
       "    .dataframe tbody tr th:only-of-type {\n",
       "        vertical-align: middle;\n",
       "    }\n",
       "\n",
       "    .dataframe tbody tr th {\n",
       "        vertical-align: top;\n",
       "    }\n",
       "\n",
       "    .dataframe thead th {\n",
       "        text-align: right;\n",
       "    }\n",
       "</style>\n",
       "<table border=\"1\" class=\"dataframe\">\n",
       "  <thead>\n",
       "    <tr style=\"text-align: right;\">\n",
       "      <th></th>\n",
       "      <th>Model</th>\n",
       "      <th>Selling_Price</th>\n",
       "      <th>Kilometers_Driven</th>\n",
       "      <th>Year</th>\n",
       "      <th>Owner</th>\n",
       "      <th>Fuel_Type</th>\n",
       "      <th>Transmission</th>\n",
       "      <th>Insurance</th>\n",
       "      <th>Car_Condition</th>\n",
       "    </tr>\n",
       "  </thead>\n",
       "  <tbody>\n",
       "    <tr>\n",
       "      <th>0</th>\n",
       "      <td>MarutiWagonR1.0LXI</td>\n",
       "      <td>312165</td>\n",
       "      <td>82238</td>\n",
       "      <td>2014</td>\n",
       "      <td>First Owner</td>\n",
       "      <td>Petrol + CNG</td>\n",
       "      <td>MANUAL</td>\n",
       "      <td>Expired</td>\n",
       "      <td>4.2</td>\n",
       "    </tr>\n",
       "    <tr>\n",
       "      <th>1</th>\n",
       "      <td>ToyotaEtiosLiva</td>\n",
       "      <td>313799</td>\n",
       "      <td>30558</td>\n",
       "      <td>2013</td>\n",
       "      <td>First Owner</td>\n",
       "      <td>Petrol</td>\n",
       "      <td>MANUAL</td>\n",
       "      <td>12-09-2021</td>\n",
       "      <td>4.4</td>\n",
       "    </tr>\n",
       "    <tr>\n",
       "      <th>2</th>\n",
       "      <td>MarutiAlto800</td>\n",
       "      <td>295999</td>\n",
       "      <td>22164</td>\n",
       "      <td>2018</td>\n",
       "      <td>First Owner</td>\n",
       "      <td>Petrol</td>\n",
       "      <td>MANUAL</td>\n",
       "      <td>01-12-2020</td>\n",
       "      <td>4.8</td>\n",
       "    </tr>\n",
       "    <tr>\n",
       "      <th>3</th>\n",
       "      <td>MarutiSwift</td>\n",
       "      <td>435199</td>\n",
       "      <td>30535</td>\n",
       "      <td>2013</td>\n",
       "      <td>First Owner</td>\n",
       "      <td>Diesel</td>\n",
       "      <td>MANUAL</td>\n",
       "      <td>Comp</td>\n",
       "      <td>4.3</td>\n",
       "    </tr>\n",
       "    <tr>\n",
       "      <th>4</th>\n",
       "      <td>MarutiWagonR1.0</td>\n",
       "      <td>289099</td>\n",
       "      <td>15738</td>\n",
       "      <td>2013</td>\n",
       "      <td>First Owner</td>\n",
       "      <td>Petrol</td>\n",
       "      <td>MANUAL</td>\n",
       "      <td>11-08-2021</td>\n",
       "      <td>4.3</td>\n",
       "    </tr>\n",
       "    <tr>\n",
       "      <th>...</th>\n",
       "      <td>...</td>\n",
       "      <td>...</td>\n",
       "      <td>...</td>\n",
       "      <td>...</td>\n",
       "      <td>...</td>\n",
       "      <td>...</td>\n",
       "      <td>...</td>\n",
       "      <td>...</td>\n",
       "      <td>...</td>\n",
       "    </tr>\n",
       "    <tr>\n",
       "      <th>2232</th>\n",
       "      <td>MarutiWagonR1.0</td>\n",
       "      <td>385999</td>\n",
       "      <td>45263</td>\n",
       "      <td>2015</td>\n",
       "      <td>Second Owner</td>\n",
       "      <td>Petrol</td>\n",
       "      <td>MANUAL</td>\n",
       "      <td>10-06-2021</td>\n",
       "      <td>4.4</td>\n",
       "    </tr>\n",
       "    <tr>\n",
       "      <th>2233</th>\n",
       "      <td>MarutiSwift</td>\n",
       "      <td>324099</td>\n",
       "      <td>100335</td>\n",
       "      <td>2012</td>\n",
       "      <td>Second Owner</td>\n",
       "      <td>Petrol</td>\n",
       "      <td>MANUAL</td>\n",
       "      <td>02-08-2021</td>\n",
       "      <td>4.3</td>\n",
       "    </tr>\n",
       "    <tr>\n",
       "      <th>2234</th>\n",
       "      <td>HyundaiEonD</td>\n",
       "      <td>212299</td>\n",
       "      <td>28016</td>\n",
       "      <td>2011</td>\n",
       "      <td>First Owner</td>\n",
       "      <td>Petrol</td>\n",
       "      <td>MANUAL</td>\n",
       "      <td>Expired</td>\n",
       "      <td>3.2</td>\n",
       "    </tr>\n",
       "    <tr>\n",
       "      <th>2235</th>\n",
       "      <td>FordEcosport1.5AMBIENTE</td>\n",
       "      <td>378899</td>\n",
       "      <td>87947</td>\n",
       "      <td>2013</td>\n",
       "      <td>First Owner</td>\n",
       "      <td>Diesel</td>\n",
       "      <td>MANUAL</td>\n",
       "      <td>03-09-2021</td>\n",
       "      <td>4.2</td>\n",
       "    </tr>\n",
       "    <tr>\n",
       "      <th>2236</th>\n",
       "      <td>MarutiAltoK10</td>\n",
       "      <td>304299</td>\n",
       "      <td>33639</td>\n",
       "      <td>2015</td>\n",
       "      <td>First Owner</td>\n",
       "      <td>Petrol</td>\n",
       "      <td>MANUAL</td>\n",
       "      <td>17-10-2021</td>\n",
       "      <td>4.1</td>\n",
       "    </tr>\n",
       "  </tbody>\n",
       "</table>\n",
       "<p>2237 rows × 9 columns</p>\n",
       "</div>"
      ],
      "text/plain": [
       "                        Model  Selling_Price  Kilometers_Driven  Year  \\\n",
       "0          MarutiWagonR1.0LXI         312165              82238  2014   \n",
       "1             ToyotaEtiosLiva         313799              30558  2013   \n",
       "2               MarutiAlto800         295999              22164  2018   \n",
       "3                 MarutiSwift         435199              30535  2013   \n",
       "4             MarutiWagonR1.0         289099              15738  2013   \n",
       "...                       ...            ...                ...   ...   \n",
       "2232          MarutiWagonR1.0         385999              45263  2015   \n",
       "2233              MarutiSwift         324099             100335  2012   \n",
       "2234              HyundaiEonD         212299              28016  2011   \n",
       "2235  FordEcosport1.5AMBIENTE         378899              87947  2013   \n",
       "2236            MarutiAltoK10         304299              33639  2015   \n",
       "\n",
       "             Owner     Fuel_Type Transmission   Insurance  Car_Condition  \n",
       "0      First Owner  Petrol + CNG       MANUAL     Expired            4.2  \n",
       "1      First Owner        Petrol       MANUAL  12-09-2021            4.4  \n",
       "2      First Owner        Petrol       MANUAL  01-12-2020            4.8  \n",
       "3      First Owner        Diesel       MANUAL        Comp            4.3  \n",
       "4      First Owner        Petrol       MANUAL  11-08-2021            4.3  \n",
       "...            ...           ...          ...         ...            ...  \n",
       "2232  Second Owner        Petrol       MANUAL  10-06-2021            4.4  \n",
       "2233  Second Owner        Petrol       MANUAL  02-08-2021            4.3  \n",
       "2234   First Owner        Petrol       MANUAL     Expired            3.2  \n",
       "2235   First Owner        Diesel       MANUAL  03-09-2021            4.2  \n",
       "2236   First Owner        Petrol       MANUAL  17-10-2021            4.1  \n",
       "\n",
       "[2237 rows x 9 columns]"
      ]
     },
     "execution_count": 19,
     "metadata": {},
     "output_type": "execute_result"
    }
   ],
   "source": [
    "ds=pd.read_csv('car1_data.csv')\n",
    "ds"
   ]
  },
  {
   "cell_type": "code",
   "execution_count": 20,
   "id": "352ff86a",
   "metadata": {},
   "outputs": [
    {
     "data": {
      "text/plain": [
       "(2237, 9)"
      ]
     },
     "execution_count": 20,
     "metadata": {},
     "output_type": "execute_result"
    }
   ],
   "source": [
    "#checking the number of rows and colums\n",
    "ds.shape"
   ]
  },
  {
   "cell_type": "code",
   "execution_count": 21,
   "id": "66bf677c",
   "metadata": {},
   "outputs": [
    {
     "name": "stdout",
     "output_type": "stream",
     "text": [
      "<class 'pandas.core.frame.DataFrame'>\n",
      "RangeIndex: 2237 entries, 0 to 2236\n",
      "Data columns (total 9 columns):\n",
      " #   Column             Non-Null Count  Dtype  \n",
      "---  ------             --------------  -----  \n",
      " 0   Model              2237 non-null   object \n",
      " 1   Selling_Price      2237 non-null   int64  \n",
      " 2   Kilometers_Driven  2237 non-null   int64  \n",
      " 3   Year               2237 non-null   int64  \n",
      " 4   Owner              2237 non-null   object \n",
      " 5   Fuel_Type          2237 non-null   object \n",
      " 6   Transmission       2237 non-null   object \n",
      " 7   Insurance          2223 non-null   object \n",
      " 8   Car_Condition      2237 non-null   float64\n",
      "dtypes: float64(1), int64(3), object(5)\n",
      "memory usage: 157.4+ KB\n"
     ]
    }
   ],
   "source": [
    "#getting information about the dataset \n",
    "ds.info()"
   ]
  },
  {
   "cell_type": "code",
   "execution_count": 22,
   "id": "59009e1d",
   "metadata": {},
   "outputs": [
    {
     "data": {
      "text/plain": [
       "Model                 0\n",
       "Selling_Price         0\n",
       "Kilometers_Driven     0\n",
       "Year                  0\n",
       "Owner                 0\n",
       "Fuel_Type             0\n",
       "Transmission          0\n",
       "Insurance            14\n",
       "Car_Condition         0\n",
       "dtype: int64"
      ]
     },
     "execution_count": 22,
     "metadata": {},
     "output_type": "execute_result"
    }
   ],
   "source": [
    "#checking the number of missing values\n",
    "ds.isnull().sum()"
   ]
  },
  {
   "cell_type": "code",
   "execution_count": 15,
   "id": "74a6bfb5",
   "metadata": {},
   "outputs": [
    {
     "data": {
      "text/plain": [
       "MANUAL       1909\n",
       "AUTOMATIC     170\n",
       "HR26            9\n",
       "MH02            9\n",
       "DL4C            8\n",
       "MH12            8\n",
       "KA05            7\n",
       "MH03            6\n",
       "DL12            6\n",
       "MH04            6\n",
       "KA01            5\n",
       "MH01            5\n",
       "KA03            4\n",
       "MH47            4\n",
       "DL3C            4\n",
       "MH43            4\n",
       "KA50            4\n",
       "KA51            4\n",
       "HR51            4\n",
       "DL5C            4\n",
       "RJ14            3\n",
       "DL8C            3\n",
       "KA04            3\n",
       "KA53            3\n",
       "TS07            3\n",
       "GJ27            3\n",
       "MH14            2\n",
       "DL2C            2\n",
       "UP32            2\n",
       "TS08            2\n",
       "MH05            2\n",
       "KA02            2\n",
       "UP14            2\n",
       "PB11            1\n",
       "DL11            1\n",
       "HR05            1\n",
       "TS09            1\n",
       "TN12            1\n",
       "PB10            1\n",
       "GJ06            1\n",
       "DL14            1\n",
       "HR12            1\n",
       "DL1C            1\n",
       "Ch01            1\n",
       "HR03            1\n",
       "UP78            1\n",
       "MH46            1\n",
       "TN06            1\n",
       "DL9C            1\n",
       "GJ01            1\n",
       "GJ05            1\n",
       "DL10            1\n",
       "HR29            1\n",
       "GJ18            1\n",
       "TN02            1\n",
       "PB91            1\n",
       "TN22            1\n",
       "RJ45            1\n",
       "Name: Transmission, dtype: int64"
      ]
     },
     "execution_count": 15,
     "metadata": {},
     "output_type": "execute_result"
    }
   ],
   "source": [
    "#checking the distribution of catagorical data\n",
    "ds.Transmission.value_counts()\n"
   ]
  },
  {
   "cell_type": "code",
   "execution_count": 23,
   "id": "216d78ed",
   "metadata": {},
   "outputs": [
    {
     "data": {
      "text/plain": [
       "Petrol          1384\n",
       "Diesel           686\n",
       "Petrol + CNG     158\n",
       "Petrol + LPG       9\n",
       "Name: Fuel_Type, dtype: int64"
      ]
     },
     "execution_count": 23,
     "metadata": {},
     "output_type": "execute_result"
    }
   ],
   "source": [
    "ds.Fuel_Type.value_counts()"
   ]
  },
  {
   "cell_type": "code",
   "execution_count": 24,
   "id": "35b318c1",
   "metadata": {},
   "outputs": [
    {
     "data": {
      "text/plain": [
       "First Owner     1707\n",
       "Second Owner     452\n",
       "Third Owner       78\n",
       "Name: Owner, dtype: int64"
      ]
     },
     "execution_count": 24,
     "metadata": {},
     "output_type": "execute_result"
    }
   ],
   "source": [
    "ds.Owner.value_counts()"
   ]
  },
  {
   "cell_type": "markdown",
   "id": "8c5e0599",
   "metadata": {},
   "source": [
    "   Encoding the Categorical Data"
   ]
  },
  {
   "cell_type": "code",
   "execution_count": 27,
   "id": "a6ba8661",
   "metadata": {},
   "outputs": [],
   "source": [
    "#encoding 'Fuel_Type' column\n",
    "ds.replace({'Owner':{'First Owner':0,'Second Owner':1,'Third Owner':2}},inplace=True )"
   ]
  },
  {
   "cell_type": "code",
   "execution_count": 28,
   "id": "40a593c4",
   "metadata": {},
   "outputs": [],
   "source": [
    "ds.replace({'Fuel_Type':{'Petrol':0,'Diesel':1,'Petrol + CNG':2,'Petrol + LPG':3}},inplace=True)"
   ]
  },
  {
   "cell_type": "code",
   "execution_count": 29,
   "id": "8277cc72",
   "metadata": {},
   "outputs": [],
   "source": [
    "ds.replace({'Transmission':{'MANUAL':0,'AUTOMATIC':1}},inplace=True)"
   ]
  },
  {
   "cell_type": "code",
   "execution_count": 30,
   "id": "24731ff1",
   "metadata": {},
   "outputs": [
    {
     "data": {
      "text/html": [
       "<div>\n",
       "<style scoped>\n",
       "    .dataframe tbody tr th:only-of-type {\n",
       "        vertical-align: middle;\n",
       "    }\n",
       "\n",
       "    .dataframe tbody tr th {\n",
       "        vertical-align: top;\n",
       "    }\n",
       "\n",
       "    .dataframe thead th {\n",
       "        text-align: right;\n",
       "    }\n",
       "</style>\n",
       "<table border=\"1\" class=\"dataframe\">\n",
       "  <thead>\n",
       "    <tr style=\"text-align: right;\">\n",
       "      <th></th>\n",
       "      <th>Model</th>\n",
       "      <th>Selling_Price</th>\n",
       "      <th>Kilometers_Driven</th>\n",
       "      <th>Year</th>\n",
       "      <th>Owner</th>\n",
       "      <th>Fuel_Type</th>\n",
       "      <th>Transmission</th>\n",
       "      <th>Insurance</th>\n",
       "      <th>Car_Condition</th>\n",
       "    </tr>\n",
       "  </thead>\n",
       "  <tbody>\n",
       "    <tr>\n",
       "      <th>0</th>\n",
       "      <td>MarutiWagonR1.0LXI</td>\n",
       "      <td>312165</td>\n",
       "      <td>82238</td>\n",
       "      <td>2014</td>\n",
       "      <td>0</td>\n",
       "      <td>2</td>\n",
       "      <td>0</td>\n",
       "      <td>Expired</td>\n",
       "      <td>4.2</td>\n",
       "    </tr>\n",
       "    <tr>\n",
       "      <th>1</th>\n",
       "      <td>ToyotaEtiosLiva</td>\n",
       "      <td>313799</td>\n",
       "      <td>30558</td>\n",
       "      <td>2013</td>\n",
       "      <td>0</td>\n",
       "      <td>0</td>\n",
       "      <td>0</td>\n",
       "      <td>12-09-2021</td>\n",
       "      <td>4.4</td>\n",
       "    </tr>\n",
       "    <tr>\n",
       "      <th>2</th>\n",
       "      <td>MarutiAlto800</td>\n",
       "      <td>295999</td>\n",
       "      <td>22164</td>\n",
       "      <td>2018</td>\n",
       "      <td>0</td>\n",
       "      <td>0</td>\n",
       "      <td>0</td>\n",
       "      <td>01-12-2020</td>\n",
       "      <td>4.8</td>\n",
       "    </tr>\n",
       "    <tr>\n",
       "      <th>3</th>\n",
       "      <td>MarutiSwift</td>\n",
       "      <td>435199</td>\n",
       "      <td>30535</td>\n",
       "      <td>2013</td>\n",
       "      <td>0</td>\n",
       "      <td>1</td>\n",
       "      <td>0</td>\n",
       "      <td>Comp</td>\n",
       "      <td>4.3</td>\n",
       "    </tr>\n",
       "    <tr>\n",
       "      <th>4</th>\n",
       "      <td>MarutiWagonR1.0</td>\n",
       "      <td>289099</td>\n",
       "      <td>15738</td>\n",
       "      <td>2013</td>\n",
       "      <td>0</td>\n",
       "      <td>0</td>\n",
       "      <td>0</td>\n",
       "      <td>11-08-2021</td>\n",
       "      <td>4.3</td>\n",
       "    </tr>\n",
       "    <tr>\n",
       "      <th>...</th>\n",
       "      <td>...</td>\n",
       "      <td>...</td>\n",
       "      <td>...</td>\n",
       "      <td>...</td>\n",
       "      <td>...</td>\n",
       "      <td>...</td>\n",
       "      <td>...</td>\n",
       "      <td>...</td>\n",
       "      <td>...</td>\n",
       "    </tr>\n",
       "    <tr>\n",
       "      <th>2232</th>\n",
       "      <td>MarutiWagonR1.0</td>\n",
       "      <td>385999</td>\n",
       "      <td>45263</td>\n",
       "      <td>2015</td>\n",
       "      <td>1</td>\n",
       "      <td>0</td>\n",
       "      <td>0</td>\n",
       "      <td>10-06-2021</td>\n",
       "      <td>4.4</td>\n",
       "    </tr>\n",
       "    <tr>\n",
       "      <th>2233</th>\n",
       "      <td>MarutiSwift</td>\n",
       "      <td>324099</td>\n",
       "      <td>100335</td>\n",
       "      <td>2012</td>\n",
       "      <td>1</td>\n",
       "      <td>0</td>\n",
       "      <td>0</td>\n",
       "      <td>02-08-2021</td>\n",
       "      <td>4.3</td>\n",
       "    </tr>\n",
       "    <tr>\n",
       "      <th>2234</th>\n",
       "      <td>HyundaiEonD</td>\n",
       "      <td>212299</td>\n",
       "      <td>28016</td>\n",
       "      <td>2011</td>\n",
       "      <td>0</td>\n",
       "      <td>0</td>\n",
       "      <td>0</td>\n",
       "      <td>Expired</td>\n",
       "      <td>3.2</td>\n",
       "    </tr>\n",
       "    <tr>\n",
       "      <th>2235</th>\n",
       "      <td>FordEcosport1.5AMBIENTE</td>\n",
       "      <td>378899</td>\n",
       "      <td>87947</td>\n",
       "      <td>2013</td>\n",
       "      <td>0</td>\n",
       "      <td>1</td>\n",
       "      <td>0</td>\n",
       "      <td>03-09-2021</td>\n",
       "      <td>4.2</td>\n",
       "    </tr>\n",
       "    <tr>\n",
       "      <th>2236</th>\n",
       "      <td>MarutiAltoK10</td>\n",
       "      <td>304299</td>\n",
       "      <td>33639</td>\n",
       "      <td>2015</td>\n",
       "      <td>0</td>\n",
       "      <td>0</td>\n",
       "      <td>0</td>\n",
       "      <td>17-10-2021</td>\n",
       "      <td>4.1</td>\n",
       "    </tr>\n",
       "  </tbody>\n",
       "</table>\n",
       "<p>2237 rows × 9 columns</p>\n",
       "</div>"
      ],
      "text/plain": [
       "                        Model  Selling_Price  Kilometers_Driven  Year  Owner  \\\n",
       "0          MarutiWagonR1.0LXI         312165              82238  2014      0   \n",
       "1             ToyotaEtiosLiva         313799              30558  2013      0   \n",
       "2               MarutiAlto800         295999              22164  2018      0   \n",
       "3                 MarutiSwift         435199              30535  2013      0   \n",
       "4             MarutiWagonR1.0         289099              15738  2013      0   \n",
       "...                       ...            ...                ...   ...    ...   \n",
       "2232          MarutiWagonR1.0         385999              45263  2015      1   \n",
       "2233              MarutiSwift         324099             100335  2012      1   \n",
       "2234              HyundaiEonD         212299              28016  2011      0   \n",
       "2235  FordEcosport1.5AMBIENTE         378899              87947  2013      0   \n",
       "2236            MarutiAltoK10         304299              33639  2015      0   \n",
       "\n",
       "      Fuel_Type Transmission   Insurance  Car_Condition  \n",
       "0             2            0     Expired            4.2  \n",
       "1             0            0  12-09-2021            4.4  \n",
       "2             0            0  01-12-2020            4.8  \n",
       "3             1            0        Comp            4.3  \n",
       "4             0            0  11-08-2021            4.3  \n",
       "...         ...          ...         ...            ...  \n",
       "2232          0            0  10-06-2021            4.4  \n",
       "2233          0            0  02-08-2021            4.3  \n",
       "2234          0            0     Expired            3.2  \n",
       "2235          1            0  03-09-2021            4.2  \n",
       "2236          0            0  17-10-2021            4.1  \n",
       "\n",
       "[2237 rows x 9 columns]"
      ]
     },
     "execution_count": 30,
     "metadata": {},
     "output_type": "execute_result"
    }
   ],
   "source": [
    "ds"
   ]
  },
  {
   "cell_type": "markdown",
   "id": "d5edd197",
   "metadata": {},
   "source": [
    "Spliting data into Training data and Test data"
   ]
  },
  {
   "cell_type": "code",
   "execution_count": 43,
   "id": "a5e63529",
   "metadata": {},
   "outputs": [],
   "source": [
    "X=ds.drop(['Model','Selling_Price','Insurance','Transmission'],axis=1)\n",
    "Y=ds.Selling_Price\n",
    "Z=ds.Insurance\n",
    "A=ds.Transmission"
   ]
  },
  {
   "cell_type": "code",
   "execution_count": 44,
   "id": "42ef9c1a",
   "metadata": {},
   "outputs": [
    {
     "data": {
      "text/html": [
       "<div>\n",
       "<style scoped>\n",
       "    .dataframe tbody tr th:only-of-type {\n",
       "        vertical-align: middle;\n",
       "    }\n",
       "\n",
       "    .dataframe tbody tr th {\n",
       "        vertical-align: top;\n",
       "    }\n",
       "\n",
       "    .dataframe thead th {\n",
       "        text-align: right;\n",
       "    }\n",
       "</style>\n",
       "<table border=\"1\" class=\"dataframe\">\n",
       "  <thead>\n",
       "    <tr style=\"text-align: right;\">\n",
       "      <th></th>\n",
       "      <th>Kilometers_Driven</th>\n",
       "      <th>Year</th>\n",
       "      <th>Owner</th>\n",
       "      <th>Fuel_Type</th>\n",
       "      <th>Car_Condition</th>\n",
       "    </tr>\n",
       "  </thead>\n",
       "  <tbody>\n",
       "    <tr>\n",
       "      <th>0</th>\n",
       "      <td>82238</td>\n",
       "      <td>2014</td>\n",
       "      <td>0</td>\n",
       "      <td>2</td>\n",
       "      <td>4.2</td>\n",
       "    </tr>\n",
       "    <tr>\n",
       "      <th>1</th>\n",
       "      <td>30558</td>\n",
       "      <td>2013</td>\n",
       "      <td>0</td>\n",
       "      <td>0</td>\n",
       "      <td>4.4</td>\n",
       "    </tr>\n",
       "    <tr>\n",
       "      <th>2</th>\n",
       "      <td>22164</td>\n",
       "      <td>2018</td>\n",
       "      <td>0</td>\n",
       "      <td>0</td>\n",
       "      <td>4.8</td>\n",
       "    </tr>\n",
       "    <tr>\n",
       "      <th>3</th>\n",
       "      <td>30535</td>\n",
       "      <td>2013</td>\n",
       "      <td>0</td>\n",
       "      <td>1</td>\n",
       "      <td>4.3</td>\n",
       "    </tr>\n",
       "    <tr>\n",
       "      <th>4</th>\n",
       "      <td>15738</td>\n",
       "      <td>2013</td>\n",
       "      <td>0</td>\n",
       "      <td>0</td>\n",
       "      <td>4.3</td>\n",
       "    </tr>\n",
       "    <tr>\n",
       "      <th>...</th>\n",
       "      <td>...</td>\n",
       "      <td>...</td>\n",
       "      <td>...</td>\n",
       "      <td>...</td>\n",
       "      <td>...</td>\n",
       "    </tr>\n",
       "    <tr>\n",
       "      <th>2232</th>\n",
       "      <td>45263</td>\n",
       "      <td>2015</td>\n",
       "      <td>1</td>\n",
       "      <td>0</td>\n",
       "      <td>4.4</td>\n",
       "    </tr>\n",
       "    <tr>\n",
       "      <th>2233</th>\n",
       "      <td>100335</td>\n",
       "      <td>2012</td>\n",
       "      <td>1</td>\n",
       "      <td>0</td>\n",
       "      <td>4.3</td>\n",
       "    </tr>\n",
       "    <tr>\n",
       "      <th>2234</th>\n",
       "      <td>28016</td>\n",
       "      <td>2011</td>\n",
       "      <td>0</td>\n",
       "      <td>0</td>\n",
       "      <td>3.2</td>\n",
       "    </tr>\n",
       "    <tr>\n",
       "      <th>2235</th>\n",
       "      <td>87947</td>\n",
       "      <td>2013</td>\n",
       "      <td>0</td>\n",
       "      <td>1</td>\n",
       "      <td>4.2</td>\n",
       "    </tr>\n",
       "    <tr>\n",
       "      <th>2236</th>\n",
       "      <td>33639</td>\n",
       "      <td>2015</td>\n",
       "      <td>0</td>\n",
       "      <td>0</td>\n",
       "      <td>4.1</td>\n",
       "    </tr>\n",
       "  </tbody>\n",
       "</table>\n",
       "<p>2237 rows × 5 columns</p>\n",
       "</div>"
      ],
      "text/plain": [
       "      Kilometers_Driven  Year  Owner  Fuel_Type  Car_Condition\n",
       "0                 82238  2014      0          2            4.2\n",
       "1                 30558  2013      0          0            4.4\n",
       "2                 22164  2018      0          0            4.8\n",
       "3                 30535  2013      0          1            4.3\n",
       "4                 15738  2013      0          0            4.3\n",
       "...                 ...   ...    ...        ...            ...\n",
       "2232              45263  2015      1          0            4.4\n",
       "2233             100335  2012      1          0            4.3\n",
       "2234              28016  2011      0          0            3.2\n",
       "2235              87947  2013      0          1            4.2\n",
       "2236              33639  2015      0          0            4.1\n",
       "\n",
       "[2237 rows x 5 columns]"
      ]
     },
     "execution_count": 44,
     "metadata": {},
     "output_type": "execute_result"
    }
   ],
   "source": [
    "X"
   ]
  },
  {
   "cell_type": "code",
   "execution_count": 45,
   "id": "c1c2d881",
   "metadata": {},
   "outputs": [
    {
     "data": {
      "text/plain": [
       "0       312165\n",
       "1       313799\n",
       "2       295999\n",
       "3       435199\n",
       "4       289099\n",
       "         ...  \n",
       "2232    385999\n",
       "2233    324099\n",
       "2234    212299\n",
       "2235    378899\n",
       "2236    304299\n",
       "Name: Selling_Price, Length: 2237, dtype: int64"
      ]
     },
     "execution_count": 45,
     "metadata": {},
     "output_type": "execute_result"
    }
   ],
   "source": [
    "Y"
   ]
  },
  {
   "cell_type": "code",
   "execution_count": 46,
   "id": "a5d535f0",
   "metadata": {},
   "outputs": [
    {
     "data": {
      "text/plain": [
       "0          Expired\n",
       "1       12-09-2021\n",
       "2       01-12-2020\n",
       "3             Comp\n",
       "4       11-08-2021\n",
       "           ...    \n",
       "2232    10-06-2021\n",
       "2233    02-08-2021\n",
       "2234       Expired\n",
       "2235    03-09-2021\n",
       "2236    17-10-2021\n",
       "Name: Insurance, Length: 2237, dtype: object"
      ]
     },
     "execution_count": 46,
     "metadata": {},
     "output_type": "execute_result"
    }
   ],
   "source": [
    "Z"
   ]
  },
  {
   "cell_type": "code",
   "execution_count": 47,
   "id": "03c46b13",
   "metadata": {},
   "outputs": [],
   "source": [
    "X_train, X_test, Y_train, Y_test=train_test_split(X,Y,test_size=0.1,random_state=2)"
   ]
  },
  {
   "cell_type": "markdown",
   "id": "49a364ff",
   "metadata": {},
   "source": [
    "Model Training "
   ]
  },
  {
   "cell_type": "code",
   "execution_count": 48,
   "id": "bd3d4bd7",
   "metadata": {},
   "outputs": [],
   "source": [
    "#load linear regression model\n",
    "lin_reg_model=LinearRegression()"
   ]
  },
  {
   "cell_type": "code",
   "execution_count": 49,
   "id": "fcf8b923",
   "metadata": {},
   "outputs": [
    {
     "data": {
      "text/plain": [
       "LinearRegression()"
      ]
     },
     "execution_count": 49,
     "metadata": {},
     "output_type": "execute_result"
    }
   ],
   "source": [
    "lin_reg_model.fit(X_train,Y_train)"
   ]
  },
  {
   "cell_type": "markdown",
   "id": "09052173",
   "metadata": {},
   "source": [
    "Model Evaluation"
   ]
  },
  {
   "cell_type": "code",
   "execution_count": 50,
   "id": "7e13f33d",
   "metadata": {},
   "outputs": [
    {
     "name": "stdout",
     "output_type": "stream",
     "text": [
      "R Squared Error :  0.3601336871375733\n"
     ]
    }
   ],
   "source": [
    "#prediction of training data\n",
    "training_data_prediction=lin_reg_model.predict(X_train)\n",
    "error_score=metrics.r2_score(Y_train,training_data_prediction)\n",
    "print(\"R Squared Error : \",error_score)"
   ]
  },
  {
   "cell_type": "markdown",
   "id": "7fd362a3",
   "metadata": {},
   "source": [
    "Visualize of actual and predicted prices"
   ]
  },
  {
   "cell_type": "code",
   "execution_count": 51,
   "id": "f1a6a031",
   "metadata": {},
   "outputs": [
    {
     "data": {
      "image/png": "[encoded data removed]",
      "text/plain": [
       "<Figure size 432x288 with 1 Axes>"
      ]
     },
     "metadata": {
      "needs_background": "light"
     },
     "output_type": "display_data"
    }
   ],
   "source": [
    "plt.scatter(Y_train,training_data_prediction)\n",
    "plt.xlabel=('Actual Price')\n",
    "plt.ylabel('Predicted Price')\n",
    "plt.title('Actual vs Predicted')\n",
    "plt.show()"
   ]
  },
  {
   "cell_type": "code",
   "execution_count": 52,
   "id": "dbc39edc",
   "metadata": {},
   "outputs": [
    {
     "name": "stdout",
     "output_type": "stream",
     "text": [
      "R Squared Error :  0.2972611964059656\n"
     ]
    }
   ],
   "source": [
    "training_data_prediction=lin_reg_model.predict(X_test)\n",
    "error_score=metrics.r2_score(Y_test,training_data_prediction)\n",
    "print(\"R Squared Error : \",error_score)"
   ]
  },
  {
   "cell_type": "code",
   "execution_count": 53,
   "id": "6bbbdc54",
   "metadata": {},
   "outputs": [
    {
     "data": {
      "image/png": "[encoded data removed]",
      "text/plain": [
       "<Figure size 432x288 with 1 Axes>"
      ]
     },
     "metadata": {
      "needs_background": "light"
     },
     "output_type": "display_data"
    }
   ],
   "source": [
    "plt.scatter(Y_test,training_data_prediction)\n",
    "plt.xlabel=('Actual Price')\n",
    "plt.ylabel('Predicted Price')\n",
    "plt.title('Actual vs Predicted')\n",
    "plt.show()"
   ]
  },
  {
   "cell_type": "markdown",
   "id": "3cd323c0",
   "metadata": {},
   "source": [
    "Lasso Regression "
   ]
  },
  {
   "cell_type": "code",
   "execution_count": 54,
   "id": "89e0ca27",
   "metadata": {},
   "outputs": [
    {
     "data": {
      "text/plain": [
       "Lasso()"
      ]
     },
     "execution_count": 54,
     "metadata": {},
     "output_type": "execute_result"
    }
   ],
   "source": [
    "las_reg_model=Lasso()\n",
    "las_reg_model.fit(X_train,Y_train)"
   ]
  },
  {
   "cell_type": "code",
   "execution_count": 55,
   "id": "4f63d57c",
   "metadata": {},
   "outputs": [
    {
     "name": "stdout",
     "output_type": "stream",
     "text": [
      "R Squared Error :  0.3601336866522131\n"
     ]
    }
   ],
   "source": [
    "training_data_prediction=las_reg_model.predict(X_train)\n",
    "error_score=metrics.r2_score(Y_train,training_data_prediction)\n",
    "print(\"R Squared Error : \",error_score)"
   ]
  },
  {
   "cell_type": "code",
   "execution_count": 56,
   "id": "c7d9cd72",
   "metadata": {},
   "outputs": [
    {
     "data": {
      "image/png": "[encoded data removed]",
      "text/plain": [
       "<Figure size 432x288 with 1 Axes>"
      ]
     },
     "metadata": {
      "needs_background": "light"
     },
     "output_type": "display_data"
    }
   ],
   "source": [
    "plt.scatter(Y_train,training_data_prediction)\n",
    "plt.xlabel=('Actual Price')\n",
    "plt.ylabel('Predicted Price')\n",
    "plt.title('Actual vs Predicted')\n",
    "plt.show()"
   ]
  },
  {
   "cell_type": "code",
   "execution_count": 57,
   "id": "c900d99b",
   "metadata": {},
   "outputs": [
    {
     "name": "stdout",
     "output_type": "stream",
     "text": [
      "R Squared Error :  0.297263491653333\n"
     ]
    }
   ],
   "source": [
    "training_data_prediction=las_reg_model.predict(X_test)\n",
    "error_score=metrics.r2_score(Y_test,training_data_prediction)\n",
    "print(\"R Squared Error : \",error_score)"
   ]
  },
  {
   "cell_type": "code",
   "execution_count": 58,
   "id": "f170e931",
   "metadata": {},
   "outputs": [
    {
     "data": {
      "image/png": "[encoded data removed]",
      "text/plain": [
       "<Figure size 432x288 with 1 Axes>"
      ]
     },
     "metadata": {
      "needs_background": "light"
     },
     "output_type": "display_data"
    }
   ],
   "source": [
    "plt.scatter(Y_test,training_data_prediction)\n",
    "plt.xlabel=('Actual Price')\n",
    "plt.ylabel('Predicted Price')\n",
    "plt.title('Actual vs Predicted')\n",
    "plt.show()"
   ]
  },
  {
   "cell_type": "code",
   "execution_count": null,
   "id": "1a6b82e8",
   "metadata": {},
   "outputs": [],
   "source": []
  }
 ],
 "metadata": {
  "kernelspec": {
   "display_name": "Python 3 (ipykernel)",
   "language": "python",
   "name": "python3"
  },
  "language_info": {
   "codemirror_mode": {
    "name": "ipython",
    "version": 3
   },
   "file_extension": ".py",
   "mimetype": "text/x-python",
   "name": "python",
   "nbconvert_exporter": "python",
   "pygments_lexer": "ipython3",
   "version": "3.9.7"
  }
 },
 "nbformat": 4,
 "nbformat_minor": 5
}
